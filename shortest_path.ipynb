{
 "cells": [
  {
   "cell_type": "code",
   "execution_count": 5,
   "metadata": {},
   "outputs": [],
   "source": [
    "INF = 1e9\n",
    "n, m = 6, 11\n",
    "start = 1\n",
    "graph = [[0] * (n+1) for _ in range(n+1)]\n",
    "graph[1][1], graph[1][2], graph[1][3], graph[1][4], graph[1][5], graph[1][6] = 0, 2, 5, 1, INF, INF\n",
    "graph[2][1], graph[2][2], graph[2][3], graph[2][4], graph[2][5], graph[2][6] = INF, 0, 3, 2, INF, INF\n",
    "graph[3][1], graph[3][2], graph[3][3], graph[3][4], graph[3][5], graph[3][6] = INF, 3, 0, INF, INF, 5\n",
    "graph[4][1], graph[4][2], graph[4][3], graph[4][4], graph[4][5], graph[4][6] = INF, INF, 3, 0, 1, INF\n",
    "graph[5][1], graph[5][2], graph[5][3], graph[5][4], graph[5][5], graph[5][6] = INF, INF, 1, INF, 0, 2\n",
    "graph[6][1], graph[6][2], graph[6][3], graph[6][4], graph[6][5], graph[6][6] = INF, INF, INF, INF, INF, 0\n",
    "\n",
    "# import sys\n",
    "# input = sys.stdin.readline\n",
    "# INF = int(INF)\n",
    "\n",
    "# n, m = map(int, input().split())\n",
    "# start = int (input())\n",
    "\n",
    "# for _ in range(n):\n",
    "#     s, e, cost = map(int, input().split())"
   ]
  },
  {
   "cell_type": "code",
   "execution_count": 8,
   "metadata": {},
   "outputs": [
    {
     "name": "stdout",
     "output_type": "stream",
     "text": [
      "[1000000000.0, 0, 2, 3, 1, 2, 4]\n"
     ]
    }
   ],
   "source": [
    "#간단한 다엑스트라\n",
    "visited = [False] * (n+1)\n",
    "distance = [INF] * (n+1)\n",
    "\n",
    "def find_smallest_index():\n",
    "    smallest = INF\n",
    "    smallest_index = 0\n",
    "    for i in range(1,n+1):\n",
    "        if visited[i]:\n",
    "            continue\n",
    "        if distance[i] < smallest:\n",
    "            smallest_index = i\n",
    "            smallest = distance[i]\n",
    "    return smallest_index\n",
    "\n",
    "for i in range(1, n+1):\n",
    "    distance[i] = graph[start][i]\n",
    "distance[start] = 0\n",
    "visited[start] = True\n",
    "\n",
    "for i in range(1, n):\n",
    "    index = find_smallest_index()\n",
    "    visited[index] = True\n",
    "\n",
    "    for j in range(1, n+1):\n",
    "        if distance[j] > distance[index] + graph[index][j]:\n",
    "            distance[j] = distance[index] + graph[index][j]\n",
    "\n",
    "print(distance)"
   ]
  },
  {
   "cell_type": "code",
   "execution_count": 4,
   "metadata": {},
   "outputs": [
    {
     "name": "stdout",
     "output_type": "stream",
     "text": [
      "[1, 2, 7, 4, 3]\n",
      "1\n",
      "[2, 3, 7, 4]\n",
      "2\n",
      "[2, 3, 7, 4]\n"
     ]
    }
   ],
   "source": [
    "import heapq\n",
    "\n",
    "heap = []\n",
    "heapq.heappush(heap, 4)\n",
    "heapq.heappush(heap, 1)\n",
    "heapq.heappush(heap, 7)\n",
    "heapq.heappush(heap, 2)\n",
    "heapq.heappush(heap, 3)\n",
    "print(heap)\n",
    "\n",
    "print(heapq.heappop(heap))\n",
    "print(heap)\n",
    "\n",
    "print(heap[0])\n",
    "print(heap)"
   ]
  },
  {
   "cell_type": "code",
   "execution_count": 7,
   "metadata": {},
   "outputs": [
    {
     "name": "stdout",
     "output_type": "stream",
     "text": [
      "[1000000000.0, 0, 2, 3, 1, 2, 4]\n"
     ]
    }
   ],
   "source": [
    "#우선순위 큐 다엑스트라\n",
    "import heapq\n",
    "\n",
    "DISTANCE = 0\n",
    "NODE = 1\n",
    "heap = []\n",
    "distance = [INF] * (n+1)\n",
    "visited = [False] * (n+1)\n",
    "\n",
    "distance[start] = 0\n",
    "heapq.heappush(heap, (distance[start], start))\n",
    "\n",
    "while heap:\n",
    "    now = heapq.heappop(heap)\n",
    "\n",
    "    if visited[now[NODE]]:\n",
    "        continue\n",
    "    visited[now[NODE]] = True\n",
    "\n",
    "    for i in range(1, n+1):\n",
    "        go_through = now[DISTANCE] + graph[now[NODE]][i]\n",
    "        if distance[i] > go_through:\n",
    "            distance[i] = go_through\n",
    "            heapq.heappush(heap, (distance[i], i))\n",
    "\n",
    "print(distance)"
   ]
  },
  {
   "cell_type": "code",
   "execution_count": 11,
   "metadata": {},
   "outputs": [
    {
     "name": "stdout",
     "output_type": "stream",
     "text": [
      "0 4 8 6 \n",
      "3 0 7 9 \n",
      "5 9 0 4 \n",
      "7 11 2 0 \n"
     ]
    }
   ],
   "source": [
    "#플로이드 워셜\n",
    "INF = 1e9\n",
    "n, m = 4, 7\n",
    "graph = [[0] * (n+1) for _ in range(n+1)]\n",
    "graph[1][1], graph[1][2], graph[1][3], graph[1][4] = 0, 4, INF, 6\n",
    "graph[2][1], graph[2][2], graph[2][3], graph[2][4] = 3, 0, 7, INF\n",
    "graph[3][1], graph[3][2], graph[3][3], graph[3][4] = 5, INF, 0, 4\n",
    "graph[4][1], graph[4][2], graph[4][3], graph[4][4] = INF, INF, 2, 0\n",
    "\n",
    "for path_node in range(1, n+1):\n",
    "    for start in range(1, n+1):\n",
    "        for end in range(1, n+1):\n",
    "            if start == end:\n",
    "                continue\n",
    "            \n",
    "            graph[start][end] = min(graph[start][end], graph[start][path_node]+graph[path_node][end])\n",
    "\n",
    "\n",
    "for col in graph[1:]:\n",
    "    for row in col[1:]:\n",
    "        if row == INF:\n",
    "            print(\"INF\", end=\" \")\n",
    "        else:\n",
    "            print(row, end=\" \")\n",
    "    print()"
   ]
  },
  {
   "cell_type": "code",
   "execution_count": 4,
   "metadata": {},
   "outputs": [
    {
     "name": "stdout",
     "output_type": "stream",
     "text": [
      "-1\n"
     ]
    }
   ],
   "source": [
    "#미래도시\n",
    "#16:28 ~ 16:46\n",
    "import heapq\n",
    "# input = sys.stdin.readline\n",
    "\n",
    "INF = 1e9\n",
    "\n",
    "n, m = map(int, input().split())\n",
    "graph = [[INF] * (n+1) for _ in range(n+1)]\n",
    "for i in range(1,m+1):\n",
    "    a, b = map(int, input().split())\n",
    "    graph[a][b] = 1\n",
    "    graph[b][a] = 1\n",
    "x, k = map(int ,input().split())\n",
    "\n",
    "heap = []\n",
    "start_node = 1\n",
    "visited = [False] * (n+1)\n",
    "distance = [INF] * (n+1)\n",
    "distance[start_node] = 0\n",
    "heapq.heappush(heap, (distance[start_node], start_node))\n",
    "\n",
    "for i in range(1, n+1):\n",
    "    for start in range(1, n+1):\n",
    "        for end in range(1, n+1):\n",
    "            if start == end:\n",
    "                continue\n",
    "            graph[start][end] = min(graph[start][end], graph[start][i] + graph[i][end])\n",
    "\n",
    "cost = graph[start_node][k]+graph[k][x]\n",
    "if cost < INF:\n",
    "    print(cost)\n",
    "else:\n",
    "    print(-1)\n",
    "\n",
    "#아래 코드는 다엑스트라인데 소개팅 장소에서 미팅 장소까지 가야하는 것을 나타낼 수는 없으니 아닌듯함\n",
    "# while heap:\n",
    "#     dist, node = heapq.heappop(heap)\n",
    "    \n",
    "#     if visited[node]:\n",
    "#         continue\n",
    "#     visited[node] = True\n",
    "\n",
    "#     for i in range(1, n+1):\n",
    "#         go_through = distance[node] + graph[node][i]\n",
    "#         if distance[i] > go_through:\n",
    "#             distance[i] = go_through\n",
    "#             heapq.heappush(heap, (distance[i], i))\n",
    "# print(distance[])"
   ]
  },
  {
   "cell_type": "code",
   "execution_count": 3,
   "metadata": {},
   "outputs": [
    {
     "name": "stdout",
     "output_type": "stream",
     "text": [
      "2 4\n"
     ]
    }
   ],
   "source": [
    "#전보\n",
    "#16:49 ~ 17:00\n",
    "import heapq\n",
    "\n",
    "INF = 1e9\n",
    "n, m, c = map(int, input().split())\n",
    "graph = [[1e9] * (n+1) for i in range(n+1)]\n",
    "for i in range(1, n+1):\n",
    "    graph[i][i] = 0\n",
    "for i in range(m):\n",
    "    x, y, z = map(int, input().split())\n",
    "    graph[x][y] = z\n",
    "\n",
    "distance = [INF] * (n+1)\n",
    "visited = [False] * (n+1)\n",
    "heap = []\n",
    "distance[c] = 0\n",
    "heapq.heappush(heap, (0, c))\n",
    "\n",
    "while heap:\n",
    "    dist, node = heapq.heappop(heap)\n",
    "    if visited[node]:\n",
    "        continue\n",
    "    visited[node] = True\n",
    "\n",
    "    for i in range(1, n+1):\n",
    "        go_through = distance[node] + graph[node][i]\n",
    "        if go_through < distance[i]:\n",
    "            distance[i] = go_through\n",
    "            heapq.heappush(heap, (distance[i],i))\n",
    "\n",
    "can_pass_list = [i for i in distance if 0 < i < INF]\n",
    "can_pass_count = len(can_pass_list)\n",
    "print(can_pass_count, max(can_pass_list))"
   ]
  },
  {
   "cell_type": "code",
   "execution_count": 4,
   "metadata": {},
   "outputs": [
    {
     "name": "stdout",
     "output_type": "stream",
     "text": [
      "[4, 2]\n"
     ]
    }
   ],
   "source": [
    "print(can_pass_list)"
   ]
  }
 ],
 "metadata": {
  "interpreter": {
   "hash": "aee8b7b246df8f9039afb4144a1f6fd8d2ca17a180786b69acc140d282b71a49"
  },
  "kernelspec": {
   "display_name": "Python 3.9.10 64-bit",
   "language": "python",
   "name": "python3"
  },
  "language_info": {
   "codemirror_mode": {
    "name": "ipython",
    "version": 3
   },
   "file_extension": ".py",
   "mimetype": "text/x-python",
   "name": "python",
   "nbconvert_exporter": "python",
   "pygments_lexer": "ipython3",
   "version": "3.9.10"
  },
  "orig_nbformat": 4
 },
 "nbformat": 4,
 "nbformat_minor": 2
}
