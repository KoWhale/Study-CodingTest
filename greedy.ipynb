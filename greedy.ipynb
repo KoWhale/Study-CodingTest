{
 "cells": [
  {
   "cell_type": "code",
   "execution_count": 2,
   "metadata": {},
   "outputs": [
    {
     "name": "stdout",
     "output_type": "stream",
     "text": [
      "0 6\n"
     ]
    }
   ],
   "source": [
    "#예제 문제\n",
    "#1:42 ~ 1:44\n",
    "N = int(input())\n",
    "\n",
    "coin_list = [500, 100, 50, 10]\n",
    "count = 0\n",
    "\n",
    "for coin in coin_list:\n",
    "    count += N // coin\n",
    "    N = N % coin\n",
    "\n",
    "print(N, count)"
   ]
  },
  {
   "cell_type": "code",
   "execution_count": null,
   "metadata": {},
   "outputs": [],
   "source": [
    "#큰 수의 법칙\n",
    "#13:52 ~ 14:09\n",
    "N, M, K = map(int, input().split())\n",
    "array = list(map(int, input().split()))\n",
    "array.sort(reverse=True)\n",
    "\n",
    "share = M // (K+1)\n",
    "remainer = M % (K+1)\n",
    "\n",
    "result = array[0] * (share * K + remainer) + array[1] * share\n",
    "print(result)"
   ]
  },
  {
   "cell_type": "code",
   "execution_count": 5,
   "metadata": {},
   "outputs": [
    {
     "name": "stdout",
     "output_type": "stream",
     "text": [
      "3\n"
     ]
    }
   ],
   "source": [
    "#숫자 카드 게임\n",
    "#14:11 ~ 14:21\n",
    "N, M = map(int, input().split())\n",
    "# array = [[0] * M for _ in range(N)]\n",
    "min_in_column = [1e9 for _ in range(N)]\n",
    "\n",
    "for n in range(N):\n",
    "    column = list(map(int, input().split()))\n",
    "    min_in_column[n] = min(column)\n",
    "\n",
    "print(max(min_in_column))\n"
   ]
  },
  {
   "cell_type": "code",
   "execution_count": 6,
   "metadata": {},
   "outputs": [
    {
     "name": "stdout",
     "output_type": "stream",
     "text": [
      "3\n"
     ]
    }
   ],
   "source": [
    "#1이 될 때까지\n",
    "#14:23 ~ 14:26\n",
    "\n",
    "N, K = map(int, input().split())\n",
    "count = 0\n",
    "\n",
    "# while N > 1:\n",
    "#     if N % K == 0:\n",
    "#         N = N // K\n",
    "#     else:\n",
    "#         N -= 1\n",
    "#     count += 1\n",
    "\n",
    "# print(count)\n",
    "\n",
    "#답안을 보고난 후 보이는 문제점과 보완 코드\n",
    "#K가 입력 범위에서 가장 큰 값 근처에 있을 때 N -= 1을 K-1번만큼 반복해야함\n",
    "\n",
    "while N >= K:\n",
    "    if N % K == 0:\n",
    "        N = N // K\n",
    "    else:\n",
    "        N -= 1\n",
    "    count += 1\n",
    "\n",
    "count += N-1\n",
    "print(count)"
   ]
  }
 ],
 "metadata": {
  "interpreter": {
   "hash": "aee8b7b246df8f9039afb4144a1f6fd8d2ca17a180786b69acc140d282b71a49"
  },
  "kernelspec": {
   "display_name": "Python 3.9.10 64-bit",
   "language": "python",
   "name": "python3"
  },
  "language_info": {
   "codemirror_mode": {
    "name": "ipython",
    "version": 3
   },
   "file_extension": ".py",
   "mimetype": "text/x-python",
   "name": "python",
   "nbconvert_exporter": "python",
   "pygments_lexer": "ipython3",
   "version": "3.9.10"
  },
  "orig_nbformat": 4
 },
 "nbformat": 4,
 "nbformat_minor": 2
}
