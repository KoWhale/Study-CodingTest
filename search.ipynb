{
 "cells": [
  {
   "cell_type": "code",
   "execution_count": 1,
   "metadata": {},
   "outputs": [
    {
     "name": "stdout",
     "output_type": "stream",
     "text": [
      "3\n"
     ]
    }
   ],
   "source": [
    "#순차 탐색\n",
    "want_to_find = 'Dongbin'\n",
    "array = ['Hanul', 'Jonggu', 'Dongbin', 'Taeil', 'Sangwook']\n",
    "\n",
    "for i in range(len(array)):\n",
    "    if array[i] == want_to_find:\n",
    "        print(i+1)\n",
    "        break"
   ]
  },
  {
   "cell_type": "code",
   "execution_count": 4,
   "metadata": {},
   "outputs": [
    {
     "name": "stdout",
     "output_type": "stream",
     "text": [
      "2\n"
     ]
    }
   ],
   "source": [
    "want_to_find = 4\n",
    "array = [0,2,4,6,8,10,12,14,16,18]\n",
    "\n",
    "def binary_search(start, end, want):\n",
    "    if start > end:\n",
    "        return None\n",
    "    mid = (start+end) // 2\n",
    "\n",
    "    if array[mid] == want:\n",
    "        return mid\n",
    "    elif array[mid] < want:\n",
    "        return binary_search(mid+1, end, want)\n",
    "    elif array[mid] > want:\n",
    "        return binary_search(start, mid-1, want)\n",
    "\n",
    "print(binary_search(0, 9, 4))\n"
   ]
  },
  {
   "cell_type": "code",
   "execution_count": 6,
   "metadata": {},
   "outputs": [
    {
     "name": "stdout",
     "output_type": "stream",
     "text": [
      "no yes yes "
     ]
    }
   ],
   "source": [
    "#부품 찾기\n",
    "#14:40 ~ 14:53\n",
    "N = int(input())\n",
    "arr_N = list(map(int, input().split()))\n",
    "M = int(input())\n",
    "arr_M = list(map(int, input().split()))\n",
    "\n",
    "arr_N.sort()\n",
    "arr_M.sort()\n",
    "\n",
    "def binary_search(start, end, want):\n",
    "    if start > end:\n",
    "        return None\n",
    "    mid = (end+start) // 2\n",
    "\n",
    "    if arr_N[mid] == want:\n",
    "        return mid\n",
    "\n",
    "    if arr_N[mid] < want:\n",
    "        return binary_search(mid+1, end, want)\n",
    "    else:\n",
    "        return binary_search(start, mid-1, want)\n",
    "\n",
    "for m in arr_M:\n",
    "    if binary_search(0, N, m) == None:\n",
    "        print(\"no\", end=\" \")\n",
    "    else:\n",
    "        print(\"yes\", end=\" \")"
   ]
  },
  {
   "cell_type": "code",
   "execution_count": null,
   "metadata": {},
   "outputs": [],
   "source": [
    "#떡볶이 떡 만들기\n",
    "#14:56 ~ 15:28\n",
    "#어차피 떡은 절단길이에 똑같이 다 짤리기 때문에 짤리는 떡의 갯수를 찾는 것이 아님\n",
    "#절단 길이가 이진 탐색이 되어야하는데 그렇지 못함\n",
    "N, M = map(int, input().split())\n",
    "arr = list(map(int, input().split()))\n",
    "\n",
    "def binary_search(start, end, length):\n",
    "    if start > end:\n",
    "        return None\n",
    "\n",
    "    mid = (start+end) // 2\n",
    "    \n",
    "    if sum(arr[mid:]) - len(arr[mid:]) * length < M:\n",
    "        return None\n",
    "    \n",
    "    narrow_binary_result = binary_search(mid+1, end, length)\n",
    "    if narrow_binary_result != None:\n",
    "        return narrow_binary_result\n",
    "    else:\n",
    "        return mid\n",
    "\n",
    "arr.sort()\n",
    "for i in range(arr[-1], -1, -1):\n",
    "    if binary_search(0, N, i) != None:\n",
    "        print(i)\n",
    "        break"
   ]
  },
  {
   "cell_type": "code",
   "execution_count": 11,
   "metadata": {},
   "outputs": [
    {
     "name": "stdout",
     "output_type": "stream",
     "text": [
      "15\n"
     ]
    }
   ],
   "source": [
    "#떡볶이 떡 만들기, 2차 수정\n",
    "N, M = map(int, input().split())\n",
    "array = list(map(int, input().split()))\n",
    "\n",
    "result = 0\n",
    "start = 0\n",
    "end = max(array)\n",
    "while start <= end:\n",
    "    total = 0\n",
    "    mid = (start+end) // 2\n",
    "\n",
    "    for x in array:\n",
    "        if x > mid:\n",
    "            total += x - mid\n",
    "    \n",
    "    if total >= M:\n",
    "        result = mid\n",
    "        start = mid+1\n",
    "    else:\n",
    "        end = mid-1\n",
    "print(result)"
   ]
  }
 ],
 "metadata": {
  "interpreter": {
   "hash": "aee8b7b246df8f9039afb4144a1f6fd8d2ca17a180786b69acc140d282b71a49"
  },
  "kernelspec": {
   "display_name": "Python 3.9.10 64-bit",
   "language": "python",
   "name": "python3"
  },
  "language_info": {
   "codemirror_mode": {
    "name": "ipython",
    "version": 3
   },
   "file_extension": ".py",
   "mimetype": "text/x-python",
   "name": "python",
   "nbconvert_exporter": "python",
   "pygments_lexer": "ipython3",
   "version": "3.9.10"
  },
  "orig_nbformat": 4
 },
 "nbformat": 4,
 "nbformat_minor": 2
}
