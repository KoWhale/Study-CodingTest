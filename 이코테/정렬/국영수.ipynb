{
 "cells": [
  {
   "cell_type": "code",
   "execution_count": 4,
   "metadata": {},
   "outputs": [
    {
     "name": "stdout",
     "output_type": "stream",
     "text": [
      "Donghyuk\n",
      "Sangkeun\n",
      "Sunyoung\n",
      "nsj\n",
      "Wonseob\n",
      "Sanghyun\n",
      "Sei\n",
      "Kangsoo\n",
      "Haebin\n",
      "Junkyu\n",
      "Soong\n",
      "Taewhan\n"
     ]
    }
   ],
   "source": [
    "# 18:06 ~ 18:15\n",
    "students = [\n",
    "    (\"Junkyu\", 50, 60, 100),\n",
    "    (\"Sangkeun\", 80, 60, 50),\n",
    "    (\"Sunyoung\", 80, 70, 100),\n",
    "    (\"Soong\", 50, 60, 90),\n",
    "    (\"Haebin\", 50, 60, 100),\n",
    "    (\"Kangsoo\", 60, 80, 100),\n",
    "    (\"Donghyuk\", 80, 60, 100),\n",
    "    (\"Sei\", 70, 70, 70),\n",
    "    (\"Wonseob\", 70, 70, 90),\n",
    "    (\"Sanghyun\", 70, 70, 80),\n",
    "    (\"nsj\", 80, 80, 80),\n",
    "    (\"Taewhan\", 50, 60, 90),\n",
    "]\n",
    "\n",
    "students.sort(key=lambda x: (-x[1],x[2],-x[3],x[0]))\n",
    "for student in students:\n",
    "    print(student[0])"
   ]
  }
 ],
 "metadata": {
  "kernelspec": {
   "display_name": "Python 3.8.9 64-bit",
   "language": "python",
   "name": "python3"
  },
  "language_info": {
   "codemirror_mode": {
    "name": "ipython",
    "version": 3
   },
   "file_extension": ".py",
   "mimetype": "text/x-python",
   "name": "python",
   "nbconvert_exporter": "python",
   "pygments_lexer": "ipython3",
   "version": "3.8.9"
  },
  "orig_nbformat": 4,
  "vscode": {
   "interpreter": {
    "hash": "31f2aee4e71d21fbe5cf8b01ff0e069b9275f58929596ceb00d14d90e3e16cd6"
   }
  }
 },
 "nbformat": 4,
 "nbformat_minor": 2
}
