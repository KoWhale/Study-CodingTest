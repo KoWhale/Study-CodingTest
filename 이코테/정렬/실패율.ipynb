{
 "cells": [
  {
   "cell_type": "code",
   "execution_count": 19,
   "metadata": {},
   "outputs": [
    {
     "name": "stdout",
     "output_type": "stream",
     "text": [
      "4 1 2 3 "
     ]
    }
   ],
   "source": [
    "# 11:55 ~ 12:13\n",
    "\n",
    "N = 4\n",
    "stages = [4,4,4,4,4]\n",
    "\n",
    "clear = []\n",
    "stage_clear = stages.count(N+1)\n",
    "for i in range(N,0,-1):\n",
    "    stage_count = stages.count(i)\n",
    "    stage_clear += stage_count\n",
    "    clear.append((stage_count/stage_clear,i))\n",
    "clear.sort(key=lambda x: (x[0],-x[1]), reverse=True)\n",
    "\n",
    "for c in clear:\n",
    "    print(c[1], end=\" \")"
   ]
  }
 ],
 "metadata": {
  "kernelspec": {
   "display_name": "Python 3.8.9 64-bit",
   "language": "python",
   "name": "python3"
  },
  "language_info": {
   "codemirror_mode": {
    "name": "ipython",
    "version": 3
   },
   "file_extension": ".py",
   "mimetype": "text/x-python",
   "name": "python",
   "nbconvert_exporter": "python",
   "pygments_lexer": "ipython3",
   "version": "3.8.9"
  },
  "orig_nbformat": 4,
  "vscode": {
   "interpreter": {
    "hash": "31f2aee4e71d21fbe5cf8b01ff0e069b9275f58929596ceb00d14d90e3e16cd6"
   }
  }
 },
 "nbformat": 4,
 "nbformat_minor": 2
}
