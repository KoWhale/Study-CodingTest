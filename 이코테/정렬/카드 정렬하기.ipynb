{
 "cells": [
  {
   "cell_type": "code",
   "execution_count": 16,
   "metadata": {},
   "outputs": [
    {
     "name": "stdout",
     "output_type": "stream",
     "text": [
      "100\n"
     ]
    }
   ],
   "source": [
    "import heapq\n",
    "# 12:16 ~ 12:29\n",
    "#10 + 20 + 10 + 20 + 40 = 100\n",
    "#10 + 40 + 10 + 40 + 20 = 120\n",
    "\n",
    "cards_list = [10,20,40]\n",
    "q = []\n",
    "for cards in cards_list:\n",
    "    heapq.heappush(q, cards)\n",
    "\n",
    "total = 0\n",
    "while len(q) >= 2:\n",
    "    i = heapq.heappop(q)\n",
    "    j = heapq.heappop(q)\n",
    "    total += i + j\n",
    "    heapq.heappush(q, (i+j))\n",
    "\n",
    "if len(q) == 2:\n",
    "    total += heapq.heappop(q)\n",
    "\n",
    "print(total)"
   ]
  }
 ],
 "metadata": {
  "kernelspec": {
   "display_name": "Python 3.8.9 64-bit",
   "language": "python",
   "name": "python3"
  },
  "language_info": {
   "codemirror_mode": {
    "name": "ipython",
    "version": 3
   },
   "file_extension": ".py",
   "mimetype": "text/x-python",
   "name": "python",
   "nbconvert_exporter": "python",
   "pygments_lexer": "ipython3",
   "version": "3.8.9"
  },
  "orig_nbformat": 4,
  "vscode": {
   "interpreter": {
    "hash": "31f2aee4e71d21fbe5cf8b01ff0e069b9275f58929596ceb00d14d90e3e16cd6"
   }
  }
 },
 "nbformat": 4,
 "nbformat_minor": 2
}
