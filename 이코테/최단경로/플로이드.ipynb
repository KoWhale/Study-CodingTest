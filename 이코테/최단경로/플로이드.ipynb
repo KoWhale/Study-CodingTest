{
 "cells": [
  {
   "cell_type": "code",
   "execution_count": 14,
   "metadata": {},
   "outputs": [
    {
     "data": {
      "text/plain": [
       "[[0, 2, 3, 1, 4],\n",
       " [12, 0, 15, 2, 5],\n",
       " [8, 5, 0, 1, 1],\n",
       " [10, 7, 13, 0, 3],\n",
       " [7, 4, 10, 6, 0]]"
      ]
     },
     "execution_count": 14,
     "metadata": {},
     "output_type": "execute_result"
    }
   ],
   "source": [
    "# 13:14 ~ 13:27\n",
    "\n",
    "def solution(nm,li):\n",
    "    n, m = nm\n",
    "    table = [[100001] * (n) for i in range(n)]\n",
    "\n",
    "    for l in li:\n",
    "        a,b,cost = map(int, l.split())\n",
    "        table[a-1][b-1] = min(cost, table[a-1][b-1])\n",
    "    \n",
    "    for k in range(n):\n",
    "        for a in range(n):\n",
    "            for b in range(n):\n",
    "                table[a][b] = min(table[a][b], table[a][k]+table[k][b])\n",
    "\n",
    "    for a in range(n):\n",
    "        table[a][a] = 0\n",
    "        for b in range(n):\n",
    "            if table[a][b] == 100001:\n",
    "                table[a][b] = 0\n",
    "\n",
    "    return table\n",
    "\n",
    "inp = \"\"\"5\n",
    "14\n",
    "1 2 2\n",
    "1 3 3\n",
    "1 4 1\n",
    "1 5 10\n",
    "2 4 2\n",
    "3 4 1\n",
    "3 5 1\n",
    "4 5 3\n",
    "3 5 10\n",
    "3 1 8\n",
    "1 4 2\n",
    "5 1 7\n",
    "3 4 2\n",
    "5 2 4\"\"\"\n",
    "solution(list(map(int, inp.splitlines()[:2])), list(map(str, inp.splitlines()[2:])))"
   ]
  }
 ],
 "metadata": {
  "kernelspec": {
   "display_name": "Python 3.8.9 64-bit",
   "language": "python",
   "name": "python3"
  },
  "language_info": {
   "codemirror_mode": {
    "name": "ipython",
    "version": 3
   },
   "file_extension": ".py",
   "mimetype": "text/x-python",
   "name": "python",
   "nbconvert_exporter": "python",
   "pygments_lexer": "ipython3",
   "version": "3.8.9"
  },
  "orig_nbformat": 4,
  "vscode": {
   "interpreter": {
    "hash": "31f2aee4e71d21fbe5cf8b01ff0e069b9275f58929596ceb00d14d90e3e16cd6"
   }
  }
 },
 "nbformat": 4,
 "nbformat_minor": 2
}
