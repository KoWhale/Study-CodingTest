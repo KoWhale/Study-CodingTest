{
 "cells": [
  {
   "cell_type": "code",
   "execution_count": 31,
   "metadata": {},
   "outputs": [
    {
     "data": {
      "text/plain": [
       "1"
      ]
     },
     "execution_count": 31,
     "metadata": {},
     "output_type": "execute_result"
    }
   ],
   "source": [
    "# 13:28 ~ 14:08\n",
    "\n",
    "def solution(li):\n",
    "    n,m = li[0]\n",
    "    table = []\n",
    "    for i in range(n+1):\n",
    "        temp = []\n",
    "        for j in range(n+1):\n",
    "            temp.append(0)\n",
    "        table.append(temp)\n",
    "\n",
    "    for a,b in li[1:]:\n",
    "        table[a][b] = -1\n",
    "        table[b][a] = 1\n",
    "\n",
    "    for i in range(1,n+1):\n",
    "        for j in range(1,n+1):\n",
    "            for k in range(1,n+1):\n",
    "                if table[i][j] == 1 and table[j][k] == 1:\n",
    "                    table[i][k] = 1\n",
    "                elif table[i][j] == -1 and table[j][k] == -1:\n",
    "                    table[i][k] = -1\n",
    "\n",
    "    answer = 0\n",
    "    for i in range(1,n+1):\n",
    "        count = 0\n",
    "        for j in range(1,n+1):\n",
    "            if table[i][j] != 0:\n",
    "                count +=1\n",
    "        if count == n-1:\n",
    "            answer += 1\n",
    "\n",
    "    return answer\n",
    "                    \n",
    "\n",
    "solution([[6,6],[1,5],[3,4],[4,2],[4,6],[5,2],[5,4]])"
   ]
  }
 ],
 "metadata": {
  "kernelspec": {
   "display_name": "Python 3.8.9 64-bit",
   "language": "python",
   "name": "python3"
  },
  "language_info": {
   "codemirror_mode": {
    "name": "ipython",
    "version": 3
   },
   "file_extension": ".py",
   "mimetype": "text/x-python",
   "name": "python",
   "nbconvert_exporter": "python",
   "pygments_lexer": "ipython3",
   "version": "3.8.9"
  },
  "orig_nbformat": 4,
  "vscode": {
   "interpreter": {
    "hash": "31f2aee4e71d21fbe5cf8b01ff0e069b9275f58929596ceb00d14d90e3e16cd6"
   }
  }
 },
 "nbformat": 4,
 "nbformat_minor": 2
}
