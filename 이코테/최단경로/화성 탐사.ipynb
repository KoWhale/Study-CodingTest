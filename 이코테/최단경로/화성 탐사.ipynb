{
 "cells": [
  {
   "cell_type": "code",
   "execution_count": 21,
   "metadata": {},
   "outputs": [
    {
     "data": {
      "text/plain": [
       "36"
      ]
     },
     "execution_count": 21,
     "metadata": {},
     "output_type": "execute_result"
    }
   ],
   "source": [
    "# 14:15 ~ 14:41\n",
    "\n",
    "dx = [1,0,-1,0]\n",
    "dy = [0,1,0,-1]\n",
    "\n",
    "def solution(n, table):\n",
    "    short_table = [[10e9]*n for _ in range(n)]\n",
    "    short_table[0][0] = table[0][0]\n",
    "\n",
    "    for _ in range(n):\n",
    "        for x in range(n):\n",
    "            for y in range(n):\n",
    "                for i in range(4):\n",
    "                    nx, ny = x + dx[i], y + dy[i]\n",
    "                    if 0 <= nx < n and 0 <= ny < n:\n",
    "                        short_table[nx][ny] = min(short_table[nx][ny], short_table[x][y]+table[nx][ny])\n",
    "\n",
    "    return short_table[n-1][n-1]\n",
    "\n",
    "# solution(3, [[5,5,4],[3,9,1],[3,2,7]])\n",
    "# solution(5,[[3,7,2,0,1],[2,8,0,9,1],[1,2,1,8,1],[9,8,9,2,0],[3,6,5,1,5]])\n",
    "solution(7,[[9,0,5,1,1,5,3],[4,1,2,1,6,5,3],[0,7,6,1,6,8,5],[1,1,7,8,3,2,3],[9,4,0,7,6,4,1],[5,8,3,2,4,8,3],[7,4,8,4,8,3,4]])"
   ]
  },
  {
   "cell_type": "code",
   "execution_count": 29,
   "metadata": {},
   "outputs": [
    {
     "data": {
      "text/plain": [
       "36"
      ]
     },
     "execution_count": 29,
     "metadata": {},
     "output_type": "execute_result"
    }
   ],
   "source": [
    "import heapq\n",
    "\n",
    "dx = [1,0,-1,0]\n",
    "dy = [0,1,0,-1]\n",
    "\n",
    "def solution(n, table):\n",
    "    short_table = [[10e9]*n for _ in range(n)]\n",
    "    short_table[0][0] = table[0][0]\n",
    "\n",
    "    q = [(0,0,table[0][0])]\n",
    "    while q:\n",
    "        x,y,cost = heapq.heappop(q)\n",
    "        if cost > short_table[x][y]:\n",
    "            continue\n",
    "\n",
    "        for i in range(4):\n",
    "            nx, ny = x + dx[i], y + dy[i]\n",
    "            if 0 <= nx < n and 0 <= ny < n:\n",
    "                cur_cost = short_table[x][y] + table[nx][ny]\n",
    "                if short_table[nx][ny] > cur_cost:\n",
    "                    short_table[nx][ny] = cur_cost\n",
    "                    heapq.heappush(q, (nx,ny, cur_cost))\n",
    "\n",
    "    return short_table[-1][-1]\n",
    "\n",
    "# solution(3, [[5,5,4],[3,9,1],[3,2,7]])\n",
    "# solution(5,[[3,7,2,0,1],[2,8,0,9,1],[1,2,1,8,1],[9,8,9,2,0],[3,6,5,1,5]])\n",
    "solution(7,[[9,0,5,1,1,5,3],[4,1,2,1,6,5,3],[0,7,6,1,6,8,5],[1,1,7,8,3,2,3],[9,4,0,7,6,4,1],[5,8,3,2,4,8,3],[7,4,8,4,8,3,4]])"
   ]
  }
 ],
 "metadata": {
  "kernelspec": {
   "display_name": "Python 3.8.9 64-bit",
   "language": "python",
   "name": "python3"
  },
  "language_info": {
   "codemirror_mode": {
    "name": "ipython",
    "version": 3
   },
   "file_extension": ".py",
   "mimetype": "text/x-python",
   "name": "python",
   "nbconvert_exporter": "python",
   "pygments_lexer": "ipython3",
   "version": "3.8.9"
  },
  "orig_nbformat": 4,
  "vscode": {
   "interpreter": {
    "hash": "31f2aee4e71d21fbe5cf8b01ff0e069b9275f58929596ceb00d14d90e3e16cd6"
   }
  }
 },
 "nbformat": 4,
 "nbformat_minor": 2
}
