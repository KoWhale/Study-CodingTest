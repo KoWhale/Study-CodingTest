{
 "cells": [
  {
   "cell_type": "code",
   "execution_count": 22,
   "metadata": {},
   "outputs": [
    {
     "name": "stdout",
     "output_type": "stream",
     "text": [
      "[0, 1, 1, 2, 2, 2]\n"
     ]
    },
    {
     "data": {
      "text/plain": [
       "(4, 2, 3)"
      ]
     },
     "execution_count": 22,
     "metadata": {},
     "output_type": "execute_result"
    }
   ],
   "source": [
    "# 15:13 ~ 15:44 X\n",
    "\n",
    "import heapq\n",
    "\n",
    "def solution(n,m,path_list):\n",
    "    table = [[] for _ in range(n)]\n",
    "    distance = [10e9 for _ in range(n)]\n",
    "    for path in path_list:\n",
    "        x, y = path[0]-1, path[1]-1\n",
    "        table[x].append((y,1))\n",
    "        table[y].append((x,1))\n",
    "\n",
    "    distance[0] = 0\n",
    "    q = [(0,0)]\n",
    "    while q:\n",
    "        x,cost = heapq.heappop(q)\n",
    "\n",
    "        for y in table[x]:\n",
    "            if cost + y[1] < distance[y[0]]:\n",
    "                distance[y[0]] = cost + y[1]\n",
    "                heapq.heappush(q, (y[0],cost+y[1]))\n",
    "    \n",
    "    longest = 0\n",
    "    for i in range(n):\n",
    "        if distance[i] == 10e9:\n",
    "            continue\n",
    "        longest = max(distance[i], longest)\n",
    "    \n",
    "    minimal = 0\n",
    "    for i in range(n):\n",
    "        if distance[i] == longest:\n",
    "            minimal = i\n",
    "            break\n",
    "    minimal += 1\n",
    "\n",
    "    multiple = distance.count(longest)\n",
    "    print(distance)\n",
    "    return minimal, longest, multiple\n",
    "    \n",
    "solution(6,7,[[3,6],[4,3],[3,2],[1,3],[1,2],[2,4],[5,2]])"
   ]
  }
 ],
 "metadata": {
  "kernelspec": {
   "display_name": "Python 3.8.9 64-bit",
   "language": "python",
   "name": "python3"
  },
  "language_info": {
   "codemirror_mode": {
    "name": "ipython",
    "version": 3
   },
   "file_extension": ".py",
   "mimetype": "text/x-python",
   "name": "python",
   "nbconvert_exporter": "python",
   "pygments_lexer": "ipython3",
   "version": "3.8.9"
  },
  "orig_nbformat": 4,
  "vscode": {
   "interpreter": {
    "hash": "31f2aee4e71d21fbe5cf8b01ff0e069b9275f58929596ceb00d14d90e3e16cd6"
   }
  }
 },
 "nbformat": 4,
 "nbformat_minor": 2
}
