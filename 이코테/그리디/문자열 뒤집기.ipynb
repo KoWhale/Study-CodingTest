{
 "cells": [
  {
   "cell_type": "code",
   "execution_count": 3,
   "metadata": {},
   "outputs": [
    {
     "name": "stdout",
     "output_type": "stream",
     "text": [
      "3\n"
     ]
    }
   ],
   "source": [
    "# 15:35 ~ 15:39\n",
    "\n",
    "S = \"0011001110010\"\n",
    "group_0_count = 0\n",
    "group_1_count = 0\n",
    "\n",
    "current = S[0]\n",
    "if current == \"0\":\n",
    "    group_0_count += 1\n",
    "else:\n",
    "    group_1_count += 1\n",
    "\n",
    "for c in S[1:]:\n",
    "    if current != c:\n",
    "        current = c\n",
    "        if current == \"0\":\n",
    "            group_0_count += 1\n",
    "        else:\n",
    "            group_1_count += 1\n",
    "\n",
    "print(min(group_0_count, group_1_count))"
   ]
  }
 ],
 "metadata": {
  "kernelspec": {
   "display_name": "Python 3.8.9 64-bit",
   "language": "python",
   "name": "python3"
  },
  "language_info": {
   "codemirror_mode": {
    "name": "ipython",
    "version": 3
   },
   "file_extension": ".py",
   "mimetype": "text/x-python",
   "name": "python",
   "nbconvert_exporter": "python",
   "pygments_lexer": "ipython3",
   "version": "3.8.9"
  },
  "orig_nbformat": 4,
  "vscode": {
   "interpreter": {
    "hash": "31f2aee4e71d21fbe5cf8b01ff0e069b9275f58929596ceb00d14d90e3e16cd6"
   }
  }
 },
 "nbformat": 4,
 "nbformat_minor": 2
}
