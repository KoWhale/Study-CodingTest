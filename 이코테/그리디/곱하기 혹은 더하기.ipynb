{
 "cells": [
  {
   "cell_type": "code",
   "execution_count": 5,
   "metadata": {},
   "outputs": [
    {
     "name": "stdout",
     "output_type": "stream",
     "text": [
      "210\n"
     ]
    }
   ],
   "source": [
    "# 15:15 ~ 15:22\n",
    "\n",
    "S = \"567\"\n",
    "S = S.replace(\"0\",\"\")\n",
    "\n",
    "current = int(S[0])\n",
    "for c in S[1:]:\n",
    "    if int(c) == 1:\n",
    "        current += int(c)\n",
    "    else:\n",
    "        current *= int(c)\n",
    "print(current)"
   ]
  },
  {
   "cell_type": "code",
   "execution_count": 6,
   "metadata": {},
   "outputs": [
    {
     "name": "stdout",
     "output_type": "stream",
     "text": [
      "210\n"
     ]
    }
   ],
   "source": [
    "S = \"567\"\n",
    "\n",
    "result = 0\n",
    "for c in S:\n",
    "    num = int(c)\n",
    "    if num <= 1 or result <= 1:\n",
    "        result += num\n",
    "    else:\n",
    "        result *= num\n",
    "print(result)"
   ]
  }
 ],
 "metadata": {
  "kernelspec": {
   "display_name": "Python 3.8.9 64-bit",
   "language": "python",
   "name": "python3"
  },
  "language_info": {
   "codemirror_mode": {
    "name": "ipython",
    "version": 3
   },
   "file_extension": ".py",
   "mimetype": "text/x-python",
   "name": "python",
   "nbconvert_exporter": "python",
   "pygments_lexer": "ipython3",
   "version": "3.8.9"
  },
  "orig_nbformat": 4,
  "vscode": {
   "interpreter": {
    "hash": "31f2aee4e71d21fbe5cf8b01ff0e069b9275f58929596ceb00d14d90e3e16cd6"
   }
  }
 },
 "nbformat": 4,
 "nbformat_minor": 2
}
