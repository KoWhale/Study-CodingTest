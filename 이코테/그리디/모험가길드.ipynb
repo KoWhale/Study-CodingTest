{
 "cells": [
  {
   "cell_type": "code",
   "execution_count": 12,
   "metadata": {},
   "outputs": [
    {
     "name": "stdout",
     "output_type": "stream",
     "text": [
      "0 -1 1\n",
      "1 0 2\n",
      "2 0 2\n",
      "3 2 2\n",
      "4 2 3\n",
      "2\n"
     ]
    }
   ],
   "source": [
    "# 15:01 ~ 15:11\n",
    "N = 5\n",
    "people = [2,3,1,2,2]\n",
    "\n",
    "people.sort()\n",
    "group_count = 0\n",
    "last_group_i = -1\n",
    "for i, person in enumerate(people):\n",
    "    if i - last_group_i >= person:\n",
    "        group_count += 1\n",
    "        last_group_i = i\n",
    "\n",
    "print(group_count)"
   ]
  }
 ],
 "metadata": {
  "language_info": {
   "name": "python"
  },
  "orig_nbformat": 4
 },
 "nbformat": 4,
 "nbformat_minor": 2
}
