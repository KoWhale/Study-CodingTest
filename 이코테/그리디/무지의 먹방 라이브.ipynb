{
 "cells": [
  {
   "cell_type": "code",
   "execution_count": 7,
   "metadata": {},
   "outputs": [
    {
     "name": "stdout",
     "output_type": "stream",
     "text": [
      "1\n"
     ]
    }
   ],
   "source": [
    "# 17:05 ~ \n",
    "\n",
    "food_times = [3,1,2]\n",
    "k = 5\n",
    "\n",
    "import heapq\n",
    "\n",
    "TIME = 0\n",
    "INDEX = 1\n",
    "\n",
    "q = []\n",
    "for i, food_time in enumerate(food_times):\n",
    "    heapq.heappush(q, (food_time, i))\n",
    "\n",
    "if sum(food_times) <= k:\n",
    "    print(-1)\n",
    "    #return -1\n",
    "\n",
    "length = len(food_times)\n",
    "time_flowed = 0\n",
    "previous_spent = 0\n",
    "while time_flowed + (q[0][TIME] - previous_spent) * length <= k:\n",
    "    current_food = heapq.heappop(q)\n",
    "    time_flowed += (current_food[TIME] - previous_spent) * length\n",
    "    length -= 1\n",
    "    previous_spent = current_food[TIME]\n",
    "\n",
    "remain_list = sorted(q, key=lambda x: x[INDEX])\n",
    "print(remain_list[(k-time_flowed)%length][INDEX]+1)"
   ]
  },
  {
   "cell_type": "code",
   "execution_count": 10,
   "metadata": {},
   "outputs": [
    {
     "name": "stdout",
     "output_type": "stream",
     "text": [
      "1\n"
     ]
    }
   ],
   "source": [
    "food_times = [3,1,2]\n",
    "k = 5\n",
    "\n",
    "import heapq\n",
    "\n",
    "answer = -1\n",
    "\n",
    "q = []\n",
    "for i, food_time in enumerate(food_times):\n",
    "    heapq.heappush(q, (food_time, i))\n",
    "\n",
    "food_length = len(food_times)\n",
    "prev_spent_time = 0\n",
    "while q:\n",
    "    spent_time = (q[0][0] - prev_spent_time) * food_length\n",
    "    if spent_time <= k:\n",
    "        k -= spent_time\n",
    "        food_length -= 1\n",
    "        prev_spent_time, _ = heapq.heappop(q)\n",
    "    else:\n",
    "        break\n",
    "\n",
    "remain_food_times = sorted(q, key=lambda x: x[1])\n",
    "answer = remain_food_times[k % food_length][1] + 1\n",
    "print(answer)\n"
   ]
  }
 ],
 "metadata": {
  "kernelspec": {
   "display_name": "Python 3.8.9 64-bit",
   "language": "python",
   "name": "python3"
  },
  "language_info": {
   "codemirror_mode": {
    "name": "ipython",
    "version": 3
   },
   "file_extension": ".py",
   "mimetype": "text/x-python",
   "name": "python",
   "nbconvert_exporter": "python",
   "pygments_lexer": "ipython3",
   "version": "3.8.9"
  },
  "orig_nbformat": 4,
  "vscode": {
   "interpreter": {
    "hash": "31f2aee4e71d21fbe5cf8b01ff0e069b9275f58929596ceb00d14d90e3e16cd6"
   }
  }
 },
 "nbformat": 4,
 "nbformat_minor": 2
}
