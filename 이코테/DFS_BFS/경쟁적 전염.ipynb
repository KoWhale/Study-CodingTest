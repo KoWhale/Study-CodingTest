{
 "cells": [
  {
   "cell_type": "code",
   "execution_count": 9,
   "metadata": {},
   "outputs": [
    {
     "name": "stdout",
     "output_type": "stream",
     "text": [
      "[(1, 1, 0, 0), (1, 2, 0, 2), (1, 3, 2, 0)]\n"
     ]
    },
    {
     "data": {
      "text/plain": [
       "3"
      ]
     },
     "execution_count": 9,
     "metadata": {},
     "output_type": "execute_result"
    }
   ],
   "source": [
    "# 22:18 ~ 22:36\n",
    "import heapq\n",
    "\n",
    "dx = [1,0,-1,0]\n",
    "dy = [0,1,0,-1]\n",
    "\n",
    "def solution(n, k, array, info):\n",
    "    second, pos_x, pos_y = info\n",
    "    pos_x -= 1\n",
    "    pos_y -= 1\n",
    "\n",
    "    q = []\n",
    "    for i in range(n):\n",
    "        for j in range(n):\n",
    "            if array[i][j] > 0:\n",
    "                heapq.heappush(q, (1,array[i][j],i,j))    \n",
    "    print(q)\n",
    "\n",
    "    while q:\n",
    "        time, virus, x, y = heapq.heappop(q)\n",
    "\n",
    "        for i in range(4):\n",
    "            nx, ny = x + dx[i], y + dy[i]\n",
    "            if 0 <= nx < n and 0 <= ny < n and array[nx][ny] == 0:\n",
    "                if pos_x == nx and pos_y == ny:\n",
    "                    if time <= second:\n",
    "                        return virus\n",
    "                    else:\n",
    "                        return 0\n",
    "\n",
    "                array[nx][ny] = virus\n",
    "                heapq.heappush(q, (time+1,virus,nx,ny))\n",
    "\n",
    "\n",
    "\n",
    "solution(3, 3, [[1,0,2],[0,0,0],[3,0,0]],[2,3,2])\n",
    "# solution(3,3,[[1,0,2],[0,0,0],[3,0,0]],[1,2,2])"
   ]
  }
 ],
 "metadata": {
  "kernelspec": {
   "display_name": "Python 3.8.9 64-bit",
   "language": "python",
   "name": "python3"
  },
  "language_info": {
   "codemirror_mode": {
    "name": "ipython",
    "version": 3
   },
   "file_extension": ".py",
   "mimetype": "text/x-python",
   "name": "python",
   "nbconvert_exporter": "python",
   "pygments_lexer": "ipython3",
   "version": "3.8.9"
  },
  "orig_nbformat": 4,
  "vscode": {
   "interpreter": {
    "hash": "31f2aee4e71d21fbe5cf8b01ff0e069b9275f58929596ceb00d14d90e3e16cd6"
   }
  }
 },
 "nbformat": 4,
 "nbformat_minor": 2
}
