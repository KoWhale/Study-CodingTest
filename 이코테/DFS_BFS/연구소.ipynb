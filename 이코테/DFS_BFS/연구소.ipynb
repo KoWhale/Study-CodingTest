{
 "cells": [
  {
   "cell_type": "code",
   "execution_count": 4,
   "metadata": {},
   "outputs": [
    {
     "data": {
      "text/plain": [
       "14"
      ]
     },
     "execution_count": 4,
     "metadata": {},
     "output_type": "execute_result"
    }
   ],
   "source": [
    "# 21:30 ~ 22:15\n",
    "\n",
    "from itertools import combinations\n",
    "\n",
    "def bfs(n,m,points,r,p):\n",
    "    room = [[0]*m for _ in range(n)]\n",
    "    poisons = []\n",
    "    for i in range(n):\n",
    "        for j in range(m):\n",
    "            room[i][j] = r[i][j]\n",
    "            if room[i][j] == 2:\n",
    "                poisons.append((i,j))\n",
    "    for x,y in points:\n",
    "        room[x][y] = 1\n",
    "\n",
    "    dx = [1,0,-1,0]\n",
    "    dy = [0,1,0,-1]\n",
    "    \n",
    "    while poisons:\n",
    "        x,y = poisons.pop()\n",
    "        for i in range(4):\n",
    "            nx, ny = x+dx[i], y+dy[i]\n",
    "            if 0 <= nx < m and 0 <= ny < n:\n",
    "                if room[nx][ny] == 0:\n",
    "                    room[nx][ny] = 2\n",
    "                    poisons.append((nx,ny))\n",
    "    count = 0\n",
    "    for col in room:\n",
    "        for element in col:\n",
    "            if element == 0:\n",
    "                count += 1\n",
    "                \n",
    "    return count\n",
    "\n",
    "def solution(n,m,room):\n",
    "    empty_spaces = []\n",
    "    poisons = []\n",
    "    for i in range(n):\n",
    "        for j in range(m):\n",
    "            if room[i][j] == 0:\n",
    "                empty_spaces.append((i,j))\n",
    "            elif room[i][j] == 2:\n",
    "                poisons.append((i,j))\n",
    "\n",
    "    all_case = combinations(empty_spaces, 3)\n",
    "    \n",
    "    answer = 0\n",
    "    for points in all_case:\n",
    "        answer = max(answer, bfs(n,m,points,room,poisons))\n",
    "\n",
    "    return answer\n",
    "\n",
    "# solution(7,7,[[2,0,0,0,1,1,0],[0,0,1,0,1,2,0],[0,1,1,0,1,0,0],[0,1,0,0,0,0,0],[0,0,0,0,0,1,1],[0,1,0,0,0,0,0],[0,1,0,0,0,0,0]])\n",
    "solution(4,6,[[0,0,0,0,0,0],[1,0,0,0,0,2],[1,1,1,0,0,2],[0,0,0,0,0,2]])\n"
   ]
  }
 ],
 "metadata": {
  "kernelspec": {
   "display_name": "Python 3.8.9 64-bit",
   "language": "python",
   "name": "python3"
  },
  "language_info": {
   "codemirror_mode": {
    "name": "ipython",
    "version": 3
   },
   "file_extension": ".py",
   "mimetype": "text/x-python",
   "name": "python",
   "nbconvert_exporter": "python",
   "pygments_lexer": "ipython3",
   "version": "3.8.9"
  },
  "orig_nbformat": 4,
  "vscode": {
   "interpreter": {
    "hash": "31f2aee4e71d21fbe5cf8b01ff0e069b9275f58929596ceb00d14d90e3e16cd6"
   }
  }
 },
 "nbformat": 4,
 "nbformat_minor": 2
}
