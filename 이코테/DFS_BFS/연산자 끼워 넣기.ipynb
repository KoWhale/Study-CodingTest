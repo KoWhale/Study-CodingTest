{
 "cells": [
  {
   "cell_type": "code",
   "execution_count": 15,
   "metadata": {},
   "outputs": [
    {
     "data": {
      "text/plain": [
       "(54, -24)"
      ]
     },
     "execution_count": 15,
     "metadata": {},
     "output_type": "execute_result"
    }
   ],
   "source": [
    "# 14:00 ~ 14:21\n",
    "\n",
    "from itertools import permutations\n",
    "\n",
    "def solution(n,num,op):\n",
    "    op_list = ['+','-','*','/']\n",
    "    ops = []\n",
    "    for i,op_count in enumerate(op):\n",
    "        for _ in range(op_count):\n",
    "            ops.append(op_list[i])\n",
    "    \n",
    "    op_permutation = permutations(ops, n-1)\n",
    "    total_min = 10e9\n",
    "    total_max = 0\n",
    "    for op_orders in op_permutation:\n",
    "        cur_sum = num[0]\n",
    "        for i,op in enumerate(op_orders):\n",
    "            if op == '+':\n",
    "                cur_sum += num[i+1]\n",
    "            elif op == '-':\n",
    "                cur_sum -= num[i+1]\n",
    "            elif op == '*':\n",
    "                cur_sum *= num[i+1]\n",
    "            elif op == '/':\n",
    "                if cur_sum < 0:\n",
    "                    cur_sum = -((-cur_sum) // num[i+1])\n",
    "                else:\n",
    "                    cur_sum //= num[i+1]\n",
    "        total_min = min(total_min, cur_sum)\n",
    "        total_max = max(total_max, cur_sum)\n",
    "\n",
    "    return total_max, total_min\n",
    "\n",
    "n = 6\n",
    "num = [1,2,3,4,5,6]\n",
    "op = [2,1,1,1]\n",
    "solution(n,num,op)"
   ]
  }
 ],
 "metadata": {
  "kernelspec": {
   "display_name": "Python 3.8.9 64-bit",
   "language": "python",
   "name": "python3"
  },
  "language_info": {
   "codemirror_mode": {
    "name": "ipython",
    "version": 3
   },
   "file_extension": ".py",
   "mimetype": "text/x-python",
   "name": "python",
   "nbconvert_exporter": "python",
   "pygments_lexer": "ipython3",
   "version": "3.8.9"
  },
  "orig_nbformat": 4,
  "vscode": {
   "interpreter": {
    "hash": "31f2aee4e71d21fbe5cf8b01ff0e069b9275f58929596ceb00d14d90e3e16cd6"
   }
  }
 },
 "nbformat": 4,
 "nbformat_minor": 2
}
