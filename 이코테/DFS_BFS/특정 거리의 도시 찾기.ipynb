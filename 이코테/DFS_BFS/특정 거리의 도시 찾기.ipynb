{
 "cells": [
  {
   "cell_type": "code",
   "execution_count": 9,
   "metadata": {},
   "outputs": [
    {
     "data": {
      "text/plain": [
       "[2, 3]"
      ]
     },
     "execution_count": 9,
     "metadata": {},
     "output_type": "execute_result"
    }
   ],
   "source": [
    "# 21:12 ~ 21:29\n",
    "\n",
    "import heapq\n",
    "\n",
    "def solution(N,K,X,roads):\n",
    "    visited = [False] * (N+1)\n",
    "    q = []\n",
    "\n",
    "    sorted_roads = [[] for _ in range(N+1)]\n",
    "    for start,end in roads:\n",
    "        sorted_roads[start].append(end)\n",
    "\n",
    "    visited[X] = True\n",
    "    for dest in sorted_roads[X]:\n",
    "        q.append((dest,1))\n",
    "\n",
    "    answer = []\n",
    "    while q:\n",
    "        end, cost = q.pop()\n",
    "\n",
    "        if visited[end]:\n",
    "            continue\n",
    "        visited[end] = True\n",
    "\n",
    "        if cost == K:\n",
    "            answer.append(end)\n",
    "\n",
    "        for dest in sorted_roads[end]:\n",
    "            q.append((dest,cost+1))\n",
    "\n",
    "    if len(answer) == 0:\n",
    "        return -1\n",
    "    return sorted(answer)\n",
    "\n",
    "solution(4,1,1,[[1,2],[1,3],[2,3],[2,4]])"
   ]
  }
 ],
 "metadata": {
  "kernelspec": {
   "display_name": "Python 3.8.9 64-bit",
   "language": "python",
   "name": "python3"
  },
  "language_info": {
   "codemirror_mode": {
    "name": "ipython",
    "version": 3
   },
   "file_extension": ".py",
   "mimetype": "text/x-python",
   "name": "python",
   "nbconvert_exporter": "python",
   "pygments_lexer": "ipython3",
   "version": "3.8.9"
  },
  "orig_nbformat": 4,
  "vscode": {
   "interpreter": {
    "hash": "31f2aee4e71d21fbe5cf8b01ff0e069b9275f58929596ceb00d14d90e3e16cd6"
   }
  }
 },
 "nbformat": 4,
 "nbformat_minor": 2
}
