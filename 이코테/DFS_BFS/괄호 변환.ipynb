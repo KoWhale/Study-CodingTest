{
 "cells": [
  {
   "cell_type": "code",
   "execution_count": 13,
   "metadata": {},
   "outputs": [
    {
     "name": "stdout",
     "output_type": "stream",
     "text": [
      "['(', '(', ')', '(', ')', ')', '(', ')']\n"
     ]
    }
   ],
   "source": [
    "# 13:24 ~ 13:43\n",
    "\n",
    "p = \"(()())()\"\n",
    "\n",
    "def solution(p):\n",
    "    new_p = []\n",
    "    p = list(p)\n",
    "    \n",
    "    if len(p) == 0:\n",
    "        return \"\"\n",
    "\n",
    "    left_brackets = 0\n",
    "    making_right_count = 0\n",
    "    while p:\n",
    "        if p[0] == '(':\n",
    "            if making_right_count > 0:\n",
    "                making_right_count -= 1\n",
    "                new_p.append(')')\n",
    "                p.pop(0)\n",
    "            else:    \n",
    "                left_brackets += 1\n",
    "                new_p.append(p.pop(0))\n",
    "        elif p[0] == ')':\n",
    "            if left_brackets > 0:\n",
    "                left_brackets -= 1\n",
    "                new_p.append(p.pop(0))\n",
    "            else:\n",
    "                making_right_count += 1\n",
    "                new_p.append('(')\n",
    "                p.pop(0)\n",
    "    print(new_p)\n",
    "\n",
    "solution(p)"
   ]
  }
 ],
 "metadata": {
  "kernelspec": {
   "display_name": "Python 3.8.9 64-bit",
   "language": "python",
   "name": "python3"
  },
  "language_info": {
   "codemirror_mode": {
    "name": "ipython",
    "version": 3
   },
   "file_extension": ".py",
   "mimetype": "text/x-python",
   "name": "python",
   "nbconvert_exporter": "python",
   "pygments_lexer": "ipython3",
   "version": "3.8.9"
  },
  "orig_nbformat": 4,
  "vscode": {
   "interpreter": {
    "hash": "31f2aee4e71d21fbe5cf8b01ff0e069b9275f58929596ceb00d14d90e3e16cd6"
   }
  }
 },
 "nbformat": 4,
 "nbformat_minor": 2
}
