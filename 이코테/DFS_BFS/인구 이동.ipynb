{
 "cells": [
  {
   "cell_type": "code",
   "execution_count": 29,
   "metadata": {},
   "outputs": [
    {
     "data": {
      "text/plain": [
       "3"
      ]
     },
     "execution_count": 29,
     "metadata": {},
     "output_type": "execute_result"
    }
   ],
   "source": [
    "# 14:36 ~ 15:28\n",
    "\n",
    "dx = [1,0,-1,0]\n",
    "dy = [0,1,0,-1]\n",
    "\n",
    "nations,unions,visited = 0,0,0\n",
    "N,L,R = 0,0,0\n",
    "\n",
    "def dfs(x, y, union_i,union_j):\n",
    "    global nations,N,L,R,unions,visited\n",
    "\n",
    "    if visited[x][y] == True:\n",
    "        return\n",
    "    visited[x][y] = True\n",
    "\n",
    "    for i in range(4):\n",
    "        nx, ny = x+dx[i], y+dy[i]\n",
    "        if 0 <= nx < N and 0 <= ny < N and visited[nx][ny] == False:\n",
    "            if L <= abs(nations[x][y]-nations[nx][ny]) <= R:\n",
    "                if len(unions[union_i][union_j]) == 0:\n",
    "                    unions[union_i][union_j].append((x,y))\n",
    "                unions[union_i][union_j].append((nx,ny))\n",
    "                dfs(nx,ny,union_i,union_j)\n",
    "\n",
    "def solution(n,l,r,nat):\n",
    "    global nations,N,L,R,unions,visited\n",
    "\n",
    "    nations = nat\n",
    "    N,L,R = n,l,r\n",
    "\n",
    "    count = 0\n",
    "    while True:\n",
    "        unions = [[] for _ in range(N)]\n",
    "        for union in unions:\n",
    "            for _ in range(N):\n",
    "                union.append([])\n",
    "        visited = [[False] * N for _ in range(N)]\n",
    "\n",
    "        for i in range(N):\n",
    "            for j in range(N):\n",
    "                dfs(i,j,i,j)\n",
    "\n",
    "        has_least_one = False\n",
    "        for i in range(N):\n",
    "            for j in range(N):\n",
    "                union = unions[i][j]\n",
    "                if len(union) == 0:\n",
    "                    continue\n",
    "                else:\n",
    "                    has_least_one = True\n",
    "\n",
    "                total_population = 0\n",
    "\n",
    "                for x,y in union:\n",
    "                    total_population += nations[x][y]\n",
    "                per_nation_population = total_population // len(union)\n",
    "                for x,y in union:\n",
    "                    nations[x][y] = per_nation_population\n",
    "        \n",
    "        if has_least_one == False:\n",
    "            break\n",
    "\n",
    "        count += 1\n",
    "\n",
    "    return count\n",
    "\n",
    "# solution(2,20,50, [[50,30],[20,40]])\n",
    "# solution(2,40,50, [[50,30],[20,40]])\n",
    "# solution(2,20,50, [[50,30],[30,40]])\n",
    "# solution(3,5,10,[[10,15,20],[20,30,25],[40,22,10]])\n",
    "solution(4,10,50,[[10,100,20,90],[80,100,60,70],[70,20,30,40],[50,20,100,10]])"
   ]
  }
 ],
 "metadata": {
  "kernelspec": {
   "display_name": "Python 3.8.9 64-bit",
   "language": "python",
   "name": "python3"
  },
  "language_info": {
   "codemirror_mode": {
    "name": "ipython",
    "version": 3
   },
   "file_extension": ".py",
   "mimetype": "text/x-python",
   "name": "python",
   "nbconvert_exporter": "python",
   "pygments_lexer": "ipython3",
   "version": "3.8.9"
  },
  "orig_nbformat": 4,
  "vscode": {
   "interpreter": {
    "hash": "31f2aee4e71d21fbe5cf8b01ff0e069b9275f58929596ceb00d14d90e3e16cd6"
   }
  }
 },
 "nbformat": 4,
 "nbformat_minor": 2
}
