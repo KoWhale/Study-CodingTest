{
 "cells": [
  {
   "cell_type": "code",
   "execution_count": 32,
   "metadata": {},
   "outputs": [
    {
     "name": "stdout",
     "output_type": "stream",
     "text": [
      "14\n"
     ]
    }
   ],
   "source": [
    "# 13:11 ~ 14:06\n",
    "\n",
    "s = \"abcabcabcabcdededededede\"\n",
    "answer = len(s)\n",
    "\n",
    "for sub_len in range(1,len(s)//2+1):\n",
    "    total_compress_s = \"\"\n",
    "    compress_s = s[0:sub_len]\n",
    "    match_count = 1\n",
    "    for i in range(sub_len,len(s),sub_len):\n",
    "        if compress_s == s[i:i+sub_len]:\n",
    "            match_count += 1\n",
    "        else:\n",
    "            if match_count > 1:\n",
    "                total_compress_s += str(match_count)\n",
    "            total_compress_s += compress_s\n",
    "            compress_s = s[i:i+sub_len]\n",
    "            match_count = 1\n",
    "    if match_count > 1:\n",
    "        total_compress_s += str(match_count)\n",
    "    total_compress_s += compress_s\n",
    "    answer = min(answer, len(total_compress_s))\n",
    "print(answer)"
   ]
  }
 ],
 "metadata": {
  "kernelspec": {
   "display_name": "Python 3.8.9 64-bit",
   "language": "python",
   "name": "python3"
  },
  "language_info": {
   "codemirror_mode": {
    "name": "ipython",
    "version": 3
   },
   "file_extension": ".py",
   "mimetype": "text/x-python",
   "name": "python",
   "nbconvert_exporter": "python",
   "pygments_lexer": "ipython3",
   "version": "3.8.9"
  },
  "orig_nbformat": 4,
  "vscode": {
   "interpreter": {
    "hash": "31f2aee4e71d21fbe5cf8b01ff0e069b9275f58929596ceb00d14d90e3e16cd6"
   }
  }
 },
 "nbformat": 4,
 "nbformat_minor": 2
}
