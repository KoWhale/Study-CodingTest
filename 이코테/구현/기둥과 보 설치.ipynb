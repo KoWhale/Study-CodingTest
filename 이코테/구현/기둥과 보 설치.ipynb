{
 "cells": [
  {
   "cell_type": "code",
   "execution_count": 11,
   "metadata": {},
   "outputs": [],
   "source": [
    "# 20:43 ~ X\n",
    "\n",
    "n = 5\n",
    "build_frame = [[1,0,0,1],[1,1,1,1],[2,1,0,1],[2,2,1,1],[5,0,0,1],[5,1,0,1],[4,2,1,1],[3,2,1,1]]\n",
    "\n",
    "def solution(n, build_frame):\n",
    "    coord = [[[]] * (n+1) for i in range(n+1)]\n",
    "    for x,y,kind,is_install in build_frame:\n",
    "        if x < 0 or x > n or y < 0 or y > n:\n",
    "            continue\n",
    "\n",
    "        if kind == 0: # 기둥\n",
    "            if is_install:\n",
    "                if 0 not in coord[x][y] and (y == 0 or 0 in coord[x][y-1]):\n",
    "                    coord[x][y].append(0)\n",
    "            else:\n",
    "                if 0 in coord[x][y]:\n",
    "                    coord[x][y].remove(0)\n",
    "        else: # 보\n",
    "            if y <= 0:\n",
    "                continue\n",
    "            if is_install:\n",
    "                pass\n",
    "            else:\n",
    "                pass\n",
    "\n",
    "solution(n,build_frame)"
   ]
  }
 ],
 "metadata": {
  "kernelspec": {
   "display_name": "Python 3.8.9 64-bit",
   "language": "python",
   "name": "python3"
  },
  "language_info": {
   "codemirror_mode": {
    "name": "ipython",
    "version": 3
   },
   "file_extension": ".py",
   "mimetype": "text/x-python",
   "name": "python",
   "nbconvert_exporter": "python",
   "pygments_lexer": "ipython3",
   "version": "3.8.9"
  },
  "orig_nbformat": 4,
  "vscode": {
   "interpreter": {
    "hash": "31f2aee4e71d21fbe5cf8b01ff0e069b9275f58929596ceb00d14d90e3e16cd6"
   }
  }
 },
 "nbformat": 4,
 "nbformat_minor": 2
}
