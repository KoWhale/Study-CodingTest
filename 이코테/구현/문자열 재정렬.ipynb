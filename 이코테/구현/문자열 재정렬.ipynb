{
 "cells": [
  {
   "cell_type": "code",
   "execution_count": 19,
   "metadata": {},
   "outputs": [
    {
     "name": "stdout",
     "output_type": "stream",
     "text": [
      "ADDIJJJKKLSS20\n"
     ]
    }
   ],
   "source": [
    "# 12:59 ~ 13:08\n",
    "\n",
    "S = \"AJKDLSI412K4JSJ9D\"\n",
    "\n",
    "alphabet_offset = ord(\"A\")\n",
    "alphabets = [0] * 26\n",
    "number_offset = ord(\"0\")\n",
    "number_sum = 0\n",
    "\n",
    "for c in S:\n",
    "    i = ord(c)\n",
    "    if i > 64:\n",
    "        alphabets[i-alphabet_offset] += 1\n",
    "    else:\n",
    "        number_sum += i-number_offset\n",
    "\n",
    "answer = \"\"\n",
    "for i, alphabet in enumerate(alphabets):\n",
    "    if alphabet == 0:\n",
    "        continue\n",
    "    answer += chr(i+alphabet_offset) * alphabet\n",
    "answer += str(number_sum)\n",
    "print(answer)"
   ]
  },
  {
   "cell_type": "code",
   "execution_count": null,
   "metadata": {},
   "outputs": [],
   "source": []
  }
 ],
 "metadata": {
  "kernelspec": {
   "display_name": "Python 3.8.9 64-bit",
   "language": "python",
   "name": "python3"
  },
  "language_info": {
   "codemirror_mode": {
    "name": "ipython",
    "version": 3
   },
   "file_extension": ".py",
   "mimetype": "text/x-python",
   "name": "python",
   "nbconvert_exporter": "python",
   "pygments_lexer": "ipython3",
   "version": "3.8.9"
  },
  "orig_nbformat": 4,
  "vscode": {
   "interpreter": {
    "hash": "31f2aee4e71d21fbe5cf8b01ff0e069b9275f58929596ceb00d14d90e3e16cd6"
   }
  }
 },
 "nbformat": 4,
 "nbformat_minor": 2
}
