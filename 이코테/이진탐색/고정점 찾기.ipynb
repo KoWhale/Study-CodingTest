{
 "cells": [
  {
   "cell_type": "code",
   "execution_count": 3,
   "metadata": {},
   "outputs": [
    {
     "name": "stdout",
     "output_type": "stream",
     "text": [
      "3\n"
     ]
    }
   ],
   "source": [
    "# 13:12 ~ 13:18\n",
    "\n",
    "array = [-15,-6,1,3,7]\n",
    "left = 0\n",
    "right = len(array)\n",
    "\n",
    "while left <= right:\n",
    "    mid = (left + right) // 2\n",
    "\n",
    "    if array[mid] == mid:\n",
    "        break\n",
    "    elif array[mid] < mid:\n",
    "        left = mid+1\n",
    "    else:\n",
    "        right = mid-1\n",
    "\n",
    "if array[mid] == mid:\n",
    "    print(mid)\n",
    "else:\n",
    "    print(-1)"
   ]
  }
 ],
 "metadata": {
  "kernelspec": {
   "display_name": "Python 3.8.9 64-bit",
   "language": "python",
   "name": "python3"
  },
  "language_info": {
   "codemirror_mode": {
    "name": "ipython",
    "version": 3
   },
   "file_extension": ".py",
   "mimetype": "text/x-python",
   "name": "python",
   "nbconvert_exporter": "python",
   "pygments_lexer": "ipython3",
   "version": "3.8.9"
  },
  "orig_nbformat": 4,
  "vscode": {
   "interpreter": {
    "hash": "31f2aee4e71d21fbe5cf8b01ff0e069b9275f58929596ceb00d14d90e3e16cd6"
   }
  }
 },
 "nbformat": 4,
 "nbformat_minor": 2
}
