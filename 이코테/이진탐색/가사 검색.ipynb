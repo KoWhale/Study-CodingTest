{
 "cells": [
  {
   "cell_type": "code",
   "execution_count": 21,
   "metadata": {},
   "outputs": [
    {
     "data": {
      "text/plain": [
       "[3, 2, 4, 1, 0]"
      ]
     },
     "execution_count": 21,
     "metadata": {},
     "output_type": "execute_result"
    }
   ],
   "source": [
    "# 14:35 ~ 14:50\n",
    "from bisect import bisect_left, bisect_right\n",
    "\n",
    "def find_match(lquery,rquery, words):\n",
    "    left = bisect_left(words, lquery)\n",
    "    right = bisect_right(words, rquery)\n",
    "\n",
    "    return right - left\n",
    "\n",
    "def solution(words, queries):\n",
    "    words_by_len = [[] for _ in range(10001)]\n",
    "    rwords_by_len = [[] for _ in range(10001)]\n",
    "\n",
    "    for word in words:\n",
    "        words_by_len[len(word)].append(word)\n",
    "        rwords_by_len[len(word)].append(word[::-1])\n",
    "    \n",
    "    for i in range(10001):\n",
    "        words_by_len[i].sort()\n",
    "        rwords_by_len[i].sort()\n",
    "\n",
    "    result = []\n",
    "    for query in queries:\n",
    "        if query[0] == '?':\n",
    "            result.append(find_match(query[::-1].replace('?','a'),query[::-1].replace('?','z'),rwords_by_len[len(query)]))\n",
    "        else:\n",
    "            result.append(find_match(query.replace('?','a'),query.replace('?','z'), words_by_len[len(query)]))\n",
    "    \n",
    "    return result\n",
    "\n",
    "solution([\"frodo\",\"front\",\"frost\",\"frozen\",\"frame\",\"kakao\"],[\"fro??\",\"????o\",\"fr???\",\"fro???\",\"pro?\"])\n"
   ]
  }
 ],
 "metadata": {
  "kernelspec": {
   "display_name": "Python 3.8.9 64-bit",
   "language": "python",
   "name": "python3"
  },
  "language_info": {
   "codemirror_mode": {
    "name": "ipython",
    "version": 3
   },
   "file_extension": ".py",
   "mimetype": "text/x-python",
   "name": "python",
   "nbconvert_exporter": "python",
   "pygments_lexer": "ipython3",
   "version": "3.8.9"
  },
  "orig_nbformat": 4,
  "vscode": {
   "interpreter": {
    "hash": "31f2aee4e71d21fbe5cf8b01ff0e069b9275f58929596ceb00d14d90e3e16cd6"
   }
  }
 },
 "nbformat": 4,
 "nbformat_minor": 2
}
