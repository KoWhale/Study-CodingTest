{
 "cells": [
  {
   "cell_type": "code",
   "execution_count": 23,
   "metadata": {},
   "outputs": [
    {
     "name": "stdout",
     "output_type": "stream",
     "text": [
      "0 3 6\n",
      "0 1 2\n",
      "0 0 0\n",
      "-1\n"
     ]
    }
   ],
   "source": [
    "# 12:48 ~ 13:02\n",
    "\n",
    "looking = 0\n",
    "array = [1,1,2,2,2,2,3]\n",
    "\n",
    "left = 0\n",
    "right = len(array)-1\n",
    "while left <= right and left >= 0 and right < len(array):\n",
    "    mid = (left + right) // 2\n",
    "    print(left,mid,right)\n",
    "    if array[mid] < looking:\n",
    "        left = mid+1\n",
    "    elif array[mid] > looking:\n",
    "        right = mid-1\n",
    "    else:\n",
    "        break\n",
    "\n",
    "count = 0\n",
    "for i in range(mid-1,-1,-1):\n",
    "    if array[i] == looking:\n",
    "        count += 1\n",
    "    else:\n",
    "        break\n",
    "\n",
    "for i in range(mid, len(array)):\n",
    "    if array[i] == looking:\n",
    "        count += 1\n",
    "    else:\n",
    "        break\n",
    "\n",
    "if count == 0:\n",
    "    print(-1)\n",
    "else:\n",
    "    print(count)"
   ]
  }
 ],
 "metadata": {
  "kernelspec": {
   "display_name": "Python 3.8.9 64-bit",
   "language": "python",
   "name": "python3"
  },
  "language_info": {
   "codemirror_mode": {
    "name": "ipython",
    "version": 3
   },
   "file_extension": ".py",
   "mimetype": "text/x-python",
   "name": "python",
   "nbconvert_exporter": "python",
   "pygments_lexer": "ipython3",
   "version": "3.8.9"
  },
  "orig_nbformat": 4,
  "vscode": {
   "interpreter": {
    "hash": "31f2aee4e71d21fbe5cf8b01ff0e069b9275f58929596ceb00d14d90e3e16cd6"
   }
  }
 },
 "nbformat": 4,
 "nbformat_minor": 2
}
