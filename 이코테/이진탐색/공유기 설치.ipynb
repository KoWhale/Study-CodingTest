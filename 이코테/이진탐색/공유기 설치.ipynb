{
 "cells": [
  {
   "cell_type": "code",
   "execution_count": 10,
   "metadata": {},
   "outputs": [
    {
     "name": "stdout",
     "output_type": "stream",
     "text": [
      "3\n"
     ]
    }
   ],
   "source": [
    "# 13:30 ~ 14:18\n",
    "\n",
    "houses = [1,2,8,4,9]\n",
    "router = 3\n",
    "\n",
    "houses.sort()\n",
    "left = 1\n",
    "right = houses[-1] - houses[0]\n",
    "\n",
    "result = 0\n",
    "while left <= right:\n",
    "    mid = (left + right) // 2\n",
    "\n",
    "    last_router = houses[0]\n",
    "    router_count = 1\n",
    "\n",
    "    for i in range(1,len(houses)):\n",
    "        if houses[i] >= last_router + mid:\n",
    "            last_router = houses[i]\n",
    "            router_count += 1\n",
    "    \n",
    "    if router_count >= router:\n",
    "        left = mid+1\n",
    "        result = mid\n",
    "    else:\n",
    "        right = mid-1\n",
    "\n",
    "print(result)"
   ]
  }
 ],
 "metadata": {
  "kernelspec": {
   "display_name": "Python 3.8.9 64-bit",
   "language": "python",
   "name": "python3"
  },
  "language_info": {
   "codemirror_mode": {
    "name": "ipython",
    "version": 3
   },
   "file_extension": ".py",
   "mimetype": "text/x-python",
   "name": "python",
   "nbconvert_exporter": "python",
   "pygments_lexer": "ipython3",
   "version": "3.8.9"
  },
  "orig_nbformat": 4,
  "vscode": {
   "interpreter": {
    "hash": "31f2aee4e71d21fbe5cf8b01ff0e069b9275f58929596ceb00d14d90e3e16cd6"
   }
  }
 },
 "nbformat": 4,
 "nbformat_minor": 2
}
