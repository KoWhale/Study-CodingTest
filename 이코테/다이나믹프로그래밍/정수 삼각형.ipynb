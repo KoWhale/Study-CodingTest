{
 "cells": [
  {
   "cell_type": "code",
   "execution_count": 9,
   "metadata": {},
   "outputs": [
    {
     "data": {
      "text/plain": [
       "30"
      ]
     },
     "execution_count": 9,
     "metadata": {},
     "output_type": "execute_result"
    }
   ],
   "source": [
    "# 17:03 ~ 17:10\n",
    "\n",
    "def solution(n, triangle):\n",
    "    dp = []\n",
    "    for col in triangle:\n",
    "        temp = []\n",
    "        for element in col:\n",
    "            temp.append(element)\n",
    "        dp.append(temp)\n",
    "    \n",
    "    for col in range(n-1):\n",
    "        for row in range(len(dp[col])):\n",
    "            dp[col+1][row] = max(dp[col+1][row],dp[col][row]+triangle[col+1][row])\n",
    "            dp[col+1][row+1] = max(dp[col+1][row+1],dp[col][row]+triangle[col+1][row+1])\n",
    "\n",
    "    return max(dp[-1])\n",
    "\n",
    "solution(5,[[7],[3,8],[8,1,0],[2,7,4,4],[4,5,2,6,5]])"
   ]
  }
 ],
 "metadata": {
  "kernelspec": {
   "display_name": "Python 3.8.9 64-bit",
   "language": "python",
   "name": "python3"
  },
  "language_info": {
   "codemirror_mode": {
    "name": "ipython",
    "version": 3
   },
   "file_extension": ".py",
   "mimetype": "text/x-python",
   "name": "python",
   "nbconvert_exporter": "python",
   "pygments_lexer": "ipython3",
   "version": "3.8.9"
  },
  "orig_nbformat": 4,
  "vscode": {
   "interpreter": {
    "hash": "31f2aee4e71d21fbe5cf8b01ff0e069b9275f58929596ceb00d14d90e3e16cd6"
   }
  }
 },
 "nbformat": 4,
 "nbformat_minor": 2
}
