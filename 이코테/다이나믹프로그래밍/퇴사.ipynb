{
 "cells": [
  {
   "cell_type": "code",
   "execution_count": 35,
   "metadata": {},
   "outputs": [
    {
     "data": {
      "text/plain": [
       "45"
      ]
     },
     "execution_count": 35,
     "metadata": {},
     "output_type": "execute_result"
    }
   ],
   "source": [
    "# 17:12 ~ 17:49\n",
    "\n",
    "def solution(days, counsle_list):\n",
    "    dp = [0] * (days+1)\n",
    "\n",
    "    for day in range(days):\n",
    "        term, money = counsle_list[day]\n",
    "        counsle_end_date = term + day\n",
    "        if counsle_end_date > days:\n",
    "            continue\n",
    "\n",
    "        dp[counsle_end_date] = max((max(dp[:day+1]) + money),dp[counsle_end_date])\n",
    "\n",
    "    return max(dp)\n",
    "\n",
    "solution(7,[[3,10],[5,20],[1,10],[1,20],[2,15],[4,40],[2,200]])\n",
    "# solution(10,[[1,1],[1,2],[1,3],[1,4],[1,5],[1,6],[1,7],[1,8],[1,9],[1,10]])\n",
    "# solution(10,[[5,10],[5,9],[5,8],[5,7],[5,6],[5,10],[5,9],[5,8],[5,7],[5,6]])\n",
    "# solution(10,[[5,50],[4,40],[3,30],[2,20],[1,10],[1,10],[2,20],[3,30],[4,40],[5,50]])"
   ]
  }
 ],
 "metadata": {
  "kernelspec": {
   "display_name": "Python 3.8.9 64-bit",
   "language": "python",
   "name": "python3"
  },
  "language_info": {
   "codemirror_mode": {
    "name": "ipython",
    "version": 3
   },
   "file_extension": ".py",
   "mimetype": "text/x-python",
   "name": "python",
   "nbconvert_exporter": "python",
   "pygments_lexer": "ipython3",
   "version": "3.8.9"
  },
  "orig_nbformat": 4,
  "vscode": {
   "interpreter": {
    "hash": "31f2aee4e71d21fbe5cf8b01ff0e069b9275f58929596ceb00d14d90e3e16cd6"
   }
  }
 },
 "nbformat": 4,
 "nbformat_minor": 2
}
