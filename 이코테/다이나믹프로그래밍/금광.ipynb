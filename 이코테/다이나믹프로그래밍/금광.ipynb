{
 "cells": [
  {
   "cell_type": "code",
   "execution_count": 43,
   "metadata": {},
   "outputs": [
    {
     "data": {
      "text/plain": [
       "19"
      ]
     },
     "execution_count": 43,
     "metadata": {},
     "output_type": "execute_result"
    }
   ],
   "source": [
    "# 15:46 ~ 16:56\n",
    "\n",
    "dx = 1\n",
    "dy = [-1,0,1]\n",
    "\n",
    "def solution(n,m,mine_list):\n",
    "    mines = []\n",
    "    for i in range(n):\n",
    "        temp = []\n",
    "        for j in range(m):\n",
    "            temp.append(mine_list[i*m+j])\n",
    "        temp.append(0)\n",
    "        mines.append(temp)\n",
    "    \n",
    "    dp = [[0] * (m+1) for _ in range(n)]\n",
    "    for y in range(n):\n",
    "        dp[y][0] = mines[y][0]\n",
    "\n",
    "    for x in range(m):\n",
    "        for y in range(n):\n",
    "            for i in range(3):\n",
    "                nx, ny = x + dx, y + dy[i]\n",
    "                if 0 <= nx < m+1 and 0 <= ny < n:\n",
    "                    dp[ny][nx] = max(dp[ny][nx], dp[y][x]+mines[ny][nx])\n",
    "\n",
    "    answer = 0\n",
    "    for y in range(n):\n",
    "        answer = max(answer, dp[y][m-1])\n",
    "    return answer\n",
    "\n",
    "solution(3,4,[1,3,3,2,2,1,4,1,0,6,4,7])\n",
    "# solution(4,4,[1,3,1,5,2,2,4,1,5,0,2,3,0,6,1,2])"
   ]
  }
 ],
 "metadata": {
  "kernelspec": {
   "display_name": "Python 3.8.9 64-bit",
   "language": "python",
   "name": "python3"
  },
  "language_info": {
   "codemirror_mode": {
    "name": "ipython",
    "version": 3
   },
   "file_extension": ".py",
   "mimetype": "text/x-python",
   "name": "python",
   "nbconvert_exporter": "python",
   "pygments_lexer": "ipython3",
   "version": "3.8.9"
  },
  "orig_nbformat": 4,
  "vscode": {
   "interpreter": {
    "hash": "31f2aee4e71d21fbe5cf8b01ff0e069b9275f58929596ceb00d14d90e3e16cd6"
   }
  }
 },
 "nbformat": 4,
 "nbformat_minor": 2
}
