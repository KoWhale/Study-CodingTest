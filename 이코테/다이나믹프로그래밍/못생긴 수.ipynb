{
 "cells": [
  {
   "cell_type": "code",
   "execution_count": 49,
   "metadata": {},
   "outputs": [
    {
     "data": {
      "text/plain": [
       "4"
      ]
     },
     "execution_count": 49,
     "metadata": {},
     "output_type": "execute_result"
    }
   ],
   "source": [
    "# 20:55 ~ 21:35\n",
    "prime_nums = [2,3]\n",
    "\n",
    "def is_prime(n):\n",
    "    global prime_nums\n",
    "    if n in prime_nums:\n",
    "        return True\n",
    "\n",
    "    for i in range(3,n):\n",
    "        if n % i == 0:\n",
    "            return False\n",
    "    else:\n",
    "        prime_nums.append(i)\n",
    "    return True\n",
    "\n",
    "def solution(n):\n",
    "    count = 0\n",
    "    i = 1\n",
    "    while count < n:\n",
    "        num = i\n",
    "        while num > 5:\n",
    "            if num % 2 == 0:\n",
    "                num //= 2\n",
    "                continue\n",
    "            elif num % 3 == 0:\n",
    "                num //= 3\n",
    "                continue\n",
    "            elif num % 5 == 0:\n",
    "                num //= 5\n",
    "                continue\n",
    "\n",
    "            if is_prime(num):\n",
    "                break\n",
    "\n",
    "        if num < 6:\n",
    "            count += 1\n",
    "        i += 1\n",
    "\n",
    "    return i-1\n",
    "\n",
    "solution(4)"
   ]
  },
  {
   "cell_type": "code",
   "execution_count": 52,
   "metadata": {},
   "outputs": [
    {
     "name": "stdout",
     "output_type": "stream",
     "text": [
      "2 3 5\n",
      "[1, 2, 0, 0, 0, 0, 0, 0, 0, 0] 0 0 0\n",
      "\n",
      "4 3 5\n",
      "[1, 2, 3, 0, 0, 0, 0, 0, 0, 0] 1 0 0\n",
      "\n",
      "4 6 5\n",
      "[1, 2, 3, 4, 0, 0, 0, 0, 0, 0] 1 1 0\n",
      "\n",
      "6 6 5\n",
      "[1, 2, 3, 4, 5, 0, 0, 0, 0, 0] 2 1 0\n",
      "\n",
      "6 6 10\n",
      "[1, 2, 3, 4, 5, 6, 0, 0, 0, 0] 2 1 1\n",
      "\n",
      "8 9 10\n",
      "[1, 2, 3, 4, 5, 6, 8, 0, 0, 0] 3 2 1\n",
      "\n",
      "10 9 10\n",
      "[1, 2, 3, 4, 5, 6, 8, 9, 0, 0] 4 2 1\n",
      "\n",
      "10 12 10\n",
      "[1, 2, 3, 4, 5, 6, 8, 9, 10, 0] 4 3 1\n",
      "\n",
      "12 12 15\n",
      "[1, 2, 3, 4, 5, 6, 8, 9, 10, 12] 5 3 2\n",
      "\n",
      "12\n"
     ]
    }
   ],
   "source": [
    "n = 10\n",
    "\n",
    "ugly = [0] * n\n",
    "ugly[0] = 1\n",
    "\n",
    "i2 = i3 = i5 = 0\n",
    "next2, next3, next5 = 2,3,5\n",
    "\n",
    "for j in range(1,n):\n",
    "    ugly[j] = min(next2,next3,next5)\n",
    "    if ugly[j] == next2:\n",
    "        i2 += 1\n",
    "        next2 = ugly[i2] * 2\n",
    "    if ugly[j] == next3:\n",
    "        i3 += 1\n",
    "        next3 = ugly[i3] * 3\n",
    "    if ugly[j] == next5:\n",
    "        i5 += 1\n",
    "        next5 = ugly[i5] * 5\n",
    "\n",
    "print(ugly[n-1])"
   ]
  }
 ],
 "metadata": {
  "kernelspec": {
   "display_name": "Python 3.8.9 64-bit",
   "language": "python",
   "name": "python3"
  },
  "language_info": {
   "codemirror_mode": {
    "name": "ipython",
    "version": 3
   },
   "file_extension": ".py",
   "mimetype": "text/x-python",
   "name": "python",
   "nbconvert_exporter": "python",
   "pygments_lexer": "ipython3",
   "version": "3.8.9"
  },
  "orig_nbformat": 4,
  "vscode": {
   "interpreter": {
    "hash": "31f2aee4e71d21fbe5cf8b01ff0e069b9275f58929596ceb00d14d90e3e16cd6"
   }
  }
 },
 "nbformat": 4,
 "nbformat_minor": 2
}
