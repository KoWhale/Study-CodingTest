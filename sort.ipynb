{
 "cells": [
  {
   "cell_type": "code",
   "execution_count": 3,
   "metadata": {},
   "outputs": [
    {
     "name": "stdout",
     "output_type": "stream",
     "text": [
      "[0, 1, 2, 3, 4, 5, 6, 7, 8, 9]\n"
     ]
    }
   ],
   "source": [
    "#선택 정렬\n",
    "array = [7,5,9,0,3,1,6,2,4,8]\n",
    "LEN = len(array)\n",
    "\n",
    "for i in range(LEN):\n",
    "    minimal_index = i\n",
    "    for j in range(i+1,LEN):\n",
    "        if array[minimal_index] > array[j]:\n",
    "            minimal_index = j\n",
    "    array[i], array[minimal_index] = array[minimal_index], array[i]\n",
    "\n",
    "print(array)"
   ]
  },
  {
   "cell_type": "code",
   "execution_count": 16,
   "metadata": {},
   "outputs": [
    {
     "name": "stdout",
     "output_type": "stream",
     "text": [
      "[0, 1, 2, 3, 4, 5, 6, 7, 8, 9]\n"
     ]
    }
   ],
   "source": [
    "#삽입 정렬\n",
    "array = [7,5,9,0,3,1,6,2,4,8]\n",
    "LEN = len(array)\n",
    "\n",
    "for i in range(1, LEN):\n",
    "    for j in range(i, 0, -1):\n",
    "        if array[j-1] > array[j]:\n",
    "            array[j-1], array[j] = array[j], array[j-1]\n",
    "        else:\n",
    "            break\n",
    "print(array)"
   ]
  },
  {
   "cell_type": "code",
   "execution_count": 12,
   "metadata": {},
   "outputs": [
    {
     "name": "stdout",
     "output_type": "stream",
     "text": [
      "0 6 9\n",
      "0 4 5\n",
      "0 2 3\n",
      "0 1 1\n"
     ]
    },
    {
     "ename": "IndexError",
     "evalue": "list index out of range",
     "output_type": "error",
     "traceback": [
      "\u001b[0;31m---------------------------------------------------------------------------\u001b[0m",
      "\u001b[0;31mIndexError\u001b[0m                                Traceback (most recent call last)",
      "\u001b[1;32m/Users/kyosun_hwang/VSCode/coding_test/sort.ipynb Cell 3'\u001b[0m in \u001b[0;36m<cell line: 33>\u001b[0;34m()\u001b[0m\n\u001b[1;32m     <a href='vscode-notebook-cell:/Users/kyosun_hwang/VSCode/coding_test/sort.ipynb#ch0000002?line=29'>30</a>\u001b[0m     quick_sort(start, small\u001b[39m-\u001b[39m\u001b[39m1\u001b[39m)\n\u001b[1;32m     <a href='vscode-notebook-cell:/Users/kyosun_hwang/VSCode/coding_test/sort.ipynb#ch0000002?line=30'>31</a>\u001b[0m     quick_sort(small\u001b[39m+\u001b[39m\u001b[39m1\u001b[39m, end)\n\u001b[0;32m---> <a href='vscode-notebook-cell:/Users/kyosun_hwang/VSCode/coding_test/sort.ipynb#ch0000002?line=32'>33</a>\u001b[0m quick_sort(\u001b[39m0\u001b[39;49m, \u001b[39m9\u001b[39;49m)\n\u001b[1;32m     <a href='vscode-notebook-cell:/Users/kyosun_hwang/VSCode/coding_test/sort.ipynb#ch0000002?line=33'>34</a>\u001b[0m array\n",
      "\u001b[1;32m/Users/kyosun_hwang/VSCode/coding_test/sort.ipynb Cell 3'\u001b[0m in \u001b[0;36mquick_sort\u001b[0;34m(start, end)\u001b[0m\n\u001b[1;32m     <a href='vscode-notebook-cell:/Users/kyosun_hwang/VSCode/coding_test/sort.ipynb#ch0000002?line=28'>29</a>\u001b[0m \u001b[39mprint\u001b[39m(start, small, end)\n\u001b[1;32m     <a href='vscode-notebook-cell:/Users/kyosun_hwang/VSCode/coding_test/sort.ipynb#ch0000002?line=29'>30</a>\u001b[0m quick_sort(start, small\u001b[39m-\u001b[39m\u001b[39m1\u001b[39m)\n\u001b[0;32m---> <a href='vscode-notebook-cell:/Users/kyosun_hwang/VSCode/coding_test/sort.ipynb#ch0000002?line=30'>31</a>\u001b[0m quick_sort(small\u001b[39m+\u001b[39;49m\u001b[39m1\u001b[39;49m, end)\n",
      "\u001b[1;32m/Users/kyosun_hwang/VSCode/coding_test/sort.ipynb Cell 3'\u001b[0m in \u001b[0;36mquick_sort\u001b[0;34m(start, end)\u001b[0m\n\u001b[1;32m     <a href='vscode-notebook-cell:/Users/kyosun_hwang/VSCode/coding_test/sort.ipynb#ch0000002?line=10'>11</a>\u001b[0m r_index \u001b[39m=\u001b[39m end\n\u001b[1;32m     <a href='vscode-notebook-cell:/Users/kyosun_hwang/VSCode/coding_test/sort.ipynb#ch0000002?line=12'>13</a>\u001b[0m \u001b[39mwhile\u001b[39;00m l_index \u001b[39m<\u001b[39m r_index:\n\u001b[0;32m---> <a href='vscode-notebook-cell:/Users/kyosun_hwang/VSCode/coding_test/sort.ipynb#ch0000002?line=13'>14</a>\u001b[0m     \u001b[39mwhile\u001b[39;00m array[l_index] \u001b[39m<\u001b[39m array[p_index] \u001b[39mand\u001b[39;00m l_index \u001b[39m<\u001b[39m\u001b[39m=\u001b[39m end:\n\u001b[1;32m     <a href='vscode-notebook-cell:/Users/kyosun_hwang/VSCode/coding_test/sort.ipynb#ch0000002?line=14'>15</a>\u001b[0m         l_index \u001b[39m+\u001b[39m\u001b[39m=\u001b[39m \u001b[39m1\u001b[39m\n\u001b[1;32m     <a href='vscode-notebook-cell:/Users/kyosun_hwang/VSCode/coding_test/sort.ipynb#ch0000002?line=15'>16</a>\u001b[0m     \u001b[39mwhile\u001b[39;00m array[r_index] \u001b[39m>\u001b[39m array[p_index] \u001b[39mand\u001b[39;00m r_index \u001b[39m>\u001b[39m\u001b[39m=\u001b[39m start:\n",
      "\u001b[0;31mIndexError\u001b[0m: list index out of range"
     ]
    }
   ],
   "source": [
    "#오류남\n",
    "#퀵 정렬\n",
    "array = [7,5,9,0,3,1,6,2,4,8]\n",
    "LEN = len(array)\n",
    "\n",
    "def quick_sort(start, end):\n",
    "    if end <= start:\n",
    "        return\n",
    "\n",
    "    p_index = start\n",
    "    l_index = start+1\n",
    "    r_index = end\n",
    "\n",
    "    while l_index < r_index:\n",
    "        while array[l_index] < array[p_index] and l_index <= end:\n",
    "            l_index += 1\n",
    "        while array[r_index] > array[p_index] and r_index >= start:\n",
    "            r_index -= 1\n",
    "        array[l_index], array[r_index] = array[r_index], array[l_index]\n",
    "        \n",
    "        l_index += 1\n",
    "        r_index -= 1\n",
    "    \n",
    "    if l_index >  r_index:\n",
    "        small = r_index\n",
    "    else:\n",
    "        small = l_index\n",
    "    \n",
    "    array[p_index], array[small] = array[small], array[p_index]\n",
    "    print(start, small, end)\n",
    "    quick_sort(start, small-1)\n",
    "    quick_sort(small+1, end)\n",
    "\n",
    "quick_sort(0, LEN-1)\n",
    "array\n"
   ]
  },
  {
   "cell_type": "code",
   "execution_count": 1,
   "metadata": {},
   "outputs": [
    {
     "data": {
      "text/plain": [
       "[0, 1, 2, 3, 4, 5, 6, 7, 8, 9]"
      ]
     },
     "execution_count": 1,
     "metadata": {},
     "output_type": "execute_result"
    }
   ],
   "source": [
    "#퀵 정렬\n",
    "array = [7,5,9,0,3,1,6,2,4,8]\n",
    "LEN = len(array)\n",
    "\n",
    "def quick_sort(start, end):\n",
    "    if end <= start:\n",
    "        return\n",
    "\n",
    "    p_index = start\n",
    "    l_index = start+1\n",
    "    r_index = end\n",
    "\n",
    "    while l_index <= r_index:\n",
    "        while l_index <= end and array[l_index] < array[p_index]:\n",
    "            l_index += 1\n",
    "        while r_index > start and array[r_index] > array[p_index]:\n",
    "            r_index -= 1\n",
    "    \n",
    "        if l_index > r_index:\n",
    "            array[p_index], array[r_index] = array[r_index], array[p_index]\n",
    "        else:\n",
    "            array[l_index], array[r_index] = array[r_index], array[l_index]\n",
    "    \n",
    "    quick_sort(start, r_index-1)\n",
    "    quick_sort(r_index+1, end)\n",
    "\n",
    "quick_sort(0, LEN-1)\n",
    "array\n"
   ]
  },
  {
   "cell_type": "code",
   "execution_count": 5,
   "metadata": {},
   "outputs": [
    {
     "name": "stdout",
     "output_type": "stream",
     "text": [
      "9 8 2 1 "
     ]
    }
   ],
   "source": [
    "#위에서 아로\n",
    "#22:05 ~ 22:08\n",
    "N = int(input())\n",
    "array = []\n",
    "\n",
    "for i in range(N):\n",
    "    array.append(int(input()))\n",
    "array = sorted(array, reverse=True)\n",
    "\n",
    "for i in array:\n",
    "    print(i, end=\" \")"
   ]
  },
  {
   "cell_type": "code",
   "execution_count": 8,
   "metadata": {},
   "outputs": [
    {
     "name": "stdout",
     "output_type": "stream",
     "text": [
      "이순 홍길 "
     ]
    }
   ],
   "source": [
    "#성적이 낮은 순서로 학생 출력하기\n",
    "#22:08 ~ 22:15\n",
    "N = int(input())\n",
    "array = []\n",
    "\n",
    "for i in range(N):\n",
    "    s = input().split()\n",
    "    name, score = s[0], int(s[1])\n",
    "    array.append((name,score))\n",
    "\n",
    "array.sort(key=lambda x:x[1])\n",
    "\n",
    "for i in array:\n",
    "    print(i[0],end= \" \")"
   ]
  },
  {
   "cell_type": "code",
   "execution_count": 12,
   "metadata": {},
   "outputs": [
    {
     "name": "stdout",
     "output_type": "stream",
     "text": [
      "26\n",
      "[6, 6, 5, 4, 5]\n"
     ]
    }
   ],
   "source": [
    "#두 배열의 원소 교체\n",
    "#22:16 ~ 22:19\n",
    "N, K = map(int, input().split())\n",
    "A = list(map(int, input().split()))\n",
    "B = list(map(int, input().split()))\n",
    "A.sort()\n",
    "B.sort(reverse=True)\n",
    "\n",
    "for i in range(K):\n",
    "    if A[i] <= B[i]:\n",
    "        A[i] = B[i]\n",
    "    else:\n",
    "        break\n",
    "\n",
    "print(sum(A))"
   ]
  }
 ],
 "metadata": {
  "interpreter": {
   "hash": "aee8b7b246df8f9039afb4144a1f6fd8d2ca17a180786b69acc140d282b71a49"
  },
  "kernelspec": {
   "display_name": "Python 3.9.10 64-bit",
   "language": "python",
   "name": "python3"
  },
  "language_info": {
   "codemirror_mode": {
    "name": "ipython",
    "version": 3
   },
   "file_extension": ".py",
   "mimetype": "text/x-python",
   "name": "python",
   "nbconvert_exporter": "python",
   "pygments_lexer": "ipython3",
   "version": "3.9.10"
  },
  "orig_nbformat": 4
 },
 "nbformat": 4,
 "nbformat_minor": 2
}
