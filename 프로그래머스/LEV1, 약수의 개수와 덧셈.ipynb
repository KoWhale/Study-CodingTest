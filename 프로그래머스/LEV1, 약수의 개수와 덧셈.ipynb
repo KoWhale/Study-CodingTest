{
 "cells": [
  {
   "cell_type": "code",
   "execution_count": 9,
   "metadata": {},
   "outputs": [
    {
     "data": {
      "text/plain": [
       "52"
      ]
     },
     "execution_count": 9,
     "metadata": {},
     "output_type": "execute_result"
    }
   ],
   "source": [
    "# 13:20 ~ 13:32\n",
    "\n",
    "def solution(left, right):\n",
    "    even, odd = 0, 0\n",
    "\n",
    "    for i in range(left, right+1):\n",
    "        measure = 0\n",
    "        for j in range(1,i+1):\n",
    "            if i % j == 0:\n",
    "                measure += 1\n",
    "\n",
    "        if measure % 2 == 0:\n",
    "            even += i\n",
    "        else:\n",
    "            odd += i\n",
    "\n",
    "    return even - odd\n",
    "\n",
    "solution(24,27)"
   ]
  }
 ],
 "metadata": {
  "kernelspec": {
   "display_name": "Python 3.9.10 64-bit",
   "language": "python",
   "name": "python3"
  },
  "language_info": {
   "codemirror_mode": {
    "name": "ipython",
    "version": 3
   },
   "file_extension": ".py",
   "mimetype": "text/x-python",
   "name": "python",
   "nbconvert_exporter": "python",
   "pygments_lexer": "ipython3",
   "version": "3.9.10"
  },
  "orig_nbformat": 4,
  "vscode": {
   "interpreter": {
    "hash": "aee8b7b246df8f9039afb4144a1f6fd8d2ca17a180786b69acc140d282b71a49"
   }
  }
 },
 "nbformat": 4,
 "nbformat_minor": 2
}
