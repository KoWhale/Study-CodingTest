{
 "cells": [
  {
   "cell_type": "code",
   "execution_count": 11,
   "metadata": {},
   "outputs": [
    {
     "name": "stdout",
     "output_type": "stream",
     "text": [
      "4\n"
     ]
    }
   ],
   "source": [
    "n = 5\n",
    "lost = [1,2,3,4,5]\n",
    "reserve = [1,2,4,5]\n",
    "\n",
    "lost.sort()\n",
    "reserve.sort()\n",
    "\n",
    "Lost = [l for l in lost if l not in reserve]\n",
    "Reserve = [r for r in reserve if r not in lost]\n",
    "\n",
    "for r in Reserve:\n",
    "    if r - 1 in Lost:\n",
    "        Lost.remove(r - 1)\n",
    "    elif r + 1 in Lost:\n",
    "        Lost.remove(r + 1)\n",
    "\n",
    "print(n - len(Lost))"
   ]
  }
 ],
 "metadata": {
  "kernelspec": {
   "display_name": "Python 3.9.10 64-bit",
   "language": "python",
   "name": "python3"
  },
  "language_info": {
   "codemirror_mode": {
    "name": "ipython",
    "version": 3
   },
   "file_extension": ".py",
   "mimetype": "text/x-python",
   "name": "python",
   "nbconvert_exporter": "python",
   "pygments_lexer": "ipython3",
   "version": "3.9.10"
  },
  "orig_nbformat": 4,
  "vscode": {
   "interpreter": {
    "hash": "aee8b7b246df8f9039afb4144a1f6fd8d2ca17a180786b69acc140d282b71a49"
   }
  }
 },
 "nbformat": 4,
 "nbformat_minor": 2
}
