{
 "cells": [
  {
   "cell_type": "code",
   "execution_count": 52,
   "metadata": {},
   "outputs": [],
   "source": [
    "name = \"AABA\""
   ]
  },
  {
   "cell_type": "code",
   "execution_count": 54,
   "metadata": {},
   "outputs": [
    {
     "name": "stdout",
     "output_type": "stream",
     "text": [
      "2\n"
     ]
    }
   ],
   "source": [
    "long_A_count = 0\n",
    "long_A_index = -1\n",
    "\n",
    "length = len(name)\n",
    "\n",
    "up_down_count = 0\n",
    "left_right_count = length - 1\n",
    "\n",
    "for i, char in enumerate(name):\n",
    "    if char == 'A' and not long_A_index <= i < long_A_index + long_A_count:\n",
    "        cur_A_count = 1\n",
    "        cur_A_index = i\n",
    "\n",
    "        while cur_A_index + cur_A_count < length and name[cur_A_index + cur_A_count] == 'A':\n",
    "            cur_A_count += 1\n",
    "        \n",
    "        if cur_A_count >= long_A_count:\n",
    "            long_A_count = cur_A_count\n",
    "            long_A_index = cur_A_index\n",
    "        \n",
    "    up_down_count += min(ord(char) - ord('A'), ord('Z') - ord(char) + 1)\n",
    "\n",
    "long_A_end = long_A_index + long_A_count\n",
    "if long_A_index != -1:\n",
    "    left_right_count = min(left_right_count, (long_A_index-1) * 2 + len(name) - long_A_end > -1)\n",
    "    left_right_count = max(0, left_right_count)\n",
    "print(up_down_count + left_right_count)"
   ]
  }
 ],
 "metadata": {
  "kernelspec": {
   "display_name": "Python 3.9.10 64-bit",
   "language": "python",
   "name": "python3"
  },
  "language_info": {
   "codemirror_mode": {
    "name": "ipython",
    "version": 3
   },
   "file_extension": ".py",
   "mimetype": "text/x-python",
   "name": "python",
   "nbconvert_exporter": "python",
   "pygments_lexer": "ipython3",
   "version": "3.9.10"
  },
  "orig_nbformat": 4,
  "vscode": {
   "interpreter": {
    "hash": "aee8b7b246df8f9039afb4144a1f6fd8d2ca17a180786b69acc140d282b71a49"
   }
  }
 },
 "nbformat": 4,
 "nbformat_minor": 2
}
