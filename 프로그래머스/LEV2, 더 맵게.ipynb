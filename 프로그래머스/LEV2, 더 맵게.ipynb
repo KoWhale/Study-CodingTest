{
 "cells": [
  {
   "cell_type": "code",
   "execution_count": 1,
   "metadata": {},
   "outputs": [
    {
     "data": {
      "text/plain": [
       "2"
      ]
     },
     "execution_count": 1,
     "metadata": {},
     "output_type": "execute_result"
    }
   ],
   "source": [
    "# 13:27 ~ 13:33\n",
    "import heapq\n",
    "\n",
    "def solution(scoville, K):\n",
    "    heap = []\n",
    "    for food in scoville:\n",
    "        heapq.heappush(heap, food)\n",
    "\n",
    "    count = 0\n",
    "    while len(heap) >= 2 and heap[0] < K:\n",
    "        food_1 = heapq.heappop(heap)\n",
    "        food_2 = heapq.heappop(heap)\n",
    "        heapq.heappush(heap, food_1 + food_2 * 2)\n",
    "        count += 1\n",
    "    \n",
    "    if len(heap) == 1 and heap[0] < K:\n",
    "        return -1\n",
    "    return count\n",
    "\n",
    "solution([1,2,3,9,10,12], 7)"
   ]
  }
 ],
 "metadata": {
  "kernelspec": {
   "display_name": "Python 3.9.10 64-bit",
   "language": "python",
   "name": "python3"
  },
  "language_info": {
   "codemirror_mode": {
    "name": "ipython",
    "version": 3
   },
   "file_extension": ".py",
   "mimetype": "text/x-python",
   "name": "python",
   "nbconvert_exporter": "python",
   "pygments_lexer": "ipython3",
   "version": "3.9.10"
  },
  "orig_nbformat": 4,
  "vscode": {
   "interpreter": {
    "hash": "aee8b7b246df8f9039afb4144a1f6fd8d2ca17a180786b69acc140d282b71a49"
   }
  }
 },
 "nbformat": 4,
 "nbformat_minor": 2
}
