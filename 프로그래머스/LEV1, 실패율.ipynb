{
 "cells": [
  {
   "cell_type": "code",
   "execution_count": 29,
   "metadata": {},
   "outputs": [
    {
     "data": {
      "text/plain": [
       "[4, 1, 2, 3, 5]"
      ]
     },
     "execution_count": 29,
     "metadata": {},
     "output_type": "execute_result"
    }
   ],
   "source": [
    "# 15:45 ~ 16:15\n",
    "\n",
    "def solution(N, stages):\n",
    "    stages.sort()\n",
    "    fail_counts = [0] * (N+2)\n",
    "    for stage in stages:\n",
    "        fail_counts[stage] += 1\n",
    "\n",
    "    fail_ratio = []\n",
    "    current_clear_count = fail_counts[N+1]\n",
    "    for i in range(N, 0, -1):\n",
    "        current_clear_count += fail_counts[i]\n",
    "        ratio = 0\n",
    "        if current_clear_count != 0:\n",
    "            ratio = fail_counts[i]/current_clear_count\n",
    "        fail_ratio.append((ratio,i))\n",
    "\n",
    "    return [i[1] for i in sorted(fail_ratio, reverse=True, key= lambda x: (x[0],-x[1]))]\n",
    "\n",
    "solution(5, [4,4,4,4,4])"
   ]
  }
 ],
 "metadata": {
  "kernelspec": {
   "display_name": "Python 3.9.10 64-bit",
   "language": "python",
   "name": "python3"
  },
  "language_info": {
   "codemirror_mode": {
    "name": "ipython",
    "version": 3
   },
   "file_extension": ".py",
   "mimetype": "text/x-python",
   "name": "python",
   "nbconvert_exporter": "python",
   "pygments_lexer": "ipython3",
   "version": "3.9.10"
  },
  "orig_nbformat": 4,
  "vscode": {
   "interpreter": {
    "hash": "aee8b7b246df8f9039afb4144a1f6fd8d2ca17a180786b69acc140d282b71a49"
   }
  }
 },
 "nbformat": 4,
 "nbformat_minor": 2
}
