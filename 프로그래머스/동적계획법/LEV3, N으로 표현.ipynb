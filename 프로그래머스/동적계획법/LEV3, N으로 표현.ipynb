{
 "cells": [
  {
   "cell_type": "code",
   "execution_count": 23,
   "metadata": {},
   "outputs": [
    {
     "name": "stdout",
     "output_type": "stream",
     "text": [
      "0 0\n",
      "0 1\n",
      "1 0\n",
      "0 2\n",
      "1 1\n",
      "2 0\n",
      "4\n",
      "-1\n",
      "{0, 1, 2, 3, 4, 5, 6, 7, -250, 9, 10, 11, 12, -120, 270, 15, 16, 130, 20, 150, 280, 25, 26, 24, -100, 30, 35, 550, 300, 45, 560, 50, 5555, 54, 55, 56, 65, -55, -54, 75, 80, 3025, -45, 2775, -550, 120, 1375, -30, 100, -25, -24, 250, -20, 110, 111, -15, -270, 625, -10, -9, -2, -6, -5, -4, -3, -1}\n"
     ]
    }
   ],
   "source": [
    "N = 5\n",
    "number = 12\n",
    "\n",
    "sets = [set() for _ in range(9)]\n",
    "for i, s in enumerate(sets, start=1):\n",
    "    s.add(int(str(N)*i))\n",
    "\n",
    "for i in range(1,8):\n",
    "    for j in range(i):\n",
    "        for a in sets[j]:\n",
    "            for b in sets[i-j-1]:\n",
    "                sets[i].add(a+b)\n",
    "                sets[i].add(a*b)\n",
    "                sets[i].add(a-b)\n",
    "                sets[i].add(b-a)\n",
    "                if a != 0:\n",
    "                    sets[i].add(b//a)\n",
    "                if b != 0:\n",
    "                    sets[i].add(a//b)\n",
    "    if number in sets[i]:\n",
    "        print(i+1)\n",
    "        break\n",
    "\n",
    "print(-1)"
   ]
  }
 ],
 "metadata": {
  "interpreter": {
   "hash": "31f2aee4e71d21fbe5cf8b01ff0e069b9275f58929596ceb00d14d90e3e16cd6"
  },
  "kernelspec": {
   "display_name": "Python 3.8.9 64-bit",
   "language": "python",
   "name": "python3"
  },
  "language_info": {
   "codemirror_mode": {
    "name": "ipython",
    "version": 3
   },
   "file_extension": ".py",
   "mimetype": "text/x-python",
   "name": "python",
   "nbconvert_exporter": "python",
   "pygments_lexer": "ipython3",
   "version": "3.8.9"
  },
  "orig_nbformat": 4
 },
 "nbformat": 4,
 "nbformat_minor": 2
}
