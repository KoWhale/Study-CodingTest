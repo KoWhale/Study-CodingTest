{
 "cells": [
  {
   "cell_type": "code",
   "execution_count": 37,
   "metadata": {},
   "outputs": [
    {
     "data": {
      "text/plain": [
       "21"
      ]
     },
     "execution_count": 37,
     "metadata": {},
     "output_type": "execute_result"
    }
   ],
   "source": [
    "money = [9,2,3,9,3,3,7]\n",
    "#1,3,5\n",
    "#2,3,2\n",
    "\n",
    "def solution(money):\n",
    "    dp1 = [0] * len(money)\n",
    "    dp1[0] = money[0]\n",
    "    dp1[1] = max(money[0], money[1])\n",
    "    for i in range(2, len(money)-1):\n",
    "        dp1[i] = max(dp1[i-2]+money[i], dp1[i-1])\n",
    "\n",
    "    dp2 = [0] * len(money)\n",
    "    dp2[0] = 0\n",
    "    dp2[1] = money[1]\n",
    "    for i in range(2, len(money)):\n",
    "        dp2[i] = max(dp2[i-2]+money[i], dp2[i-1])\n",
    "\n",
    "    return max(max(dp1), max(dp2))\n",
    "\n",
    "solution(money)"
   ]
  }
 ],
 "metadata": {
  "interpreter": {
   "hash": "31f2aee4e71d21fbe5cf8b01ff0e069b9275f58929596ceb00d14d90e3e16cd6"
  },
  "kernelspec": {
   "display_name": "Python 3.8.9 64-bit",
   "language": "python",
   "name": "python3"
  },
  "language_info": {
   "codemirror_mode": {
    "name": "ipython",
    "version": 3
   },
   "file_extension": ".py",
   "mimetype": "text/x-python",
   "name": "python",
   "nbconvert_exporter": "python",
   "pygments_lexer": "ipython3",
   "version": "3.8.9"
  },
  "orig_nbformat": 4
 },
 "nbformat": 4,
 "nbformat_minor": 2
}
