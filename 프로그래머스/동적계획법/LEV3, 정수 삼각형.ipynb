{
 "cells": [
  {
   "cell_type": "code",
   "execution_count": 14,
   "metadata": {},
   "outputs": [
    {
     "name": "stdout",
     "output_type": "stream",
     "text": [
      "30\n"
     ]
    }
   ],
   "source": [
    "#                           0\n",
    "#                       1      2\n",
    "#                   3      4     5\n",
    "#               6      7      8     9\n",
    "#           10     11     12     13    14\n",
    "#       15     16      17     18   19     20\n",
    "#   21     22      23     24    25     26    27\n",
    "#28     29      30     31\n",
    "\n",
    "#시작 인덱스 : 0, 1,    1+2,    1+2+3,      1+2+3+4\n",
    "#종료 인덱스 : 0, 1+1,  1+2+2,  1+2+3+3,    1+2+3+4+4\n",
    "\n",
    "triangle = [[7], [3, 8], [8, 1, 0], [2, 7, 4, 4], [4, 5, 2, 6, 5]]\n",
    "\n",
    "for i in range(1, len(triangle)):\n",
    "    triangle[i][0] += triangle[i-1][0]\n",
    "    triangle[i][-1] += triangle[i-1][-1]\n",
    "    for j in range(1,len(triangle[i])-1):\n",
    "        triangle[i][j] += max(triangle[i-1][j-1],triangle[i-1][j])\n",
    "\n",
    "print(max(triangle[-1]))"
   ]
  },
  {
   "cell_type": "code",
   "execution_count": null,
   "metadata": {},
   "outputs": [],
   "source": [
    "triangle = [[7], [3, 8], [8, 1, 0], [2, 7, 4, 4], [4, 5, 2, 6, 5]]\n"
   ]
  }
 ],
 "metadata": {
  "interpreter": {
   "hash": "31f2aee4e71d21fbe5cf8b01ff0e069b9275f58929596ceb00d14d90e3e16cd6"
  },
  "kernelspec": {
   "display_name": "Python 3.8.9 64-bit",
   "language": "python",
   "name": "python3"
  },
  "language_info": {
   "codemirror_mode": {
    "name": "ipython",
    "version": 3
   },
   "file_extension": ".py",
   "mimetype": "text/x-python",
   "name": "python",
   "nbconvert_exporter": "python",
   "pygments_lexer": "ipython3",
   "version": "3.8.9"
  },
  "orig_nbformat": 4
 },
 "nbformat": 4,
 "nbformat_minor": 2
}
