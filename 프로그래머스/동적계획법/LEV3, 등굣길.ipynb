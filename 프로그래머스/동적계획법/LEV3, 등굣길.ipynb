{
 "cells": [
  {
   "cell_type": "code",
   "execution_count": 16,
   "metadata": {},
   "outputs": [
    {
     "name": "stdout",
     "output_type": "stream",
     "text": [
      "4\n"
     ]
    },
    {
     "data": {
      "text/plain": [
       "[[0, 0, 0, 0, 0], [0, 1, 1, 1, 1], [0, 1, -1, 1, 2], [0, 1, 1, 2, 4]]"
      ]
     },
     "execution_count": 16,
     "metadata": {},
     "output_type": "execute_result"
    }
   ],
   "source": [
    "m, n = 4, 3\n",
    "puddles = [[2,2]]\n",
    "\n",
    "coor = [[0 for _ in range(m+1)] for __ in range(n+1)]\n",
    "for y,x in puddles:\n",
    "    coor[x][y] = -1\n",
    "\n",
    "route = 1\n",
    "for x in range(1,n+1):\n",
    "    if coor[x][1] == -1:\n",
    "        route = -1\n",
    "    coor[x][1] = route\n",
    "\n",
    "route = 1\n",
    "for y in range(1,m+1):\n",
    "    if coor[1][y] == -1:\n",
    "        route = -1\n",
    "    coor[1][y] = route\n",
    "\n",
    "for x in range(2,n+1):\n",
    "    for y in range(2,m+1):\n",
    "        if coor[x][y] == -1:\n",
    "            continue\n",
    "            \n",
    "        if coor[x-1][y] > -1:\n",
    "            coor[x][y] += coor[x-1][y]\n",
    "        if coor[x][y-1] > -1:\n",
    "            coor[x][y] += coor[x][y-1]\n",
    "\n",
    "print(coor[n][m] % 1000000007)\n",
    "coor"
   ]
  }
 ],
 "metadata": {
  "interpreter": {
   "hash": "31f2aee4e71d21fbe5cf8b01ff0e069b9275f58929596ceb00d14d90e3e16cd6"
  },
  "kernelspec": {
   "display_name": "Python 3.8.9 64-bit",
   "language": "python",
   "name": "python3"
  },
  "language_info": {
   "codemirror_mode": {
    "name": "ipython",
    "version": 3
   },
   "file_extension": ".py",
   "mimetype": "text/x-python",
   "name": "python",
   "nbconvert_exporter": "python",
   "pygments_lexer": "ipython3",
   "version": "3.8.9"
  },
  "orig_nbformat": 4
 },
 "nbformat": 4,
 "nbformat_minor": 2
}
