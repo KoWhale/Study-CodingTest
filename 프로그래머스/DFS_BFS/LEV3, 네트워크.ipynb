{
 "cells": [
  {
   "cell_type": "code",
   "execution_count": 67,
   "metadata": {},
   "outputs": [
    {
     "name": "stdout",
     "output_type": "stream",
     "text": [
      "[0, 0, 0, 0]\n",
      "1\n"
     ]
    }
   ],
   "source": [
    "n = 4\n",
    "computers = [[1, 0, 0, 1], [0, 1, 1, 0], [0, 1, 1, 0], [1, 1, 0, 1]]\n",
    "# computers = [[1, 0, 1, 1], [0, 1, 0, 0], [1, 0, 1, 1] , [1, 0, 1, 1]]\n",
    "\n",
    "parent = [i for i in range(n)]\n",
    "\n",
    "def find_parent(x):\n",
    "    if parent[x] != x:\n",
    "        parent[x] = find_parent(parent[x])\n",
    "    return parent[x]\n",
    "\n",
    "def union_parent(a, b):\n",
    "    a = find_parent(a)\n",
    "    b = find_parent(b)\n",
    "\n",
    "    if a < b:\n",
    "        parent[b] = a\n",
    "    else:\n",
    "        parent[a] = b\n",
    "\n",
    "for i in range(n):\n",
    "    for j in range(n):\n",
    "        if computers[i][j] == 1:\n",
    "            union_parent(i,j)\n",
    "\n",
    "for i in range(n):\n",
    "    parent[i] = find_parent(i)\n",
    "\n",
    "print(parent)\n",
    "print(len(set(parent)))"
   ]
  },
  {
   "cell_type": "code",
   "execution_count": 66,
   "metadata": {},
   "outputs": [
    {
     "data": {
      "text/plain": [
       "1"
      ]
     },
     "execution_count": 66,
     "metadata": {},
     "output_type": "execute_result"
    }
   ],
   "source": [
    "def solution(n, computers):\n",
    "    \n",
    "    answer = 0\n",
    "    \n",
    "    parent = [i for i in range(n)]\n",
    "    \n",
    "    def find(target):\n",
    "        if target == parent[target]:\n",
    "            return target\n",
    "    \n",
    "        parent[target] = find(parent[target])\n",
    "        return parent[target]\n",
    "    \n",
    "    def union(a, b):\n",
    "        a = find(a)\n",
    "        b = find(b)\n",
    "    \n",
    "        if a < b:\n",
    "            parent[b] = a\n",
    "        else:\n",
    "            parent[a] = b\n",
    "    \n",
    "    #배열을 싹다 돌면서 연결되어 있는 경우 부모를 찾아낸다.\n",
    "    for i in range(n):\n",
    "        for j in range(n):\n",
    "            if computers[i][j] == 0:\n",
    "                continue\n",
    "            union(i, j)\n",
    "    \n",
    "    #예외처리\n",
    "    for i in range(n):\n",
    "        parent[i] = find(i)\n",
    "    \n",
    "    answer = len(set(parent))\n",
    "    \n",
    "    return answer\n",
    "solution(n, computers)"
   ]
  },
  {
   "cell_type": "code",
   "execution_count": 23,
   "metadata": {},
   "outputs": [
    {
     "name": "stdout",
     "output_type": "stream",
     "text": [
      "0\n",
      "0\n",
      "1\n",
      "0\n",
      "1\n",
      "[1, 1, 1]\n"
     ]
    }
   ],
   "source": [
    "n = 3\n",
    "computers = [[1, 1, 0], [1, 1, 0], [0, 0, 1]]\n",
    "\n",
    "from queue import PriorityQueue\n",
    "visited = [False] * n\n",
    "head = [i for i in range(n)]\n",
    "\n",
    "queue = PriorityQueue()\n",
    "queue.put(0)\n",
    "\n",
    "while queue.empty() == False:\n",
    "    i = queue.get()\n",
    "    print(i)\n",
    "\n",
    "    if visited[i]:\n",
    "        continue\n",
    "    visited[i] = True\n",
    "\n",
    "    for j in range(n):\n",
    "        if computers[i][j] == 1:\n",
    "            queue.put(j)\n",
    "        head[i] = i\n",
    "        head[j] = i\n",
    "print(len(set(head)))"
   ]
  },
  {
   "cell_type": "code",
   "execution_count": 33,
   "metadata": {},
   "outputs": [
    {
     "name": "stdout",
     "output_type": "stream",
     "text": [
      "2\n"
     ]
    }
   ],
   "source": [
    "n = 3\n",
    "computers = [[1, 1, 0], [1, 1, 0], [0, 0, 1]]\n",
    "\n",
    "def dfs(start, visited, computers, n):\n",
    "    visited.append(start)\n",
    "\n",
    "    for i in range(n):\n",
    "        if i not in visited and computers[start][i] == 1:\n",
    "            dfs(i, visited, computers, n)\n",
    "\n",
    "answer = 0\n",
    "visited = []\n",
    "\n",
    "for start in range(n):\n",
    "    if start in visited:\n",
    "        continue\n",
    "    dfs(start, visited, computers, n)\n",
    "    answer += 1\n",
    "\n",
    "print(answer)"
   ]
  }
 ],
 "metadata": {
  "interpreter": {
   "hash": "31f2aee4e71d21fbe5cf8b01ff0e069b9275f58929596ceb00d14d90e3e16cd6"
  },
  "kernelspec": {
   "display_name": "Python 3.8.9 64-bit",
   "language": "python",
   "name": "python3"
  },
  "language_info": {
   "codemirror_mode": {
    "name": "ipython",
    "version": 3
   },
   "file_extension": ".py",
   "mimetype": "text/x-python",
   "name": "python",
   "nbconvert_exporter": "python",
   "pygments_lexer": "ipython3",
   "version": "3.8.9"
  },
  "orig_nbformat": 4
 },
 "nbformat": 4,
 "nbformat_minor": 2
}
