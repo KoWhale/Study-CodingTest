{
 "cells": [
  {
   "cell_type": "code",
   "execution_count": 35,
   "metadata": {},
   "outputs": [
    {
     "data": {
      "text/plain": [
       "[1, 0, 1, 1, 1]"
      ]
     },
     "execution_count": 35,
     "metadata": {},
     "output_type": "execute_result"
    }
   ],
   "source": [
    "# 13:19 ~ 13:58 중단 14:15 ~ 14:50\n",
    "\n",
    "ROOM_SIZE = 5\n",
    "MANHATAN_DISTANCE = 2\n",
    "\n",
    "dx = [1,0,-1,0]\n",
    "dy = [0,1,0,-1]\n",
    "\n",
    "def get_queue(x,y,place,visit,manhatan):\n",
    "    if manhatan > MANHATAN_DISTANCE:\n",
    "        return []\n",
    "\n",
    "    q = []\n",
    "    for i in range(4):\n",
    "        nx, ny = x + dx[i], y + dy[i]\n",
    "        if 0 > nx or 0 > ny or ROOM_SIZE <= nx or ROOM_SIZE <= ny:\n",
    "            continue\n",
    "\n",
    "        if place[ny][nx] == 'X' or visit[ny][nx]:\n",
    "            continue\n",
    "\n",
    "        if place[ny][nx] == 'P':\n",
    "            return [(nx,ny,manhatan)]\n",
    "\n",
    "        visit[ny][nx] = True\n",
    "        q.append((nx,ny,manhatan))\n",
    "    \n",
    "    return q\n",
    "\n",
    "def room_check(place):\n",
    "    for i in range(ROOM_SIZE):\n",
    "        for j in range(ROOM_SIZE):\n",
    "            if place[i][j] != 'P':\n",
    "                continue\n",
    "\n",
    "            visit = [[False]*ROOM_SIZE for i in range(ROOM_SIZE)]\n",
    "            visit[i][j] = True\n",
    "            q = get_queue(j,i,place,visit,1)\n",
    "            \n",
    "            while q:\n",
    "                x, y,manhatan = q.pop()\n",
    "\n",
    "                if place[y][x] == 'P':\n",
    "                    return 0\n",
    "                else:\n",
    "                    q += get_queue(x,y,place,visit,manhatan+1)\n",
    "\n",
    "    return 1\n",
    "\n",
    "def solution(places):\n",
    "    answer = []\n",
    "\n",
    "    for place in places:\n",
    "        answer.append(room_check(place))\n",
    "                        \n",
    "    return answer\n",
    "\n",
    "solution([[\"POOOP\", \"OXXOX\", \"OPXPX\", \"OOXOX\", \"POXXP\"], [\"POOPX\", \"OXPXP\", \"PXXXO\", \"OXXXO\", \"OOOPP\"], [\"PXOPX\", \"OXOXP\", \"OXPOX\", \"OXXOP\", \"PXPOX\"], [\"OOOXX\", \"XOOOX\", \"OOOXX\", \"OXOOX\", \"OOOOO\"], [\"PXPXP\", \"XPXPX\", \"PXPXP\", \"XPXPX\", \"PXPXP\"]])"
   ]
  }
 ],
 "metadata": {
  "kernelspec": {
   "display_name": "Python 3.9.10 64-bit",
   "language": "python",
   "name": "python3"
  },
  "language_info": {
   "codemirror_mode": {
    "name": "ipython",
    "version": 3
   },
   "file_extension": ".py",
   "mimetype": "text/x-python",
   "name": "python",
   "nbconvert_exporter": "python",
   "pygments_lexer": "ipython3",
   "version": "3.9.10"
  },
  "orig_nbformat": 4,
  "vscode": {
   "interpreter": {
    "hash": "aee8b7b246df8f9039afb4144a1f6fd8d2ca17a180786b69acc140d282b71a49"
   }
  }
 },
 "nbformat": 4,
 "nbformat_minor": 2
}
