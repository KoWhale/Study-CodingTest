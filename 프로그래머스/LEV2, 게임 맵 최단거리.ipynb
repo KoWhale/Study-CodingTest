{
 "cells": [
  {
   "cell_type": "code",
   "execution_count": 16,
   "metadata": {},
   "outputs": [
    {
     "data": {
      "text/plain": [
       "11"
      ]
     },
     "execution_count": 16,
     "metadata": {},
     "output_type": "execute_result"
    }
   ],
   "source": [
    "# 19:55 ~ 20:26 DFS 포기\n",
    "INF = 10e5\n",
    "dx = [1,0,-1,0]\n",
    "dy = [0,1,0,-1]\n",
    "n, m = 0, 0\n",
    "array_map, distance_map, visit = 0, 0, 0\n",
    "\n",
    "def dfs(x,y,cost):\n",
    "    visit[y][x] = True\n",
    "    distance_map[y][x] = cost\n",
    "\n",
    "    for i in range(4):\n",
    "        nx, ny = x + dx[i], y + dy[i]\n",
    "        if nx < 0 or nx >= m or ny < 0 or ny >= n:\n",
    "            continue\n",
    "        if array_map[ny][nx] == 0 or visit[ny][nx]:\n",
    "            continue\n",
    "        dfs(nx,ny,cost+1)\n",
    "\n",
    "def solution(maps):\n",
    "    global n, m, array_map, distance_map, visit\n",
    "    n, m, array_map = len(maps), len(maps[0]), maps\n",
    "    distance_map = [[INF] * m for _ in range(n)]\n",
    "    visit = [[False] * m for _ in range(n)]\n",
    "\n",
    "    dfs(0, 0, 1)\n",
    "\n",
    "    if distance_map[n-1][m-1] == INF:\n",
    "        return -1\n",
    "    else:\n",
    "        return distance_map[n-1][m-1]\n",
    "\n",
    "solution([[1,0,1,1,1],[1,0,1,0,1],[1,0,1,1,1],[1,1,1,0,1],[0,0,0,0,1]])\n",
    "# solution([[1,0,1,1,1],[1,0,1,0,1],[1,0,1,1,1],[1,1,1,0,0],[0,0,0,0,1]])"
   ]
  },
  {
   "cell_type": "code",
   "execution_count": 3,
   "metadata": {},
   "outputs": [
    {
     "data": {
      "text/plain": [
       "11"
      ]
     },
     "execution_count": 3,
     "metadata": {},
     "output_type": "execute_result"
    }
   ],
   "source": [
    "import heapq\n",
    "\n",
    "INF = 10e5\n",
    "dx = [1,0,-1,0]\n",
    "dy = [0,1,0,-1]\n",
    "\n",
    "def solution(maps):\n",
    "    n, m = len(maps), len(maps[0])\n",
    "    visit = [[False] * m for _ in range(n)]\n",
    "    distance_map = [[INF] * m for _ in range(n)]\n",
    "\n",
    "    q = []\n",
    "    heapq.heappush(q, (1,0,0))\n",
    "\n",
    "    while q:\n",
    "        cost, x, y = heapq.heappop(q)\n",
    "        visit[y][x] = True # 이 코드가 여기 있으면 다른 대기 중인 큐에서도 4방향을 찾았을 때 visit이 false가 되어 있어서 큐에 또 넣게 됨\n",
    "        distance_map[y][x] = cost # 즉 방문하지 않았다 판단하여 동일 좌표를 큐에 여러번 넣게 되어서 효율성에서 실패하는 듯함\n",
    "        \n",
    "        if x == m-1 and y == n-1:\n",
    "            break\n",
    "\n",
    "        for i in range(4):\n",
    "            nx, ny = x + dx[i], y + dy[i]\n",
    "            if nx < 0 or nx >= m or ny < 0 or ny >= n:\n",
    "                continue\n",
    "            if maps[ny][nx] == 0 or visit[ny][nx]:\n",
    "                continue\n",
    "            heapq.heappush(q, (cost+1, nx, ny))\n",
    "            \n",
    "    if distance_map[n-1][m-1] == INF:\n",
    "        return -1\n",
    "    else:\n",
    "        return distance_map[n-1][m-1]\n",
    "        \n",
    "\n",
    "solution([[1,0,1,1,1],[1,0,1,0,1],[1,0,1,1,1],[1,1,1,0,1],[0,0,0,0,1]])"
   ]
  },
  {
   "cell_type": "code",
   "execution_count": null,
   "metadata": {},
   "outputs": [],
   "source": [
    "import heapq\n",
    "\n",
    "INF = 10e5\n",
    "dx = [1,0,-1,0]\n",
    "dy = [0,1,0,-1]\n",
    "\n",
    "def solution(maps):\n",
    "    n, m = len(maps), len(maps[0])\n",
    "    visit = [[False] * m for _ in range(n)]\n",
    "    distance_map = [[INF] * m for _ in range(n)]\n",
    "\n",
    "    q = []\n",
    "    heapq.heappush(q, (1,0,0))\n",
    "    distance_map[0][0] = 1\n",
    "    visit[0][0] = True\n",
    "\n",
    "    while q:\n",
    "        cost, x, y = heapq.heappop(q)\n",
    "\n",
    "        for i in range(4):\n",
    "            nx, ny = x + dx[i], y + dy[i]\n",
    "            if nx < 0 or nx >= m or ny < 0 or ny >= n:\n",
    "                continue\n",
    "            if maps[ny][nx] == 0 or visit[ny][nx]:\n",
    "                continue\n",
    "\n",
    "            distance_map[ny][nx] = cost+1\n",
    "            visit[ny][nx] = True\n",
    "\n",
    "            if nx == m-1 and ny == n-1:\n",
    "                break\n",
    "            else:\n",
    "                heapq.heappush(q, (cost+1, nx, ny))\n",
    "            \n",
    "    if distance_map[n-1][m-1] == INF:\n",
    "        return -1\n",
    "    else:\n",
    "        return distance_map[n-1][m-1]\n",
    "        \n",
    "\n",
    "solution([[1,0,1,1,1],[1,0,1,0,1],[1,0,1,1,1],[1,1,1,0,1],[0,0,0,0,1]])"
   ]
  }
 ],
 "metadata": {
  "kernelspec": {
   "display_name": "Python 3.9.10 64-bit",
   "language": "python",
   "name": "python3"
  },
  "language_info": {
   "codemirror_mode": {
    "name": "ipython",
    "version": 3
   },
   "file_extension": ".py",
   "mimetype": "text/x-python",
   "name": "python",
   "nbconvert_exporter": "python",
   "pygments_lexer": "ipython3",
   "version": "3.9.10"
  },
  "orig_nbformat": 4,
  "vscode": {
   "interpreter": {
    "hash": "aee8b7b246df8f9039afb4144a1f6fd8d2ca17a180786b69acc140d282b71a49"
   }
  }
 },
 "nbformat": 4,
 "nbformat_minor": 2
}
