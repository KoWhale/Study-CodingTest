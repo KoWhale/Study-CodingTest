{
 "cells": [
  {
   "cell_type": "code",
   "execution_count": 62,
   "metadata": {},
   "outputs": [
    {
     "name": "stdout",
     "output_type": "stream",
     "text": [
      "24\n"
     ]
    }
   ],
   "source": [
    "#16:10 ~ 17:09 까지 풀다가 틀려서 검색 후 이해\n",
    "#17:09 ~ 15:13\n",
    "\n",
    "#1 1 --> 1 * 3^0\n",
    "#2 2 --> 2 * 3^0\n",
    "#3 4  --> 3 * 3^0\n",
    "#4 11 --> 1 * 3^1 + 1 * 3^0\n",
    "#5 12 --> 2 * 3^1 + 2 * 3^0\n",
    "#6 14\n",
    "#7 21 --> 2 * 3^1 + 1 * 3^0\n",
    "#8 22\n",
    "#9 24 --> 2 * 3^1 + 3\n",
    "#10 41\n",
    "#11 42\n",
    "#12 44 --> 3 * 3^1 + 3\n",
    "#13 111\n",
    "#14 112\n",
    "#15 114\n",
    "#39 444 --> 3 * 3^2 + 3 * 3^1 + 3 * 3^0\n",
    "\n",
    "#15\n",
    "#15 / 3 = 5 ... 0\n",
    "# 5 / 3 = 2 ... 2\n",
    "# 1\n",
    "#120(3진수)\n",
    "\n",
    "#38\n",
    "#38 / 3 = 12 ... 2\n",
    "#12 / 3 = 4 ... 0\n",
    "# 4 / 3 = 1 ... 1\n",
    "# 1\n",
    "#1102(3진수)\n",
    "n = 9\n",
    "\n",
    "numbers = ['4', '1', '2']\n",
    "answer = ''\n",
    "while n:\n",
    "    answer = numbers[n % 3] + answer\n",
    "    n = n // 3 - (n % 3 == 0)\n",
    "print(answer)\n"
   ]
  }
 ],
 "metadata": {
  "kernelspec": {
   "display_name": "Python 3.9.10 64-bit",
   "language": "python",
   "name": "python3"
  },
  "language_info": {
   "codemirror_mode": {
    "name": "ipython",
    "version": 3
   },
   "file_extension": ".py",
   "mimetype": "text/x-python",
   "name": "python",
   "nbconvert_exporter": "python",
   "pygments_lexer": "ipython3",
   "version": "3.9.10"
  },
  "orig_nbformat": 4,
  "vscode": {
   "interpreter": {
    "hash": "aee8b7b246df8f9039afb4144a1f6fd8d2ca17a180786b69acc140d282b71a49"
   }
  }
 },
 "nbformat": 4,
 "nbformat_minor": 2
}
