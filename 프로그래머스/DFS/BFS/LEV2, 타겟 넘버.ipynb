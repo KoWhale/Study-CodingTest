{
 "cells": [
  {
   "cell_type": "code",
   "execution_count": 5,
   "metadata": {},
   "outputs": [
    {
     "name": "stdout",
     "output_type": "stream",
     "text": [
      "2\n"
     ]
    }
   ],
   "source": [
    "numbers = [4, 1, 2, 1]\t\n",
    "target = 4\n",
    "\n",
    "count = 0\n",
    "def dfs(current_sum, current_index):\n",
    "    global count\n",
    "    if current_index == len(numbers):\n",
    "        if current_sum == target:\n",
    "            count += 1\n",
    "        return\n",
    "\n",
    "    dfs(current_sum+numbers[current_index], current_index+1)\n",
    "    dfs(current_sum-numbers[current_index], current_index+1)\n",
    "\n",
    "dfs(current_sum=0, current_index=0)\n",
    "print(count)"
   ]
  }
 ],
 "metadata": {
  "interpreter": {
   "hash": "31f2aee4e71d21fbe5cf8b01ff0e069b9275f58929596ceb00d14d90e3e16cd6"
  },
  "kernelspec": {
   "display_name": "Python 3.8.9 64-bit",
   "language": "python",
   "name": "python3"
  },
  "language_info": {
   "codemirror_mode": {
    "name": "ipython",
    "version": 3
   },
   "file_extension": ".py",
   "mimetype": "text/x-python",
   "name": "python",
   "nbconvert_exporter": "python",
   "pygments_lexer": "ipython3",
   "version": "3.8.9"
  },
  "orig_nbformat": 4
 },
 "nbformat": 4,
 "nbformat_minor": 2
}
