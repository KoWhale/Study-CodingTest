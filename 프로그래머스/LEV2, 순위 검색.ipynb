{
 "cells": [
  {
   "cell_type": "code",
   "execution_count": 4,
   "metadata": {},
   "outputs": [
    {
     "name": "stdout",
     "output_type": "stream",
     "text": [
      "['java', 'backend', 'junior', 'pizza', '150']\n",
      "['python', 'frontend', 'senior', 'chicken', '210']\n",
      "['python', 'frontend', 'senior', 'chicken', '150']\n",
      "['cpp', 'backend', 'senior', 'pizza', '260']\n",
      "['python', 'frontend', 'senior', 'chicken', '210']\n",
      "['cpp', 'backend', 'senior', 'pizza', '260']\n",
      "['cpp', 'backend', 'senior', 'pizza', '260']\n",
      "['java', 'backend', 'junior', 'pizza', '150']\n",
      "['python', 'frontend', 'senior', 'chicken', '210']\n",
      "['python', 'frontend', 'senior', 'chicken', '150']\n",
      "['cpp', 'backend', 'senior', 'pizza', '260']\n",
      "['java', 'backend', 'junior', 'pizza', '150']\n",
      "['python', 'frontend', 'senior', 'chicken', '210']\n",
      "['python', 'frontend', 'senior', 'chicken', '150']\n",
      "['cpp', 'backend', 'senior', 'pizza', '260']\n",
      "['java', 'backend', 'junior', 'pizza', '150']\n",
      "['python', 'frontend', 'senior', 'chicken', '210']\n",
      "['python', 'frontend', 'senior', 'chicken', '150']\n",
      "['cpp', 'backend', 'senior', 'pizza', '260']\n"
     ]
    },
    {
     "data": {
      "text/plain": [
       "[1, 1, 1, 1, 2, 4]"
      ]
     },
     "execution_count": 4,
     "metadata": {},
     "output_type": "execute_result"
    }
   ],
   "source": [
    "#16:43 ~ 17:13 효율성 실패\n",
    "\n",
    "def filtering(filt, people):\n",
    "    new_people = []\n",
    "    for person in people:\n",
    "        if filt in person:\n",
    "            new_people.append(person)\n",
    "\n",
    "    return new_people\n",
    "\n",
    "def solution(info, queries):\n",
    "    answer = []\n",
    "\n",
    "    for query in queries:\n",
    "        temp_query = query.split()\n",
    "        filters = [temp_query[0], temp_query[2], temp_query[4], temp_query[6]]\n",
    "\n",
    "        people = []\n",
    "        for person in info:\n",
    "            score = int(person.split()[-1])\n",
    "            if score >= int(temp_query[7]):\n",
    "                people.append(person.split())\n",
    "        \n",
    "        for filt in filters:\n",
    "            if filt == '-':\n",
    "                continue\n",
    "            people = filtering(filt, people)\n",
    "\n",
    "        answer.append(len(people))\n",
    "\n",
    "    return answer\n",
    "\n",
    "solution([\"java backend junior pizza 150\",\"python frontend senior chicken 210\",\"python frontend senior chicken 150\",\"cpp backend senior pizza 260\",\"java backend junior chicken 80\",\"python backend senior chicken 50\"],[\"java and backend and junior and pizza 100\",\"python and frontend and senior and chicken 200\",\"cpp and - and senior and pizza 250\",\"- and backend and senior and - 150\",\"- and - and - and chicken 100\",\"- and - and - and - 150\"])"
   ]
  },
  {
   "cell_type": "code",
   "execution_count": 30,
   "metadata": {},
   "outputs": [
    {
     "data": {
      "text/plain": [
       "[1, 1, 1, 1, 2, 4]"
      ]
     },
     "execution_count": 30,
     "metadata": {},
     "output_type": "execute_result"
    }
   ],
   "source": [
    "from itertools import combinations\n",
    "from bisect import bisect_left\n",
    "\n",
    "def solution(info, queries):\n",
    "    answer = []\n",
    "\n",
    "    people = {}\n",
    "    for person in info:\n",
    "        temp = person.split()\n",
    "        person, score = temp[:-1], temp[-1]\n",
    "\n",
    "        for i in range(5):\n",
    "            combination_list = list(combinations(person, i))\n",
    "            for combination in combination_list:\n",
    "                dic_key = \"\".join(combination)\n",
    "                if dic_key in people:\n",
    "                    people[dic_key].append(int(score))\n",
    "                else:\n",
    "                    people[dic_key] = [int(score)]\n",
    "\n",
    "    for key in people:\n",
    "        people[key].sort()\n",
    "\n",
    "    for query in queries:\n",
    "        query_key = query.replace('and', '').replace('-','').split()\n",
    "        query_score = int(query_key[-1])\n",
    "        query_key = \"\".join(query_key[:-1])\n",
    "        if query_key in people:\n",
    "            answer.append(len(people[query_key]) - bisect_left(people[query_key], query_score))\n",
    "        else:\n",
    "            answer.append(0)\n",
    "\n",
    "    return answer\n",
    "\n",
    "solution([\"java backend junior pizza 150\",\"python frontend senior chicken 210\",\"python frontend senior chicken 150\",\"cpp backend senior pizza 260\",\"java backend junior chicken 80\",\"python backend senior chicken 50\"],[\"java and backend and junior and pizza 100\",\"python and frontend and senior and chicken 200\",\"cpp and - and senior and pizza 250\",\"- and backend and senior and - 150\",\"- and - and - and chicken 100\",\"- and - and - and - 150\"])"
   ]
  }
 ],
 "metadata": {
  "kernelspec": {
   "display_name": "Python 3.9.10 64-bit",
   "language": "python",
   "name": "python3"
  },
  "language_info": {
   "codemirror_mode": {
    "name": "ipython",
    "version": 3
   },
   "file_extension": ".py",
   "mimetype": "text/x-python",
   "name": "python",
   "nbconvert_exporter": "python",
   "pygments_lexer": "ipython3",
   "version": "3.9.10"
  },
  "orig_nbformat": 4,
  "vscode": {
   "interpreter": {
    "hash": "aee8b7b246df8f9039afb4144a1f6fd8d2ca17a180786b69acc140d282b71a49"
   }
  }
 },
 "nbformat": 4,
 "nbformat_minor": 2
}
