{
 "cells": [
  {
   "cell_type": "code",
   "execution_count": 34,
   "metadata": {},
   "outputs": [
    {
     "name": "stdout",
     "output_type": "stream",
     "text": [
      "3\n"
     ]
    }
   ],
   "source": [
    "n = 6\n",
    "edge = [[3, 6], [4, 3], [3, 2], [1, 3], [1, 2], [2, 4], [5, 2]]\t\n",
    "\n",
    "from collections import deque\n",
    "\n",
    "graph = [[] for i in range(n)]\n",
    "for x,y in edge:\n",
    "    graph[x-1].append(y-1)\n",
    "    graph[y-1].append(x-1)\n",
    "\n",
    "visit = [0] * n\n",
    "visit[0] = 1\n",
    "queue = deque([0])\n",
    "while queue:\n",
    "    start = queue.popleft()\n",
    "\n",
    "    for end in graph[start]:\n",
    "        if not visit[end]:\n",
    "            visit[end] = visit[start] + 1\n",
    "            queue.append(end)\n",
    "            \n",
    "print(len([i for i in visit if i == max(visit)]))"
   ]
  }
 ],
 "metadata": {
  "kernelspec": {
   "display_name": "Python 3.8.9 64-bit",
   "language": "python",
   "name": "python3"
  },
  "language_info": {
   "codemirror_mode": {
    "name": "ipython",
    "version": 3
   },
   "file_extension": ".py",
   "mimetype": "text/x-python",
   "name": "python",
   "nbconvert_exporter": "python",
   "pygments_lexer": "ipython3",
   "version": "3.8.9"
  },
  "orig_nbformat": 4,
  "vscode": {
   "interpreter": {
    "hash": "31f2aee4e71d21fbe5cf8b01ff0e069b9275f58929596ceb00d14d90e3e16cd6"
   }
  }
 },
 "nbformat": 4,
 "nbformat_minor": 2
}
