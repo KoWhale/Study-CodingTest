{
 "cells": [
  {
   "cell_type": "code",
   "execution_count": 5,
   "metadata": {},
   "outputs": [
    {
     "name": "stdout",
     "output_type": "stream",
     "text": [
      "[21, 17, 14, 11, 2]\n",
      "[4, 3, 3, 9]\n"
     ]
    }
   ],
   "source": [
    "distance = 25\n",
    "rocks = [2,14,11,21,17]\n",
    "n = 2\n",
    "\n",
    "rocks.sort(reverse=True)\n",
    "gaps = []\n",
    "\n",
    "for rock_1,rock_2 in zip(rocks[:-1], rocks[1:]):\n",
    "    gaps.append(rock_1-rock_2)\n",
    "\n",
    "print(rocks)\n",
    "print(gaps)"
   ]
  }
 ],
 "metadata": {
  "kernelspec": {
   "display_name": "Python 3.8.9 64-bit",
   "language": "python",
   "name": "python3"
  },
  "language_info": {
   "codemirror_mode": {
    "name": "ipython",
    "version": 3
   },
   "file_extension": ".py",
   "mimetype": "text/x-python",
   "name": "python",
   "nbconvert_exporter": "python",
   "pygments_lexer": "ipython3",
   "version": "3.8.9"
  },
  "orig_nbformat": 4,
  "vscode": {
   "interpreter": {
    "hash": "31f2aee4e71d21fbe5cf8b01ff0e069b9275f58929596ceb00d14d90e3e16cd6"
   }
  }
 },
 "nbformat": 4,
 "nbformat_minor": 2
}
