{
 "cells": [
  {
   "cell_type": "code",
   "execution_count": 4,
   "metadata": {},
   "outputs": [
    {
     "name": "stdout",
     "output_type": "stream",
     "text": [
      "33 7\n",
      "19 3\n",
      "26 5\n",
      "29 6\n",
      "29\n"
     ]
    }
   ],
   "source": [
    "n = 6\n",
    "times = [7,10]\n",
    "\n",
    "answer = 0\n",
    "times.sort()\n",
    "left = times[0]\n",
    "right = times[-1]*n\n",
    "while left <= right:\n",
    "    mid = (left+right)//2\n",
    "    \n",
    "    count = 0\n",
    "    for time in times:\n",
    "        count += mid // time\n",
    "\n",
    "    if count >= n:\n",
    "        right = mid-1\n",
    "        answer = mid\n",
    "    else:\n",
    "        left = mid+1\n",
    "print(answer)"
   ]
  }
 ],
 "metadata": {
  "kernelspec": {
   "display_name": "Python 3.8.9 64-bit",
   "language": "python",
   "name": "python3"
  },
  "language_info": {
   "codemirror_mode": {
    "name": "ipython",
    "version": 3
   },
   "file_extension": ".py",
   "mimetype": "text/x-python",
   "name": "python",
   "nbconvert_exporter": "python",
   "pygments_lexer": "ipython3",
   "version": "3.8.9"
  },
  "orig_nbformat": 4,
  "vscode": {
   "interpreter": {
    "hash": "31f2aee4e71d21fbe5cf8b01ff0e069b9275f58929596ceb00d14d90e3e16cd6"
   }
  }
 },
 "nbformat": 4,
 "nbformat_minor": 2
}
