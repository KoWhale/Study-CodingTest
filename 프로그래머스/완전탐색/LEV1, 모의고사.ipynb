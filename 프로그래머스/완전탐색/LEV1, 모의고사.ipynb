{
 "cells": [
  {
   "cell_type": "code",
   "execution_count": 4,
   "metadata": {},
   "outputs": [
    {
     "data": {
      "text/plain": [
       "[1, 2, 3]"
      ]
     },
     "execution_count": 4,
     "metadata": {},
     "output_type": "execute_result"
    }
   ],
   "source": [
    "answers = [1,3,2,4,2]\n",
    "\n",
    "def solution(answers):\n",
    "    p1,p2,p3 = \"12345\",\"21232425\",\"3311224455\"\n",
    "    p1_len,p2_len,p3_len = len(p1), len(p2), len(p3)\n",
    "    count = [0,0,0]\n",
    "\n",
    "    for i, answer in enumerate(answers):\n",
    "        if p1[i%p1_len] == str(answer):\n",
    "            count[0] += 1\n",
    "        if p2[i%p2_len] == str(answer):\n",
    "            count[1] += 1\n",
    "        if p3[i%p3_len] == str(answer):\n",
    "            count[2] += 1\n",
    "    \n",
    "    return [i+1 for i in range(3) if count[i] == max(count)]\n",
    "\n",
    "solution(answers)"
   ]
  }
 ],
 "metadata": {
  "interpreter": {
   "hash": "31f2aee4e71d21fbe5cf8b01ff0e069b9275f58929596ceb00d14d90e3e16cd6"
  },
  "kernelspec": {
   "display_name": "Python 3.8.9 64-bit",
   "language": "python",
   "name": "python3"
  },
  "language_info": {
   "codemirror_mode": {
    "name": "ipython",
    "version": 3
   },
   "file_extension": ".py",
   "mimetype": "text/x-python",
   "name": "python",
   "nbconvert_exporter": "python",
   "pygments_lexer": "ipython3",
   "version": "3.8.9"
  },
  "orig_nbformat": 4
 },
 "nbformat": 4,
 "nbformat_minor": 2
}
