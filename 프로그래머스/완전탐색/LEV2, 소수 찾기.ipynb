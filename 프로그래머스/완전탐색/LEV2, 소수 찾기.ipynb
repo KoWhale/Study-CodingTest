{
 "cells": [
  {
   "cell_type": "code",
   "execution_count": 36,
   "metadata": {},
   "outputs": [
    {
     "data": {
      "text/plain": [
       "1"
      ]
     },
     "execution_count": 36,
     "metadata": {},
     "output_type": "execute_result"
    }
   ],
   "source": [
    "from itertools import permutations\n",
    "\n",
    "def solution(numbers):\n",
    "    prime_set = set()\n",
    "    for i in range(1,len(numbers)+1):\n",
    "        permutation = permutations(numbers,i)\n",
    "        for p in permutation:\n",
    "            num = \"\"\n",
    "            for char in p:\n",
    "                num += char\n",
    "            num = int(num)\n",
    "            if num == 0 or num == 1:\n",
    "                continue\n",
    "            \n",
    "            is_prime = True\n",
    "            for i in range(2,num):\n",
    "                if num % i == 0:\n",
    "                    is_prime = False\n",
    "                    break\n",
    "            if is_prime:\n",
    "                prime_set.add(num)\n",
    "    return len(prime_set)\n",
    "\n",
    "numbers = \"002\"\n",
    "solution(numbers)"
   ]
  }
 ],
 "metadata": {
  "interpreter": {
   "hash": "31f2aee4e71d21fbe5cf8b01ff0e069b9275f58929596ceb00d14d90e3e16cd6"
  },
  "kernelspec": {
   "display_name": "Python 3.8.9 64-bit",
   "language": "python",
   "name": "python3"
  },
  "language_info": {
   "codemirror_mode": {
    "name": "ipython",
    "version": 3
   },
   "file_extension": ".py",
   "mimetype": "text/x-python",
   "name": "python",
   "nbconvert_exporter": "python",
   "pygments_lexer": "ipython3",
   "version": "3.8.9"
  },
  "orig_nbformat": 4
 },
 "nbformat": 4,
 "nbformat_minor": 2
}
