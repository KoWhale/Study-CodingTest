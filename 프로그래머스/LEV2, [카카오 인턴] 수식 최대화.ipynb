{
 "cells": [
  {
   "cell_type": "code",
   "execution_count": 21,
   "metadata": {},
   "outputs": [
    {
     "data": {
      "text/plain": [
       "60420"
      ]
     },
     "execution_count": 21,
     "metadata": {},
     "output_type": "execute_result"
    }
   ],
   "source": [
    "# 14:53 ~ 포기!\n",
    "\n",
    "from itertools import permutations\n",
    "\n",
    "def solution(expression):\n",
    "    answer = 0\n",
    "    ops = ['*','+','-']\n",
    "    permutation_array = list(permutations(ops))\n",
    "    \n",
    "    for op_list in permutation_array:\n",
    "        new_expression = []\n",
    "        first_split = expression.split(op_list[0])\n",
    "        for sub_string in first_split:\n",
    "            second_split = sub_string.split(op_list[1])\n",
    "            new_expression.append(op_list[1].join([str(eval(x)) for x in second_split]))\n",
    "        \n",
    "        new_expression = [str(eval(x)) for x in new_expression]\n",
    "        new_expression = op_list[0].join(new_expression)\n",
    "        answer = max(answer, abs(eval(new_expression)))\n",
    "\n",
    "    return answer\n",
    "\n",
    "solution(\"100-200*300-500+20\")"
   ]
  }
 ],
 "metadata": {
  "kernelspec": {
   "display_name": "Python 3.9.10 64-bit",
   "language": "python",
   "name": "python3"
  },
  "language_info": {
   "codemirror_mode": {
    "name": "ipython",
    "version": 3
   },
   "file_extension": ".py",
   "mimetype": "text/x-python",
   "name": "python",
   "nbconvert_exporter": "python",
   "pygments_lexer": "ipython3",
   "version": "3.9.10"
  },
  "orig_nbformat": 4,
  "vscode": {
   "interpreter": {
    "hash": "aee8b7b246df8f9039afb4144a1f6fd8d2ca17a180786b69acc140d282b71a49"
   }
  }
 },
 "nbformat": 4,
 "nbformat_minor": 2
}
