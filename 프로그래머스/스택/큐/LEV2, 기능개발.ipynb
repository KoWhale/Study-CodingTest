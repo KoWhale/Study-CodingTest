{
 "cells": [
  {
   "cell_type": "code",
   "execution_count": 10,
   "metadata": {},
   "outputs": [
    {
     "data": {
      "text/plain": [
       "[2, 1]"
      ]
     },
     "execution_count": 10,
     "metadata": {},
     "output_type": "execute_result"
    }
   ],
   "source": [
    "progresses = [93,30,55]\n",
    "speeds = [1,30,5]\n",
    "\n",
    "progress_count = len(progresses)\n",
    "finish = [False] * progress_count\n",
    "answer = []\n",
    "total_finish = 0\n",
    "\n",
    "while total_finish < progress_count:\n",
    "    for i in range(progress_count):\n",
    "        progresses[i] += speeds[i]\n",
    "        if progresses[i] >= 100:\n",
    "            finish[i] = True\n",
    "\n",
    "    current_finish = 0\n",
    "    while total_finish + current_finish < progress_count and finish[total_finish + current_finish] == True:\n",
    "        current_finish += 1\n",
    "        if total_finish + current_finish == progress_count:\n",
    "            break\n",
    "    if current_finish != 0:\n",
    "        answer.append(current_finish)\n",
    "    total_finish = sum(answer)\n",
    "\n",
    "answer"
   ]
  },
  {
   "cell_type": "markdown",
   "metadata": {},
   "source": []
  }
 ],
 "metadata": {
  "kernelspec": {
   "display_name": "Python 3.9.10 64-bit",
   "language": "python",
   "name": "python3"
  },
  "language_info": {
   "codemirror_mode": {
    "name": "ipython",
    "version": 3
   },
   "file_extension": ".py",
   "mimetype": "text/x-python",
   "name": "python",
   "nbconvert_exporter": "python",
   "pygments_lexer": "ipython3",
   "version": "3.9.10"
  },
  "orig_nbformat": 4,
  "vscode": {
   "interpreter": {
    "hash": "aee8b7b246df8f9039afb4144a1f6fd8d2ca17a180786b69acc140d282b71a49"
   }
  }
 },
 "nbformat": 4,
 "nbformat_minor": 2
}
