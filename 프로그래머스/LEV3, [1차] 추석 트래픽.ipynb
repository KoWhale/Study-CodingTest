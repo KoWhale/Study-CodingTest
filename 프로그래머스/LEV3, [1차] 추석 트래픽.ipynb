{
 "cells": [
  {
   "cell_type": "code",
   "execution_count": 42,
   "metadata": {},
   "outputs": [
    {
     "name": "stdout",
     "output_type": "stream",
     "text": [
      "1\n"
     ]
    }
   ],
   "source": [
    "#13:19 ~ 13:33 문제 이해 및 풀이 생각\n",
    "#13:33 ~ 14:35 포기 후 검색, 이해\n",
    "#14:35 ~ 14:58 풀이\n",
    "\n",
    "lines = [\"2016-09-15 01:00:04.001 2.0s\", \"2016-09-15 01:00:07.000 2s\"]\n",
    "\n",
    "start_times = []\n",
    "end_times = []\n",
    "max_count = 0\n",
    "\n",
    "for line in lines:\n",
    "    date, end_time, process_ms = line.split()\n",
    "    h,m,s,ms = int(end_time[:2]), int(end_time[3:5]), int(end_time[6:8]), int(end_time[9:])\n",
    "    end_ms = (3600 * h + 60 * m + s) * 1000 + ms\n",
    "    process_ms = int(float(process_ms[:-1]) * 1000)\n",
    "    start_times.append(end_ms - process_ms + 1)\n",
    "    end_times.append(end_ms)\n",
    "\n",
    "for i in range(len(lines)):\n",
    "    count = 0\n",
    "    current_end_time = end_times[i]\n",
    "    for j in range(i, len(lines)):\n",
    "        if current_end_time + 999 >= start_times[j]:\n",
    "            count += 1\n",
    "    max_count = max(count, max_count)\n",
    "\n",
    "print(max_count)"
   ]
  }
 ],
 "metadata": {
  "kernelspec": {
   "display_name": "Python 3.9.10 64-bit",
   "language": "python",
   "name": "python3"
  },
  "language_info": {
   "codemirror_mode": {
    "name": "ipython",
    "version": 3
   },
   "file_extension": ".py",
   "mimetype": "text/x-python",
   "name": "python",
   "nbconvert_exporter": "python",
   "pygments_lexer": "ipython3",
   "version": "3.9.10"
  },
  "orig_nbformat": 4,
  "vscode": {
   "interpreter": {
    "hash": "aee8b7b246df8f9039afb4144a1f6fd8d2ca17a180786b69acc140d282b71a49"
   }
  }
 },
 "nbformat": 4,
 "nbformat_minor": 2
}
