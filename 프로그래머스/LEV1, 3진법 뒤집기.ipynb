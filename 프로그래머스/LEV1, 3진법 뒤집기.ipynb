{
 "cells": [
  {
   "cell_type": "code",
   "execution_count": 10,
   "metadata": {},
   "outputs": [
    {
     "name": "stdout",
     "output_type": "stream",
     "text": [
      "100\n"
     ]
    },
    {
     "data": {
      "text/plain": [
       "1"
      ]
     },
     "execution_count": 10,
     "metadata": {},
     "output_type": "execute_result"
    }
   ],
   "source": [
    "# 12:45 ~ 12:55\n",
    "\n",
    "def solution(n):\n",
    "    tri = \"\"\n",
    "    while n > 2:\n",
    "        tri = str(n % 3) + tri\n",
    "        n //= 3\n",
    "    tri = str(n) + tri\n",
    "    print(tri)\n",
    "\n",
    "    answer = 0\n",
    "    offset = 1\n",
    "    for i in range(len(tri)):\n",
    "        answer += int(tri[i]) * offset\n",
    "        offset *= 3\n",
    "        \n",
    "    return answer\n",
    "\n",
    "solution(9)"
   ]
  }
 ],
 "metadata": {
  "kernelspec": {
   "display_name": "Python 3.9.10 64-bit",
   "language": "python",
   "name": "python3"
  },
  "language_info": {
   "codemirror_mode": {
    "name": "ipython",
    "version": 3
   },
   "file_extension": ".py",
   "mimetype": "text/x-python",
   "name": "python",
   "nbconvert_exporter": "python",
   "pygments_lexer": "ipython3",
   "version": "3.9.10"
  },
  "orig_nbformat": 4,
  "vscode": {
   "interpreter": {
    "hash": "aee8b7b246df8f9039afb4144a1f6fd8d2ca17a180786b69acc140d282b71a49"
   }
  }
 },
 "nbformat": 4,
 "nbformat_minor": 2
}
