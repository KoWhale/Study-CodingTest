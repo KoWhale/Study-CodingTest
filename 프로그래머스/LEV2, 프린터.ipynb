{
 "cells": [
  {
   "cell_type": "code",
   "execution_count": 53,
   "metadata": {},
   "outputs": [
    {
     "data": {
      "text/plain": [
       "2"
      ]
     },
     "execution_count": 53,
     "metadata": {},
     "output_type": "execute_result"
    }
   ],
   "source": [
    "# 13:35 ~ 14:26\n",
    "PRIORITY = 0\n",
    "\n",
    "def solution(priorities, location):\n",
    "    stack = []\n",
    "    for i, priority in enumerate(priorities):\n",
    "        stack.append((priority,i))\n",
    "\n",
    "    is_mixed = True\n",
    "    while is_mixed:\n",
    "        is_mixed = False\n",
    "        for i in range(len(priorities)-1):\n",
    "            for j in range(i+1, len(priorities)):\n",
    "                if stack[j][PRIORITY] > stack[i][PRIORITY]:\n",
    "                    stack.append(stack.pop(i))\n",
    "                    is_mixed = True\n",
    "                    break\n",
    "            if is_mixed:\n",
    "                break\n",
    "\n",
    "    for i in range(len(stack)):\n",
    "        priority, index = stack[i]\n",
    "        if index == location:\n",
    "            return i+1\n",
    "\n",
    "# solution([2,1,3,2],2)\n",
    "# solution([1,1,9,1,1,1],0)\n",
    "solution([1,2,8,3,4],4)"
   ]
  }
 ],
 "metadata": {
  "kernelspec": {
   "display_name": "Python 3.9.10 64-bit",
   "language": "python",
   "name": "python3"
  },
  "language_info": {
   "codemirror_mode": {
    "name": "ipython",
    "version": 3
   },
   "file_extension": ".py",
   "mimetype": "text/x-python",
   "name": "python",
   "nbconvert_exporter": "python",
   "pygments_lexer": "ipython3",
   "version": "3.9.10"
  },
  "orig_nbformat": 4,
  "vscode": {
   "interpreter": {
    "hash": "aee8b7b246df8f9039afb4144a1f6fd8d2ca17a180786b69acc140d282b71a49"
   }
  }
 },
 "nbformat": 4,
 "nbformat_minor": 2
}
