{
 "cells": [
  {
   "cell_type": "code",
   "execution_count": 23,
   "metadata": {},
   "outputs": [
    {
     "data": {
      "text/plain": [
       "1"
      ]
     },
     "execution_count": 23,
     "metadata": {},
     "output_type": "execute_result"
    }
   ],
   "source": [
    "# 13:56 ~ 실패\n",
    "\n",
    "def solution(s):\n",
    "    if len(s) % 2 == 1: return 0\n",
    "    if len(s) == 2:\n",
    "        return 1 if s[0] == s[1] else 0\n",
    "\n",
    "    stack = [s[0]]\n",
    "    for c in s[1:]:\n",
    "        if len(stack) > 0 and stack[-1] == c:\n",
    "            stack.pop()\n",
    "        else:\n",
    "            stack.append(c)\n",
    "\n",
    "    return 0 if len(stack) else 1\n",
    "\n",
    "solution(\"baabaa\")"
   ]
  }
 ],
 "metadata": {
  "kernelspec": {
   "display_name": "Python 3.9.10 64-bit",
   "language": "python",
   "name": "python3"
  },
  "language_info": {
   "codemirror_mode": {
    "name": "ipython",
    "version": 3
   },
   "file_extension": ".py",
   "mimetype": "text/x-python",
   "name": "python",
   "nbconvert_exporter": "python",
   "pygments_lexer": "ipython3",
   "version": "3.9.10"
  },
  "orig_nbformat": 4,
  "vscode": {
   "interpreter": {
    "hash": "aee8b7b246df8f9039afb4144a1f6fd8d2ca17a180786b69acc140d282b71a49"
   }
  }
 },
 "nbformat": 4,
 "nbformat_minor": 2
}
