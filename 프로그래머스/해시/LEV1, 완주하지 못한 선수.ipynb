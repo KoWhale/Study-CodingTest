{
 "cells": [
  {
   "cell_type": "code",
   "execution_count": 8,
   "metadata": {},
   "outputs": [
    {
     "name": "stdout",
     "output_type": "stream",
     "text": [
      "{'mislav': 1, 'stanko': 0, 'ana': 0}\n"
     ]
    }
   ],
   "source": [
    "#21:10 ~ 21:17\n",
    "participent = [\"mislav\", \"stanko\", \"mislav\", \"ana\"]\t\n",
    "completion = [\"stanko\", \"ana\", \"mislav\"]\t\n",
    "\n",
    "dic = {}\n",
    "for person in participent:\n",
    "    if person not in dic:\n",
    "        dic[person] = 1\n",
    "    else:\n",
    "        dic[person] += 1\n",
    "\n",
    "for person in completion:\n",
    "    dic[person] -= 1\n",
    "\n",
    "for person in dic.keys():\n",
    "    if dic[person] != 0:\n",
    "        print(person)\n",
    "        break"
   ]
  }
 ],
 "metadata": {
  "interpreter": {
   "hash": "31f2aee4e71d21fbe5cf8b01ff0e069b9275f58929596ceb00d14d90e3e16cd6"
  },
  "kernelspec": {
   "display_name": "Python 3.8.9 64-bit",
   "language": "python",
   "name": "python3"
  },
  "language_info": {
   "codemirror_mode": {
    "name": "ipython",
    "version": 3
   },
   "file_extension": ".py",
   "mimetype": "text/x-python",
   "name": "python",
   "nbconvert_exporter": "python",
   "pygments_lexer": "ipython3",
   "version": "3.8.9"
  },
  "orig_nbformat": 4
 },
 "nbformat": 4,
 "nbformat_minor": 2
}
