{
 "cells": [
  {
   "cell_type": "code",
   "execution_count": null,
   "metadata": {},
   "outputs": [],
   "source": [
    "#21:19 ~ \n",
    "phone_book = [\"119\", \"97674223\", \"1195524421\"]\t\n",
    "phone_book.sort()\n",
    "\n",
    "for p1,p2 in zip(phone_book, phone_book[1:]):\n",
    "    if p2.startswith(p1):\n",
    "        return False\n",
    "\n",
    "return True"
   ]
  }
 ],
 "metadata": {
  "language_info": {
   "name": "python"
  },
  "orig_nbformat": 4
 },
 "nbformat": 4,
 "nbformat_minor": 2
}
