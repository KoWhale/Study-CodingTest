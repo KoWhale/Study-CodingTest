{
 "cells": [
  {
   "cell_type": "code",
   "execution_count": 40,
   "metadata": {},
   "outputs": [
    {
     "name": "stdout",
     "output_type": "stream",
     "text": [
      "[('X', 'Y'), ('X', 'Z'), ('Y', 'Z')]\n",
      "[('X', 'Y'), ('X', 'Z'), ('Y', 'Z'), ('W', 'X'), ('W', 'Y'), ('X', 'Y')]\n",
      "[('X', 'Y'), ('X', 'Z'), ('Y', 'Z'), ('W', 'X'), ('W', 'Y'), ('X', 'Y'), ('A', 'W'), ('A', 'X'), ('W', 'X')]\n",
      "[('X', 'Y', 'Z')]\n",
      "[('X', 'Y', 'Z'), ('W', 'X', 'Y')]\n",
      "[('X', 'Y', 'Z'), ('W', 'X', 'Y'), ('A', 'W', 'X')]\n",
      "[]\n",
      "[]\n",
      "[]\n"
     ]
    }
   ],
   "source": [
    "# 14:00 ~ 15:29 포기 테케 3/3, 2/20\n",
    "from itertools import combinations\n",
    "from collections import Counter\n",
    "\n",
    "def solution(orders, course):\n",
    "    longest_order = 0\n",
    "    for order in orders:\n",
    "        longest_order = max(longest_order, len(order))\n",
    "\n",
    "    order_combi_by_len = [{} for _ in range(longest_order+1)]\n",
    "    for i in range(2, longest_order+1):\n",
    "        for index, order in enumerate(orders):\n",
    "            combi = combinations(sorted(order), i)\n",
    "            for c in combi:\n",
    "                if c not in order_combi_by_len[i]:\n",
    "                    order_combi_by_len[i][c] = str(index+1)\n",
    "                else:\n",
    "                    order_combi_by_len[i][c] += str(index+1)\n",
    "    \n",
    "    most_order_dict = {}\n",
    "    for order_list in order_combi_by_len:\n",
    "        for ordered_course, ordered_people in order_list.items():\n",
    "            ordered_people = str(ordered_people)\n",
    "            if len(ordered_people) not in course:\n",
    "                continue\n",
    "\n",
    "            if ordered_people in most_order_dict:\n",
    "                if len(most_order_dict[ordered_people]) < len(ordered_course):\n",
    "                    most_order_dict[ordered_people] = ordered_course\n",
    "            else:\n",
    "                most_order_dict[ordered_people] = ordered_course\n",
    "    \n",
    "    most_people = [[] for i in range(longest_order+1)]\n",
    "    for people, new_course in most_order_dict.items():\n",
    "        if len(most_people[len(new_course)]) == 0:\n",
    "            most_people[len(new_course)].append(people)\n",
    "        else:\n",
    "            if len(most_people[len(new_course)][0]) < len(people):\n",
    "                most_people[len(new_course)] = [people]\n",
    "            elif len(most_people[len(new_course)][0]) == len(people):\n",
    "                most_people[len(new_course)].append(people)\n",
    "\n",
    "    print(most_order_dict)\n",
    "    print(most_people)\n",
    "    answer = []\n",
    "    for i in range(longest_order+1):\n",
    "        for people in most_people[i]:\n",
    "            s = \"\"\n",
    "            for new_course in most_order_dict[people]:\n",
    "                for c in new_course:\n",
    "                    s += c\n",
    "            answer.append(s)\n",
    "    answer.sort()\n",
    "    return answer\n",
    "\n",
    "solution([\"XYZ\", \"XWY\", \"WXA\"], [2,3,4])"
   ]
  },
  {
   "cell_type": "code",
   "execution_count": 47,
   "metadata": {},
   "outputs": [
    {
     "data": {
      "text/plain": [
       "['WX', 'XY']"
      ]
     },
     "execution_count": 47,
     "metadata": {},
     "output_type": "execute_result"
    }
   ],
   "source": [
    "from itertools import combinations\n",
    "from collections import Counter\n",
    "\n",
    "def solution(orders, course):\n",
    "    answer = []\n",
    "\n",
    "    for c in course:\n",
    "        combination_array = []\n",
    "        for order in orders:\n",
    "            combination_array += list(combinations(sorted(order),c))\n",
    "        combination_array = Counter(combination_array)\n",
    "        answer += [''.join(k) for k, v in combination_array.items() if v == max(combination_array.values()) and v > 1]\n",
    "\n",
    "    return sorted(answer)\n",
    "\n",
    "solution([\"XYZ\", \"XWY\", \"WXA\"], [2,3,4])"
   ]
  }
 ],
 "metadata": {
  "kernelspec": {
   "display_name": "Python 3.9.10 64-bit",
   "language": "python",
   "name": "python3"
  },
  "language_info": {
   "codemirror_mode": {
    "name": "ipython",
    "version": 3
   },
   "file_extension": ".py",
   "mimetype": "text/x-python",
   "name": "python",
   "nbconvert_exporter": "python",
   "pygments_lexer": "ipython3",
   "version": "3.9.10"
  },
  "orig_nbformat": 4,
  "vscode": {
   "interpreter": {
    "hash": "aee8b7b246df8f9039afb4144a1f6fd8d2ca17a180786b69acc140d282b71a49"
   }
  }
 },
 "nbformat": 4,
 "nbformat_minor": 2
}
