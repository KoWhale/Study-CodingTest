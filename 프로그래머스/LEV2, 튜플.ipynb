{
 "cells": [
  {
   "cell_type": "code",
   "execution_count": 42,
   "metadata": {},
   "outputs": [
    {
     "data": {
      "text/plain": [
       "[3, 2, 4, 1]"
      ]
     },
     "execution_count": 42,
     "metadata": {},
     "output_type": "execute_result"
    }
   ],
   "source": [
    "# 16:18 ~ 16:38\n",
    "\n",
    "def solution(s):\n",
    "    tuples = s.split('}')\n",
    "    tuples = [tup.replace('{', ' ').replace(',', ' ').split() for tup in tuples]\n",
    "    tuples = sorted([tup for tup in tuples if tup], key=lambda x: len(x))\n",
    "    \n",
    "    answer = []\n",
    "    for tuple in tuples:\n",
    "        tuple_set, answer_set = set(tuple), set(answer)\n",
    "        answer.append(list(tuple_set.difference(answer_set))[0])\n",
    "\n",
    "    return [int(i) for i in answer]\n",
    "\n",
    "solution(\"{{4,2,3},{3},{2,3,4,1},{2,3}}\"\t)"
   ]
  }
 ],
 "metadata": {
  "kernelspec": {
   "display_name": "Python 3.9.10 64-bit",
   "language": "python",
   "name": "python3"
  },
  "language_info": {
   "codemirror_mode": {
    "name": "ipython",
    "version": 3
   },
   "file_extension": ".py",
   "mimetype": "text/x-python",
   "name": "python",
   "nbconvert_exporter": "python",
   "pygments_lexer": "ipython3",
   "version": "3.9.10"
  },
  "orig_nbformat": 4,
  "vscode": {
   "interpreter": {
    "hash": "aee8b7b246df8f9039afb4144a1f6fd8d2ca17a180786b69acc140d282b71a49"
   }
  }
 },
 "nbformat": 4,
 "nbformat_minor": 2
}
