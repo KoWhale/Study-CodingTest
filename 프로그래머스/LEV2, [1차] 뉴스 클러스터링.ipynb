{
 "cells": [
  {
   "cell_type": "code",
   "execution_count": 34,
   "metadata": {},
   "outputs": [
    {
     "data": {
      "text/plain": [
       "65536"
      ]
     },
     "execution_count": 34,
     "metadata": {},
     "output_type": "execute_result"
    }
   ],
   "source": [
    "# 15:50 ~ 16:27\n",
    "import re\n",
    "from collections import Counter\n",
    "\n",
    "def make_multiple_set(str1):\n",
    "    not_alpha = re.compile('[^A-Z]')\n",
    "\n",
    "    list1 = []\n",
    "    for c1,c2 in zip(str1[:-1],str1[1:]):\n",
    "        if not_alpha.search(c1+c2) is not None:\n",
    "            continue\n",
    "        list1.append(c1+c2)\n",
    "    return list1\n",
    "\n",
    "def solution(str1, str2):\n",
    "    list1, list2 = make_multiple_set(str1.upper()), make_multiple_set(str2.upper())\n",
    "    Counter1, Counter2 = Counter(list1), Counter(list2)\n",
    "    union, intersection = 0, 0\n",
    "\n",
    "    for e in Counter1:\n",
    "        if e in Counter2:\n",
    "            union += max(Counter1[e], Counter2[e])\n",
    "            intersection += min(Counter1[e], Counter2[e])\n",
    "        else:\n",
    "            union += Counter1[e]\n",
    "    for e in Counter2:\n",
    "        if e not in Counter1:\n",
    "            union += Counter2[e]\n",
    "    if union == 0:\n",
    "        return 65536\n",
    "    return int(intersection/union * 65536)\n",
    "\n",
    "solution(\"E=M*C^2\", \"e=m*c^2\")"
   ]
  }
 ],
 "metadata": {
  "kernelspec": {
   "display_name": "Python 3.9.10 64-bit",
   "language": "python",
   "name": "python3"
  },
  "language_info": {
   "codemirror_mode": {
    "name": "ipython",
    "version": 3
   },
   "file_extension": ".py",
   "mimetype": "text/x-python",
   "name": "python",
   "nbconvert_exporter": "python",
   "pygments_lexer": "ipython3",
   "version": "3.9.10"
  },
  "orig_nbformat": 4,
  "vscode": {
   "interpreter": {
    "hash": "aee8b7b246df8f9039afb4144a1f6fd8d2ca17a180786b69acc140d282b71a49"
   }
  }
 },
 "nbformat": 4,
 "nbformat_minor": 2
}
