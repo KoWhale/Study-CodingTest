{
 "cells": [
  {
   "cell_type": "code",
   "execution_count": 44,
   "metadata": {},
   "outputs": [
    {
     "data": {
      "text/plain": [
       "[8, 10, 25]"
      ]
     },
     "execution_count": 44,
     "metadata": {},
     "output_type": "execute_result"
    }
   ],
   "source": [
    "# 15:08 ~ 16:05 \n",
    "# 쓰레기 같은 문제, x,y도 일반적인 문제랑 바뀌어있고 rows, columns도 바뀌어있음\n",
    "# 뭐 내가 똑바로 읽지 않은 잘못이겠지\n",
    "\n",
    "def solution(rows, columns, queries):\n",
    "    answer, array = [], []\n",
    "    i = 1\n",
    "    for col in range(rows):\n",
    "        temp = []\n",
    "        for row in range(columns):\n",
    "            temp.append(i)\n",
    "            i += 1\n",
    "        array.append(temp)\n",
    "\n",
    "    for min_y, min_x, max_y, max_x in queries:\n",
    "        min_y, min_x, max_y, max_x = min_y-1, min_x-1, max_y-1, max_x-1\n",
    "        coords = []\n",
    "\n",
    "        for x in range(min_x, max_x):\n",
    "            coords.append((x, min_y))\n",
    "        for y in range(min_y, max_y):\n",
    "            coords.append((max_x, y))\n",
    "        for x in range(max_x, min_x, -1):\n",
    "            coords.append((x, max_y))\n",
    "        for y in range(max_y, min_y, -1):\n",
    "            coords.append((min_x, y))\n",
    "\n",
    "        cur_min = array[min_y][min_x]\n",
    "        temp = array[min_y][min_x]\n",
    "        for x, y in coords[1:]:\n",
    "            temp2 = array[y][x]\n",
    "            array[y][x] = temp\n",
    "            temp = temp2\n",
    "            cur_min = min(cur_min, temp)\n",
    "        array[min_y][min_x] = temp\n",
    "        answer.append(cur_min)\n",
    "\n",
    "    return answer\n",
    "\n",
    "solution(6,6,[[2,2,5,4],[3,3,6,6],[5,1,6,3]])\n",
    "# solution(100,97,[[1,1,100,97]])"
   ]
  }
 ],
 "metadata": {
  "kernelspec": {
   "display_name": "Python 3.9.10 64-bit",
   "language": "python",
   "name": "python3"
  },
  "language_info": {
   "codemirror_mode": {
    "name": "ipython",
    "version": 3
   },
   "file_extension": ".py",
   "mimetype": "text/x-python",
   "name": "python",
   "nbconvert_exporter": "python",
   "pygments_lexer": "ipython3",
   "version": "3.9.10"
  },
  "orig_nbformat": 4,
  "vscode": {
   "interpreter": {
    "hash": "aee8b7b246df8f9039afb4144a1f6fd8d2ca17a180786b69acc140d282b71a49"
   }
  }
 },
 "nbformat": 4,
 "nbformat_minor": 2
}
