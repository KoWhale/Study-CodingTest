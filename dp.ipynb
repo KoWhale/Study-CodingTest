{
 "cells": [
  {
   "cell_type": "code",
   "execution_count": 14,
   "metadata": {},
   "outputs": [
    {
     "name": "stdout",
     "output_type": "stream",
     "text": [
      "102334155\n"
     ]
    }
   ],
   "source": [
    "#재귀함수\n",
    "#피보나치 함수 코드\n",
    "def fibo(x):\n",
    "    if x == 1 or x == 2:\n",
    "        return 1\n",
    "\n",
    "    return fibo(x-1)+fibo(x-2)\n",
    "print(fibo(40))"
   ]
  },
  {
   "cell_type": "code",
   "execution_count": 18,
   "metadata": {},
   "outputs": [
    {
     "name": "stdout",
     "output_type": "stream",
     "text": [
      "218922995834555169026\n"
     ]
    }
   ],
   "source": [
    "#메모라이제이션을 사용한 재귀함수\n",
    "#피보나치 함수 코드\n",
    "fibo_array = [0] * 100\n",
    "\n",
    "def fibo(x):\n",
    "    if x == 1 or x == 2:\n",
    "        return 1\n",
    "    if fibo_array[x] != 0:\n",
    "        return fibo_array[x]\n",
    "\n",
    "    fibo_array[x] = fibo(x-1) + fibo(x-2)\n",
    "    return fibo_array[x]\n",
    "print(fibo(99))"
   ]
  },
  {
   "cell_type": "code",
   "execution_count": 19,
   "metadata": {},
   "outputs": [
    {
     "name": "stdout",
     "output_type": "stream",
     "text": [
      "218922995834555169027\n"
     ]
    }
   ],
   "source": [
    "#메모라이제이션 사용한 반복문\n",
    "#피보나치 함수 코드\n",
    "fibo_array = [0] * 100\n",
    "fibo_array[0] = 1\n",
    "fibo_array[1] = 1\n",
    "\n",
    "for i in range(3,100):\n",
    "    fibo_array[i] = fibo_array[i-1] + fibo_array[i-2]\n",
    "print(sum(fibo_array))"
   ]
  },
  {
   "cell_type": "code",
   "execution_count": 25,
   "metadata": {},
   "outputs": [
    {
     "name": "stdout",
     "output_type": "stream",
     "text": [
      "3\n"
     ]
    }
   ],
   "source": [
    "#1로 만들기\n",
    "#16:57 ~ 17:16\n",
    "\n",
    "X = int(input())\n",
    "d = [10e8] * 30001\n",
    "d[1] = 0\n",
    "d[2] = 1\n",
    "d[3] = 1\n",
    "d[5] = 1\n",
    "for i in range(4,X+1):\n",
    "    d[i] = d[i-1] + 1\n",
    "    if i % 5 == 0 and d[i//5]+1 < d[i]:\n",
    "        d[i] = d[i//5]+1\n",
    "    if i % 3 == 0 and d[i//3]+1 < d[i]:\n",
    "        d[i] = d[i//3]+1\n",
    "    if i % 2 == 0 and d[i//2]+1 < d[i]:\n",
    "        d[i] = d[i//2]+1\n",
    "print(d[X])"
   ]
  },
  {
   "cell_type": "code",
   "execution_count": 28,
   "metadata": {},
   "outputs": [
    {
     "name": "stdout",
     "output_type": "stream",
     "text": [
      "8\n"
     ]
    }
   ],
   "source": [
    "#개미 전사\n",
    "#17:21 ~ 17:28\n",
    "\n",
    "N = int(input())\n",
    "warehouse = list(map(int, input().split()))\n",
    "warehouse.insert(0, 0)\n",
    "d = [0] * 101\n",
    "d[1] = warehouse[1]\n",
    "d[2] = warehouse[2]\n",
    "for i in range(3, N+1):\n",
    "    if d[i-2] + warehouse[i] > d[i-1]:\n",
    "        d[i] = d[i-2] + warehouse[i]\n",
    "    else:\n",
    "        d[i] = d[i-1]\n",
    "\n",
    "print(d[N])"
   ]
  }
 ],
 "metadata": {
  "interpreter": {
   "hash": "aee8b7b246df8f9039afb4144a1f6fd8d2ca17a180786b69acc140d282b71a49"
  },
  "kernelspec": {
   "display_name": "Python 3.9.10 64-bit",
   "language": "python",
   "name": "python3"
  },
  "language_info": {
   "codemirror_mode": {
    "name": "ipython",
    "version": 3
   },
   "file_extension": ".py",
   "mimetype": "text/x-python",
   "name": "python",
   "nbconvert_exporter": "python",
   "pygments_lexer": "ipython3",
   "version": "3.9.10"
  },
  "orig_nbformat": 4
 },
 "nbformat": 4,
 "nbformat_minor": 2
}
