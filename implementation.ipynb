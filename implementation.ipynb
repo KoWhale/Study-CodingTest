{
 "cells": [
  {
   "cell_type": "code",
   "execution_count": 3,
   "metadata": {},
   "outputs": [
    {
     "name": "stdout",
     "output_type": "stream",
     "text": [
      "3 4\n"
     ]
    }
   ],
   "source": [
    "#예제 문제 상하좌우\n",
    "#14:55 ~ 15:03\n",
    "N = int(input())\n",
    "command_list = input().split()\n",
    "\n",
    "# col = 1\n",
    "# row = 1\n",
    "\n",
    "# for command in command_list:\n",
    "#     if command == 'U':\n",
    "#         col -= 1\n",
    "#         if col <= 0:\n",
    "#             col = 1\n",
    "#     elif command == 'D':\n",
    "#         col += 1\n",
    "#         if col > N:\n",
    "#             col = N\n",
    "#     elif command == 'L':\n",
    "#         row -= 1\n",
    "#         if row <= 0:\n",
    "#             row = 1\n",
    "#     elif command == 'R':\n",
    "#         row += 1\n",
    "#         if row > N:\n",
    "#             row = N\n",
    "\n",
    "# print(col, row)\n",
    "\n",
    "#답안을 보고난 후 보이는 문제점과 보완 코드\n",
    "#좌표를 벗어났는지를 확인하는 조건문을 계속 검사하는 것이 눈에 걸렸는데 맞았음\n",
    "#또한 행 이동과 열 이동을 따로봤기 때문에 좌표를 넘어가는 값이 행렬 중 하나라도 넘어가면 취소해야하는데 대입해버림\n",
    "# - 다시 생각해보니 어차피 행과 열 중 하나만 값을 갖기 때문에 행이 벗어난다하더라도 열은 0이 더해지니 상관 없음\n",
    "# ~ 15:08\n",
    "\n",
    "direction = {'U':(-1,0), 'D':(1,0), 'L':(0,-1), 'R':(0,1)}\n",
    "col, row = 1, 1\n",
    "\n",
    "for command in command_list:\n",
    "    dy, dx =  direction[command]\n",
    "    ny, nx = col + dy, row + dx\n",
    "    if ny < 1 or nx < 1 or ny > N or nx > N:\n",
    "        continue\n",
    "    col, row = ny, nx\n",
    "\n",
    "print(col, row)"
   ]
  },
  {
   "cell_type": "code",
   "execution_count": 10,
   "metadata": {},
   "outputs": [
    {
     "name": "stdout",
     "output_type": "stream",
     "text": [
      "11475\n"
     ]
    }
   ],
   "source": [
    "#예제 문제 시각\n",
    "#16:30 ~ 16:44\n",
    "\n",
    "#어차피 변수의 시간 단위이기 때문에 분, 초에서 나오는 경우의 수는 고정되어 있음\n",
    "#다만 3이 들어가는 시각과 3이 들어가는 분, 3이 들어가는 초에 따라 경우의 수가 나뉨\n",
    "#따라서 굳이 3중 반복문을 돌릴 필요 없이 3이 포함된 시간의 경우의 수와 3이 없는 시간의 경우의 수만 입력까지 더해주면됨\n",
    "\n",
    "#03시\n",
    "#13시\n",
    "#23시\n",
    "#       03분\n",
    "#       13분\n",
    "#       23분\n",
    "##      3X분\n",
    "#       43분\n",
    "#       53분\n",
    "#               03초\n",
    "#               13초\n",
    "#               23초\n",
    "##              3X초\n",
    "#               43초\n",
    "#               53초\n",
    "\n",
    "#1시간 = 60분 = 3600초\n",
    "#1분동안 3 들어가는 초 = 1 + 1 + 1 + 10 + 1 + = 5 + 10 = 15\n",
    "#1시간동안 3 들어가는 분 = 15\n",
    "#1시간동안 15분은 계속 3이 들어가고, 45분은 3 들어가는 초를 세면 됨\n",
    "#15 * 60 + 45 * 15 = 1575\n",
    "#1시간동안 3 들어가있는 시의 경우 = 3600\n",
    "#1시간동안 3이 없는 시의 경우 = 1575\n",
    "\n",
    "N = int(input())\n",
    "count = 1575\n",
    "\n",
    "for i in range(1,N+1):\n",
    "    if '3' in str(i):\n",
    "        count += 3600\n",
    "    else:\n",
    "        count += 1575\n",
    "print(count)"
   ]
  },
  {
   "cell_type": "code",
   "execution_count": 14,
   "metadata": {},
   "outputs": [
    {
     "name": "stdout",
     "output_type": "stream",
     "text": [
      "2\n"
     ]
    }
   ],
   "source": [
    "#왕실의 나이트\n",
    "#16:51 ~ 17:00\n",
    "\n",
    "N = input()\n",
    "col = N[0]\n",
    "row = int(N[1])\n",
    "\n",
    "if col == 'a':\n",
    "    col = 1\n",
    "elif col == 'b':\n",
    "    col = 2\n",
    "elif col == 'c':\n",
    "    col = 3\n",
    "elif col == 'd':\n",
    "    col = 4\n",
    "elif col == 'e':\n",
    "    col = 5\n",
    "elif col == 'f':\n",
    "    col = 6\n",
    "elif col == 'g':\n",
    "    col = 7\n",
    "else:\n",
    "    col = 8\n",
    "\n",
    "dx = [1,2,2,1,-1,-2,-2,-1]\n",
    "dy = [2,1,-1,-2,-2,-1,1,2]\n",
    "\n",
    "count = 0\n",
    "for i in range(len(dx)):\n",
    "    nx, ny = row + dx[i], col + dy[i]\n",
    "    if nx < 1 or ny < 1 or nx > 8 or ny > 8:\n",
    "        continue\n",
    "    count += 1\n",
    "print(count)\n",
    "\n",
    "#답안을 보고난 후 보이는 문제점\n",
    "#nx, ny라는 이름과 col, row를 혼용하여 사용하는 것\n",
    "#x, y, nx, ny로 통일하던지 col, row, new_col, new_row로 통일하던지 해야함\n"
   ]
  },
  {
   "cell_type": "code",
   "execution_count": 26,
   "metadata": {},
   "outputs": [
    {
     "name": "stdout",
     "output_type": "stream",
     "text": [
      "cur pos : 1 1  dir :  0\n",
      "1 0\n",
      "cur pos : 1 1  dir :  1\n",
      "1 2\n",
      "1 1\n",
      "2\n"
     ]
    }
   ],
   "source": [
    "#게임 개발\n",
    "#17:02 ~ 17:50\n",
    "\n",
    "move_table = [(0,-1),(-1,0),(0,1),(1,0)]\n",
    "Y, X = 0, 1\n",
    "\n",
    "N, M = 4, 4\n",
    "x, y, direction = 1, 1, 0\n",
    "table = [[1,1,1,1],[1,0,0,1],[1,1,0,1],[1,1,1,1]]\n",
    "\n",
    "# N, M = map(int, input().split())\n",
    "# x, y, direction = map(int, input().split())\n",
    "# x -= 1\n",
    "# y -= 1\n",
    "# table = [0 for _ in range(N)]\n",
    "# for i in range(N):\n",
    "    # table[i] = list(map(int, input().split()))\n",
    "\n",
    "count = 1\n",
    "GAME_OVER = False\n",
    "while GAME_OVER == False:\n",
    "    for turn in range(4):\n",
    "        print(\"cur pos :\", y,x, \" dir : \", direction)\n",
    "        next_direction = (direction + turn) % 4\n",
    "        ny, nx = y + move_table[next_direction][Y], x + move_table[next_direction][X]\n",
    "        print(ny, nx)\n",
    "        if table[ny][nx] == 0:\n",
    "            table[y][x] = 1\n",
    "            y, x = ny, nx\n",
    "            direction = (direction + i) % 4\n",
    "            print(ny, ny)\n",
    "            count += 1\n",
    "            break\n",
    "        else:\n",
    "            direction = (direction+1) % 4\n",
    "            continue\n",
    "\n",
    "    back_direction = (direction + 2) % 4\n",
    "    back_y, back_x = move_table[back_direction][Y], move_table[back_direction][X]\n",
    "    if table[back_y][back_x] == 1:\n",
    "        GAME_OVER = True\n",
    "        break\n",
    "print(count)"
   ]
  }
 ],
 "metadata": {
  "interpreter": {
   "hash": "aee8b7b246df8f9039afb4144a1f6fd8d2ca17a180786b69acc140d282b71a49"
  },
  "kernelspec": {
   "display_name": "Python 3.9.10 64-bit",
   "language": "python",
   "name": "python3"
  },
  "language_info": {
   "codemirror_mode": {
    "name": "ipython",
    "version": 3
   },
   "file_extension": ".py",
   "mimetype": "text/x-python",
   "name": "python",
   "nbconvert_exporter": "python",
   "pygments_lexer": "ipython3",
   "version": "3.9.10"
  },
  "orig_nbformat": 4
 },
 "nbformat": 4,
 "nbformat_minor": 2
}
