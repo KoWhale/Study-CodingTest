{
 "cells": [
  {
   "cell_type": "code",
   "execution_count": null,
   "metadata": {},
   "outputs": [],
   "source": [
    "#설탕 배달\n",
    "N = int(input())\n",
    "\n",
    "count_5 = N // 5\n",
    "N = N % 5\n",
    "\n",
    "count_3 = -1\n",
    "while count_5 >= 0:\n",
    "    if N % 3 == 0:\n",
    "        count_3 = N // 3\n",
    "        break\n",
    "    else:\n",
    "        count_5 -= 1\n",
    "        N += 5\n",
    "\n",
    "answer = 0\n",
    "if count_5 != 0:\n",
    "    answer += count_5\n",
    "if count_3 != 0:\n",
    "    answer += count_3\n",
    "\n",
    "if answer == -2:\n",
    "    print(-1)\n",
    "else:\n",
    "    print(answer)"
   ]
  }
 ],
 "metadata": {
  "language_info": {
   "name": "python"
  },
  "orig_nbformat": 4
 },
 "nbformat": 4,
 "nbformat_minor": 2
}
