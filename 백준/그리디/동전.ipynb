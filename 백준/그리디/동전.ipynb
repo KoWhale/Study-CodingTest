{
 "cells": [
  {
   "cell_type": "code",
   "execution_count": null,
   "metadata": {},
   "outputs": [],
   "source": [
    "#동전 0\n",
    "N, K = map(int, input().split())\n",
    "coins = []\n",
    "for _ in range(N):\n",
    "    coins.append(int(input()))\n",
    "\n",
    "coins.reverse()\n",
    "count = 0\n",
    "for coin in coins:\n",
    "    count += K // coin\n",
    "    K %= coin\n",
    "\n",
    "print(count)"
   ]
  }
 ],
 "metadata": {
  "language_info": {
   "name": "python"
  },
  "orig_nbformat": 4
 },
 "nbformat": 4,
 "nbformat_minor": 2
}
