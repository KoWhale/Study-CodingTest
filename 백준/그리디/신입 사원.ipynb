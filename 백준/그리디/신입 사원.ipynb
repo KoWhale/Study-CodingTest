{
 "cells": [
  {
   "cell_type": "code",
   "execution_count": 1,
   "metadata": {},
   "outputs": [],
   "source": [
    "#1 4\n",
    "#2 5\n",
    "#3 6\n",
    "#4 2\n",
    "#5 7\n",
    "#6 1\n",
    "#7 3"
   ]
  },
  {
   "cell_type": "code",
   "execution_count": null,
   "metadata": {},
   "outputs": [],
   "source": [
    "testcase = int(input())\n",
    "answers = []\n",
    "\n",
    "for _ in range(testcase):\n",
    "    p_cnt = int(input())\n",
    "    cur_grades = []\n",
    "    for __ in range(p_cnt):\n",
    "        a,b = map(int, input().split())\n",
    "        cur_grades.append((a,b))\n",
    "    cur_grades = sorted(cur_grades, key=lambda a:a[0])\n",
    "\n",
    "    for i in range(len(cur_grades)):\n",
    "        for j in range(i+1, len(cur_grades)):\n",
    "            "
   ]
  }
 ],
 "metadata": {
  "kernelspec": {
   "display_name": "Python 3.9.10 64-bit",
   "language": "python",
   "name": "python3"
  },
  "language_info": {
   "codemirror_mode": {
    "name": "ipython",
    "version": 3
   },
   "file_extension": ".py",
   "mimetype": "text/x-python",
   "name": "python",
   "nbconvert_exporter": "python",
   "pygments_lexer": "ipython3",
   "version": "3.9.10"
  },
  "orig_nbformat": 4,
  "vscode": {
   "interpreter": {
    "hash": "aee8b7b246df8f9039afb4144a1f6fd8d2ca17a180786b69acc140d282b71a49"
   }
  }
 },
 "nbformat": 4,
 "nbformat_minor": 2
}
