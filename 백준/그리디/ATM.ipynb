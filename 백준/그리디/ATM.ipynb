{
 "cells": [
  {
   "cell_type": "code",
   "execution_count": null,
   "metadata": {},
   "outputs": [],
   "source": [
    "#ATM\n",
    "N = int(input())\n",
    "times = list(map(int, input().split()))\n",
    "\n",
    "times.sort()\n",
    "total_person_spent = 0\n",
    "prev_person_spent = 0\n",
    "\n",
    "for time in times:\n",
    "    cur_person_spent = prev_person_spent + time\n",
    "    prev_person_spent = cur_person_spent\n",
    "    total_person_spent += cur_person_spent\n",
    "\n",
    "print(total_person_spent)"
   ]
  }
 ],
 "metadata": {
  "language_info": {
   "name": "python"
  },
  "orig_nbformat": 4
 },
 "nbformat": 4,
 "nbformat_minor": 2
}
