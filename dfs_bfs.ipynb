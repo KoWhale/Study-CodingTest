{
 "cells": [
  {
   "cell_type": "code",
   "execution_count": null,
   "metadata": {},
   "outputs": [],
   "source": [
    "INFI = 1e9\n",
    "CONN = 1\n",
    "SELF = 0\n",
    "\n",
    "graph = [\n",
    "    [SELF, CONN, CONN, INFI, INFI, INFI, INFI, CONN],\n",
    "    [CONN, SELF, INFI, INFI, INFI, INFI, CONN, INFI],\n",
    "    [CONN, INFI, SELF, CONN, CONN, INFI, INFI, INFI],\n",
    "    [INFI, INFI, CONN, SELF, CONN, INFI, INFI, INFI],\n",
    "    [INFI, INFI, CONN, CONN, SELF, INFI, INFI, INFI],\n",
    "    [INFI, INFI, INFI, INFI, INFI, SELF, CONN, INFI],\n",
    "    [INFI, CONN, INFI, INFI, INFI, CONN, SELF, INFI],\n",
    "    [CONN, INFI, INFI, INFI, INFI, INFI, CONN, SELF]\n",
    "]\n",
    "\n",
    "# for col in graph:\n",
    "#     for row in col:\n",
    "#         if row == SELF:\n",
    "#             print('-', end='  ')\n",
    "#         elif row == CONN:\n",
    "#             print('o', end='  ')\n",
    "#         elif row == INFI:\n",
    "#             print('x', end='  ')\n",
    "#     print()"
   ]
  },
  {
   "cell_type": "code",
   "execution_count": 18,
   "metadata": {},
   "outputs": [
    {
     "name": "stdout",
     "output_type": "stream",
     "text": [
      "1 2 7 6 8 3 4 5 "
     ]
    }
   ],
   "source": [
    "graph = [\n",
    "    [],\n",
    "    [2,3,8],\n",
    "    [1,7],\n",
    "    [1,4,5],\n",
    "    [3,5],\n",
    "    [3,4],\n",
    "    [7],\n",
    "    [2,6,8],\n",
    "    [1,7]\n",
    "]\n",
    "\n",
    "visited = []\n",
    "\n",
    "def dfs(node):\n",
    "    if node in visited:\n",
    "        return\n",
    "        \n",
    "    visited.append(node)\n",
    "    print(node, end=' ')\n",
    "\n",
    "    #이미 그래프의 인접노드는 작은순서대로 정렬되어 있음\n",
    "    for i in graph[node]:\n",
    "        dfs(i)\n",
    "\n",
    "dfs(1)"
   ]
  },
  {
   "cell_type": "code",
   "execution_count": 17,
   "metadata": {},
   "outputs": [
    {
     "name": "stdout",
     "output_type": "stream",
     "text": [
      "1 2 7 6 8 3 4 5 "
     ]
    }
   ],
   "source": [
    "#책에 나와있는 DFS 예제\n",
    "graph = [\n",
    "    [],\n",
    "    [2,3,8],\n",
    "    [1,7],\n",
    "    [1,4,5],\n",
    "    [3,5],\n",
    "    [3,4],\n",
    "    [7],\n",
    "    [2,6,8],\n",
    "    [1,7]\n",
    "]\n",
    "\n",
    "visited = [False] * 9\n",
    "\n",
    "def dfs(node):\n",
    "    visited[node] = True\n",
    "    print(node, end=' ')\n",
    "\n",
    "    for i in graph[node]:\n",
    "        if not visited[i]:\n",
    "            dfs(i)\n",
    "\n",
    "dfs(1)"
   ]
  },
  {
   "cell_type": "code",
   "execution_count": 15,
   "metadata": {},
   "outputs": [
    {
     "name": "stdout",
     "output_type": "stream",
     "text": [
      "1 2 3 8 7 4 5 6 "
     ]
    }
   ],
   "source": [
    "from collections import deque\n",
    "\n",
    "graph = [\n",
    "    [],\n",
    "    [2,3,8],\n",
    "    [1,7],\n",
    "    [1,4,5],\n",
    "    [3,5],\n",
    "    [3,4],\n",
    "    [7],\n",
    "    [2,6,8],\n",
    "    [1,7]\n",
    "]\n",
    "\n",
    "visited = []\n",
    "queue = deque([1])\n",
    "\n",
    "def bfs(node):\n",
    "    while queue:\n",
    "        if node not in visited:\n",
    "            visited.append(node)\n",
    "            print(node, end=' ')\n",
    "\n",
    "            for adjacency in graph[node]:\n",
    "                queue.append(adjacency)\n",
    "\n",
    "        i = queue.popleft()\n",
    "        bfs(i)\n",
    "\n",
    "bfs(1)"
   ]
  },
  {
   "cell_type": "code",
   "execution_count": 19,
   "metadata": {},
   "outputs": [
    {
     "name": "stdout",
     "output_type": "stream",
     "text": [
      "1 2 3 8 7 4 5 6 "
     ]
    }
   ],
   "source": [
    "#책에 나와있는 BFS 예제\n",
    "from collections import deque\n",
    "\n",
    "graph = [\n",
    "    [],\n",
    "    [2,3,8],\n",
    "    [1,7],\n",
    "    [1,4,5],\n",
    "    [3,5],\n",
    "    [3,4],\n",
    "    [7],\n",
    "    [2,6,8],\n",
    "    [1,7]\n",
    "]\n",
    "\n",
    "visited = [False] * 9\n",
    "\n",
    "def bfs(start):\n",
    "    queue = deque([start])\n",
    "    visited[start] = True\n",
    "\n",
    "    while queue:\n",
    "        node = queue.popleft()\n",
    "        print(node, end=' ')\n",
    "\n",
    "        for i in graph[node]:\n",
    "            if not visited[i]:\n",
    "                queue.append(i)\n",
    "                visited[i] = True\n",
    "\n",
    "bfs(1)"
   ]
  },
  {
   "cell_type": "code",
   "execution_count": 28,
   "metadata": {},
   "outputs": [
    {
     "name": "stdout",
     "output_type": "stream",
     "text": [
      "3\n"
     ]
    }
   ],
   "source": [
    "#음료수 얼려 먹기\n",
    "#15:40 ~ 16:15\n",
    "Y = 0\n",
    "X = 1\n",
    "delta = [(-1,0),(0,1),(1,0),(0,-1)]\n",
    "\n",
    "N, M = map(int, input().split())\n",
    "array = []\n",
    "for _ in range(N):\n",
    "    array.append(list(map(int, input().split())))\n",
    "\n",
    "def dfs(y, x, diff):\n",
    "    if array[y][x] != 0:\n",
    "        return\n",
    "    \n",
    "    array[y][x] = diff\n",
    "\n",
    "    for d in delta:\n",
    "        ny, nx = y + d[Y], x + d[X]\n",
    "        if ny < 0 or nx < 0 or ny >= N or nx >= M:\n",
    "            continue\n",
    "        dfs(ny,nx,diff)\n",
    "\n",
    "diff = -1\n",
    "for col in range(N):\n",
    "    for row in range(M):\n",
    "        if array[col][row] == 0:\n",
    "            dfs(col, row, diff)\n",
    "            diff -= 1\n",
    "\n",
    "count = set()\n",
    "for col in range(N):\n",
    "    for row in range(M):\n",
    "        count.add(array[col][row])\n",
    "\n",
    "print(len(count) - 1)\n",
    "# total_min = 1e9\n",
    "# for col in array:\n",
    "#     in_col_min = min(col)\n",
    "#     total_min = min(in_col_min, total_min)"
   ]
  },
  {
   "cell_type": "code",
   "execution_count": 16,
   "metadata": {},
   "outputs": [
    {
     "name": "stdout",
     "output_type": "stream",
     "text": [
      "10\n",
      "3 0 5 0 7 0 \n",
      "2 3 4 5 6 7 \n",
      "0 0 0 0 0 8 \n",
      "14 13 12 11 10 9 \n",
      "15 14 13 12 11 10 \n"
     ]
    }
   ],
   "source": [
    "#미로 탈출\n",
    "#16:17 ~ 16:49\n",
    "\n",
    "from collections import deque\n",
    "\n",
    "N, M = map(int, input().split())\n",
    "array = []\n",
    "for _ in range(N):\n",
    "    array.append([int(i) for i in input()])\n",
    "\n",
    "delta = [(-1,0),(0,1),(1,0),(0,-1)]\n",
    "Y = 0\n",
    "X = 1\n",
    "STEP = 2\n",
    "\n",
    "step = 1\n",
    "def bfs():\n",
    "    queue = deque([(0,0,step)])\n",
    "    array[0][0] = step\n",
    "\n",
    "    while queue:\n",
    "        poped = queue.popleft()\n",
    "\n",
    "        for d in delta:\n",
    "            ny, nx = poped[Y] + d[Y], poped[X] + d[X]\n",
    "            if ny < 0 or nx < 0 or ny >= N or nx >= M:\n",
    "                continue\n",
    "\n",
    "            if array[ny][nx] == 0:\n",
    "                continue\n",
    "\n",
    "            if array[ny][nx] == 1:# or array[ny][nx] > poped[STEP]:\n",
    "                array[ny][nx] = array[poped[Y]][poped[X]]+1\n",
    "                queue.append((ny,nx,poped[STEP]+1))\n",
    "\n",
    "bfs()\n",
    "print(array[N-1][M-1])\n",
    "\n",
    "for col in range(N):\n",
    "    for row in range(M):\n",
    "        print(array[col][row], end=' ')\n",
    "    print()"
   ]
  },
  {
   "cell_type": "code",
   "execution_count": 17,
   "metadata": {},
   "outputs": [
    {
     "name": "stdout",
     "output_type": "stream",
     "text": [
      "10\n",
      "3 0 5 0 7 0 \n",
      "2 3 4 5 6 7 \n",
      "0 0 0 0 0 8 \n",
      "14 13 12 11 10 9 \n",
      "15 14 13 12 11 10 \n"
     ]
    }
   ],
   "source": [
    "#미로 탈출\n",
    "#첫번째 칸이 어떻게 나오는지 궁금해서 적어봄\n",
    "\n",
    "from collections import deque\n",
    "\n",
    "n, m = map(int, input().split())\n",
    "graph = []\n",
    "for i in range(n):\n",
    "    graph.append(list(map(int, input())))\n",
    "\n",
    "dx = [-1,1,0,0]\n",
    "dy = [0,0,-1,1]\n",
    "\n",
    "def bfs(x,y):\n",
    "    queue = deque()\n",
    "    queue.append((x,y))\n",
    "\n",
    "    while queue:\n",
    "        x, y = queue.popleft()\n",
    "        for i in range(4):\n",
    "            nx = x + dx[i]\n",
    "            ny = y + dy[i]\n",
    "\n",
    "            if nx < 0 or ny < 0 or nx >= n or ny >= m:\n",
    "                continue\n",
    "\n",
    "            if graph[nx][ny] == 0:\n",
    "                continue\n",
    "            if graph[nx][ny] == 1:\n",
    "                graph[nx][ny] = graph[x][y] + 1\n",
    "                queue.append((nx,ny))\n",
    "\n",
    "    return graph[n-1][m-1]\n",
    "\n",
    "print(bfs(0,0))\n",
    "for col in range(N):\n",
    "    for row in range(M):\n",
    "        print(graph[col][row], end=' ')\n",
    "    print()"
   ]
  }
 ],
 "metadata": {
  "interpreter": {
   "hash": "aee8b7b246df8f9039afb4144a1f6fd8d2ca17a180786b69acc140d282b71a49"
  },
  "kernelspec": {
   "display_name": "Python 3.9.10 64-bit",
   "language": "python",
   "name": "python3"
  },
  "language_info": {
   "codemirror_mode": {
    "name": "ipython",
    "version": 3
   },
   "file_extension": ".py",
   "mimetype": "text/x-python",
   "name": "python",
   "nbconvert_exporter": "python",
   "pygments_lexer": "ipython3",
   "version": "3.9.10"
  },
  "orig_nbformat": 4
 },
 "nbformat": 4,
 "nbformat_minor": 2
}
